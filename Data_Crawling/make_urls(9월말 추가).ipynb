{
 "cells": [
  {
   "cell_type": "code",
   "execution_count": 6,
   "metadata": {},
   "outputs": [],
   "source": [
    "# 타자 기본\n",
    "hitter_h = 'http://www.statiz.co.kr/stat.php?mid=stat&re=0&ys=2020&ye=2020&se=0&te=&tm=&ty=0&qu=auto&po=0&as=&ae=&hi=&un=&pl=&da=15&o1=AVG&o2=AVG&de=1&lr=1&tr=&cv=0&ml=1&sn=30&pa=0&cn=&si=999&si_it=1&si_ds='\n",
    "hitter_m = '&si_de='\n",
    "hitter_t = '&si_wd=&si_tm=&si_ha=&si_te=&si_st=&si_as=&si_or=&si_ty=&si_pl=&si_in=&si_on=&si_um=&si_oc=&si_bs=&si_sc=&si_cnt=&si_aft=&si_li='"
   ]
  },
  {
   "cell_type": "code",
   "execution_count": 7,
   "metadata": {},
   "outputs": [],
   "source": [
    "# 타자 득점권\n",
    "\n",
    "s_hitter_h = 'http://www.statiz.co.kr/stat.php?mid=stat&re=0&ys=2020&ye=2020&se=0&te=&tm=&ty=0&qu=auto&po=0&as=&ae=&hi=&un=&pl=&da=15&o1=AVG&o2=AVG&de=1&lr=1&tr=&cv=0&ml=1&sn=30&pa=0&cn=&si=999&si_it=1&si_ds='\n",
    "s_hitter_m = '&si_de='\n",
    "s_hitter_t = '&si_wd=&si_tm=&si_ha=&si_te=&si_st=&si_as=&si_or=&si_ty=&si_pl=&si_in=&si_on=&si_um=&si_oc=&si_bs=444&si_sc=&si_cnt=&si_aft=&si_li='"
   ]
  },
  {
   "cell_type": "code",
   "execution_count": 8,
   "metadata": {},
   "outputs": [],
   "source": [
    "# 투수 기본\n",
    "pitcher_h = 'http://www.statiz.co.kr/stat.php?mid=stat&re=1&ys=2020&ye=2020&se=0&te=&tm=&ty=0&qu=auto&po=0&as=&ae=&hi=&un=&pl=&da=1&o1=WAR&o2=OutCount&de=1&lr=1&tr=&cv=&ml=1&sn=30&pa=0&cn=&si=999&si_it=1&si_ds='\n",
    "pitcher_m = '&si_de='\n",
    "pitcher_t = '&si_wd=&si_tm=&si_ha=&si_te=&si_st=&si_as=&si_or=&si_ty=&si_pl=&si_in=&si_on=&si_um=&si_oc=&si_bs=&si_sc=&si_cnt=&si_aft=&si_li='"
   ]
  },
  {
   "cell_type": "code",
   "execution_count": 9,
   "metadata": {},
   "outputs": [],
   "source": [
    "# 투수 득점권\n",
    "\n",
    "s_pitcher_h = 'http://www.statiz.co.kr/stat.php?mid=stat&re=1&ys=2020&ye=2020&se=0&te=&tm=&ty=0&qu=auto&po=0&as=&ae=&hi=&un=&pl=&da=15&o1=ERAP&o2=OutCount&de=1&lr=1&tr=&cv=&ml=1&sn=30&pa=0&cn=&si=999&si_it=1&si_ds='\n",
    "s_pitcher_m = '&si_de='\n",
    "s_pitcher_t = '&si_wd=&si_tm=&si_ha=&si_te=&si_st=&si_as=&si_or=&si_ty=&si_pl=&si_in=&si_on=&si_um=&si_oc=&si_bs=444&si_sc=&si_cnt=&si_aft=&si_li='"
   ]
  },
  {
   "cell_type": "code",
   "execution_count": 10,
   "metadata": {},
   "outputs": [
    {
     "name": "stdout",
     "output_type": "stream",
     "text": [
      "[1, 2, 3, 4, 5, 6, 7, 8, 9, 10, 11, 12, 13, 14, 15, 16, 17, 18, 19, 20, 21, 22, 23, 24, 25, 26, 27, 28, 29, 30, 31]\n"
     ]
    }
   ],
   "source": [
    "lst = list()\n",
    "for i in range(1, 32):\n",
    "    lst.append(i)\n",
    "print(lst)"
   ]
  },
  {
   "cell_type": "code",
   "execution_count": 11,
   "metadata": {},
   "outputs": [],
   "source": [
    "months = ['07', '08', '09']\n",
    "\n",
    "# 7월 19일 이후 ~ 9월 20일까지 (경기 없었던 날 제외)\n",
    "date_jul = [19, 21, 22, 23, 24, 25, 26, 27, 28, 29, 30, 31]\n",
    "date_aug = [1, 2, 4, 5, 6, 7, 8, 9, 11, 12, 13, 14, 15, 16, 18, 19, 20, 21, 22, 23, 24, 25, 26, 27, 28, 29, 30]\n",
    "date_sep = [1, 2, 3, 4, 5, 6, 7, 8, 9, 10, 11, 12, 13, 15, 16, 17, 18, 19, 20]\n",
    "\n",
    "## 22일 ~ 29일 잔여 경기\n",
    "# 22, 23, 24, 25, 26, 27, 29\n",
    "date_jul = []\n",
    "date_aug = []\n",
    "date_sep = [22, 23, 24, 25, 26, 27, 29]\n",
    "\n",
    "\n",
    "dates = [date_jul, date_aug, date_sep]"
   ]
  },
  {
   "cell_type": "code",
   "execution_count": 12,
   "metadata": {},
   "outputs": [],
   "source": [
    "def make_url(month, date_list):\n",
    "    hitter_list = []\n",
    "    s_hitter_list = []\n",
    "    pitcher_list = []\n",
    "    s_pitcher_list = []\n",
    "    \n",
    "    for date in date_list:\n",
    "        if date < 10:\n",
    "            date = '0' + str(date)\n",
    "        else:\n",
    "            date = str(date)\n",
    "        \n",
    "        today = month + '-' + date\n",
    "        \n",
    "        hitter_list.append(hitter_h + today + hitter_m + today + hitter_t)\n",
    "        s_hitter_list.append(s_hitter_h + today + s_hitter_m + today + s_hitter_t)\n",
    "        pitcher_list.append(pitcher_h + today + pitcher_m + today + pitcher_t)\n",
    "        s_pitcher_list.append(s_pitcher_h + today + s_pitcher_m + today + s_pitcher_t)\n",
    "    \n",
    "    return hitter_list, s_hitter_list, pitcher_list, s_pitcher_list"
   ]
  },
  {
   "cell_type": "code",
   "execution_count": 13,
   "metadata": {},
   "outputs": [],
   "source": [
    "hitter_list = []\n",
    "s_hitter_list = []\n",
    "pitcher_list = []\n",
    "s_pitcher_list = []\n",
    "\n",
    "for i in range(3):\n",
    "    urls = make_url(months[i], dates[i])\n",
    "    \n",
    "    hitter_list.extend(urls[0])\n",
    "    s_hitter_list.extend(urls[1])\n",
    "    pitcher_list.extend(urls[2])\n",
    "    s_pitcher_list.extend(urls[3])"
   ]
  },
  {
   "cell_type": "code",
   "execution_count": 14,
   "metadata": {},
   "outputs": [],
   "source": [
    "f = open('타자2.txt', mode='wt', encoding='utf-8')\n",
    "f.write(str(hitter_list))\n",
    "f.close()\n",
    "\n",
    "f = open('득점권_타자2.txt', mode='wt', encoding='utf-8')\n",
    "f.write(str(s_hitter_list))\n",
    "f.close()\n",
    "\n",
    "f = open('투수2.txt', mode='wt', encoding='utf-8')\n",
    "f.write(str(pitcher_list))\n",
    "f.close()\n",
    "\n",
    "f = open('득점권_투수2.txt', mode='wt', encoding='utf-8')\n",
    "f.write(str(s_pitcher_list))\n",
    "f.close()"
   ]
  },
  {
   "cell_type": "code",
   "execution_count": null,
   "metadata": {},
   "outputs": [],
   "source": []
  }
 ],
 "metadata": {
  "kernelspec": {
   "display_name": "Python 3",
   "language": "python",
   "name": "python3"
  },
  "language_info": {
   "codemirror_mode": {
    "name": "ipython",
    "version": 3
   },
   "file_extension": ".py",
   "mimetype": "text/x-python",
   "name": "python",
   "nbconvert_exporter": "python",
   "pygments_lexer": "ipython3",
   "version": "3.6.4"
  }
 },
 "nbformat": 4,
 "nbformat_minor": 2
}
