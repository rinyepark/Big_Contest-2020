{
 "cells": [
  {
   "cell_type": "code",
   "execution_count": 97,
   "metadata": {},
   "outputs": [],
   "source": [
    "import tensorflow as tf\n",
    "import numpy as np\n",
    "\n",
    "from tensorflow import keras\n",
    "from tensorflow.keras.utils import to_categorical\n",
    "\n",
    "from tensorflow.keras.models import Sequential\n",
    "# from tensorflow.keras.utils import np_utils\n",
    "from tensorflow.keras.layers import Dense, LSTM, Dropout\n",
    "import tensorflow.keras.backend as K \n",
    "from tensorflow.keras.callbacks import EarlyStopping\n",
    "\n",
    "from sklearn.metrics import accuracy_score\n",
    "from sklearn.metrics import mean_squared_error\n",
    "from sklearn.preprocessing import MinMaxScaler\n",
    "\n",
    "\n",
    "import pandas as pd\n",
    "\n",
    "import matplotlib.pyplot as plt\n",
    "import seaborn as sns\n",
    "import plotly.express as px\n",
    "import plotly.graph_objects as go\n",
    "\n",
    "from math import sqrt"
   ]
  },
  {
   "cell_type": "markdown",
   "metadata": {},
   "source": [
    "### 1. read file"
   ]
  },
  {
   "cell_type": "code",
   "execution_count": 2,
   "metadata": {
    "scrolled": true
   },
   "outputs": [],
   "source": [
    "data = pd.read_csv(\"preprocessing_csv/lstm_24group_1619.csv\")\n",
    "team = list(data.T_ID.unique())\n",
    "\n",
    "data = pd.concat([data, pd.get_dummies(data.T_ID)], axis = 1)\n",
    "# data.drop([\"T_ID\"], axis = 1, inplace = True)"
   ]
  },
  {
   "cell_type": "code",
   "execution_count": 3,
   "metadata": {
    "scrolled": true
   },
   "outputs": [],
   "source": [
    "train_data = data[data[\"IDX\"] != 6]\n",
    "test_data = data[data[\"IDX\"] > 4]"
   ]
  },
  {
   "cell_type": "code",
   "execution_count": 11,
   "metadata": {},
   "outputs": [],
   "source": [
    "year_lst = [2016,2017,2018,2019]"
   ]
  },
  {
   "cell_type": "markdown",
   "metadata": {},
   "source": [
    "###  2. shift window 생성"
   ]
  },
  {
   "cell_type": "code",
   "execution_count": 7,
   "metadata": {},
   "outputs": [],
   "source": [
    "def shift_window_pct(df, team, window_size):\n",
    "    res = pd.DataFrame([])\n",
    "\n",
    "    for t in team:\n",
    "        tmp2 = df[df[\"T_ID\"]==t]\n",
    "        for s in range(1, window_size+1):\n",
    "            tmp2.loc[:,'shift_{}'.format(s)] = tmp2.loc[:,'PCT'].shift(s)\n",
    "\n",
    "        res = pd.concat([res, tmp2], axis=0)\n",
    "\n",
    "    return res"
   ]
  },
  {
   "cell_type": "code",
   "execution_count": 8,
   "metadata": {
    "collapsed": true
   },
   "outputs": [
    {
     "name": "stderr",
     "output_type": "stream",
     "text": [
      "c:\\users\\julia\\appdata\\local\\programs\\python\\python36\\lib\\site-packages\\pandas\\core\\indexing.py:845: SettingWithCopyWarning:\n",
      "\n",
      "\n",
      "A value is trying to be set on a copy of a slice from a DataFrame.\n",
      "Try using .loc[row_indexer,col_indexer] = value instead\n",
      "\n",
      "See the caveats in the documentation: https://pandas.pydata.org/pandas-docs/stable/user_guide/indexing.html#returning-a-view-versus-a-copy\n",
      "\n",
      "c:\\users\\julia\\appdata\\local\\programs\\python\\python36\\lib\\site-packages\\pandas\\core\\indexing.py:966: SettingWithCopyWarning:\n",
      "\n",
      "\n",
      "A value is trying to be set on a copy of a slice from a DataFrame.\n",
      "Try using .loc[row_indexer,col_indexer] = value instead\n",
      "\n",
      "See the caveats in the documentation: https://pandas.pydata.org/pandas-docs/stable/user_guide/indexing.html#returning-a-view-versus-a-copy\n",
      "\n"
     ]
    }
   ],
   "source": [
    "tr_lst = []\n",
    "te_lst = []\n",
    "w_size = 1\n",
    "\n",
    "for i in year_lst:\n",
    "    t1 = train_data[train_data[\"YEAR\"]==i]\n",
    "    t2 = test_data[test_data[\"YEAR\"]==i]\n",
    "\n",
    "    train_df = shift_window_pct(t1, team, w_size)\n",
    "    test_df = shift_window_pct(t2, team, w_size)\n",
    "    \n",
    "    tr_lst.append(train_df)\n",
    "    te_lst.append(test_df)\n",
    "    \n",
    "    del train_df\n",
    "    del test_df\n",
    "\n",
    "# train_df = pd.DataFrame([])\n",
    "\n",
    "# for y in [2016,2017,2018,2019]:\n",
    "    \n",
    "#     for t in team:\n",
    "#         tmp_train = train_data[train_data[\"T_ID\"]==t]\n",
    "#         for s in range(1, 2):\n",
    "#             tmp_train.loc[:,'shift_{}'.format(s)] = tmp_train.loc[:,'PCT'].shift(s)\n",
    "\n",
    "#         train_df = pd.concat([train_df, tmp_train], axis=0)\n",
    "\n",
    "# test_df = pd.DataFrame([])\n",
    "# for t in team:\n",
    "#     tmp_test = test_data[test_data[\"T_ID\"]==t]\n",
    "#     for s in range(1, 2):\n",
    "#         tmp_test.loc[:,'shift_{}'.format(s)] = tmp_test.loc[:,'PCT'].shift(s)\n",
    "    \n",
    "#     test_df = pd.concat([test_df, tmp_test], axis=0)\n"
   ]
  },
  {
   "cell_type": "code",
   "execution_count": 12,
   "metadata": {},
   "outputs": [],
   "source": [
    "X_tr_lst = []\n",
    "y_tr_lst = []\n",
    "\n",
    "for i in range(len(tr_lst)):\n",
    "    X_train = tr_lst[i].dropna().drop(['PCT','T_ID'], axis=1).reset_index(drop=True)\n",
    "    y_train = tr_lst[i].dropna()[['PCT']].reset_index(drop=True)\n",
    "    \n",
    "    X_tr_lst.append(X_train)\n",
    "    y_tr_lst.append(y_train)\n",
    "    \n",
    "    del X_train\n",
    "    del y_train\n",
    "    "
   ]
  },
  {
   "cell_type": "code",
   "execution_count": 14,
   "metadata": {},
   "outputs": [],
   "source": [
    "X_te_lst = []\n",
    "y_te_lst = []\n",
    "\n",
    "for i in range(len(te_lst)):\n",
    "    X_test = te_lst[i].dropna().drop(['PCT','T_ID'], axis=1).reset_index(drop=True)\n",
    "    y_test = te_lst[i].dropna()[['PCT']].reset_index(drop=True)\n",
    "    \n",
    "    X_te_lst.append(X_test)\n",
    "    y_te_lst.append(y_test)\n",
    "    \n",
    "    del X_test\n",
    "    del y_test\n"
   ]
  },
  {
   "cell_type": "markdown",
   "metadata": {},
   "source": [
    "### 3. ndarray 변환"
   ]
  },
  {
   "cell_type": "code",
   "execution_count": 21,
   "metadata": {},
   "outputs": [],
   "source": [
    "X_tr_v_lst = []\n",
    "y_tr_v_lst = []\n",
    "for i in range(len(X_tr_lst)):\n",
    "    \n",
    "    X_train_v = X_tr_lst[i].values\n",
    "    y_train_v = y_tr_lst[i].values\n",
    "    \n",
    "    X_tr_v_lst.append(X_train_v)\n",
    "    y_tr_v_lst.append(y_train_v)"
   ]
  },
  {
   "cell_type": "code",
   "execution_count": 22,
   "metadata": {},
   "outputs": [],
   "source": [
    "X_te_v_lst = []\n",
    "y_te_v_lst = []\n",
    "for i in range(len(X_te_lst)):\n",
    "    \n",
    "    X_test_v = X_te_lst[i].values\n",
    "    y_test_v = y_te_lst[i].values\n",
    "    \n",
    "    X_te_v_lst.append(X_test_v)\n",
    "    y_te_v_lst.append(y_test_v)\n",
    "\n",
    "# X_test_v = X_test.values\n",
    "# y_test_v = y_test.values"
   ]
  },
  {
   "cell_type": "code",
   "execution_count": 23,
   "metadata": {
    "collapsed": true
   },
   "outputs": [
    {
     "name": "stdout",
     "output_type": "stream",
     "text": [
      "(40, 90)\n",
      "[[2.01900000e+03 2.00000000e+00 0.00000000e+00 ... 0.00000000e+00\n",
      "  0.00000000e+00 5.41666667e-01]\n",
      " [2.01900000e+03 3.00000000e+00 0.00000000e+00 ... 0.00000000e+00\n",
      "  0.00000000e+00 5.00000000e-01]\n",
      " [2.01900000e+03 4.00000000e+00 0.00000000e+00 ... 0.00000000e+00\n",
      "  0.00000000e+00 6.95652174e-01]\n",
      " ...\n",
      " [2.01900000e+03 3.00000000e+00 0.00000000e+00 ... 0.00000000e+00\n",
      "  0.00000000e+00 3.33333333e-01]\n",
      " [2.01900000e+03 4.00000000e+00 0.00000000e+00 ... 0.00000000e+00\n",
      "  0.00000000e+00 5.41666667e-01]\n",
      " [2.01900000e+03 5.00000000e+00 0.00000000e+00 ... 0.00000000e+00\n",
      "  0.00000000e+00 4.16666667e-01]]\n",
      "(40, 1)\n",
      "[[0.5       ]\n",
      " [0.69565217]\n",
      " [0.5       ]\n",
      " [0.54166667]\n",
      " [0.58333333]\n",
      " [0.33333333]\n",
      " [0.47826087]\n",
      " [0.54166667]\n",
      " [0.41666667]\n",
      " [0.5       ]\n",
      " [0.65217391]\n",
      " [0.52173913]\n",
      " [0.54166667]\n",
      " [0.54166667]\n",
      " [0.70833333]\n",
      " [0.56521739]\n",
      " [0.70833333]\n",
      " [0.5       ]\n",
      " [0.5       ]\n",
      " [0.66666667]\n",
      " [0.45833333]\n",
      " [0.29166667]\n",
      " [0.25      ]\n",
      " [0.375     ]\n",
      " [0.70833333]\n",
      " [0.66666667]\n",
      " [0.70833333]\n",
      " [0.625     ]\n",
      " [0.25      ]\n",
      " [0.43478261]\n",
      " [0.30434783]\n",
      " [0.39130435]\n",
      " [0.45833333]\n",
      " [0.45833333]\n",
      " [0.43478261]\n",
      " [0.375     ]\n",
      " [0.33333333]\n",
      " [0.54166667]\n",
      " [0.41666667]\n",
      " [0.47826087]]\n"
     ]
    }
   ],
   "source": [
    "print(X_train_v.shape)\n",
    "print(X_train_v)\n",
    "print(y_train_v.shape)\n",
    "print(y_train_v)"
   ]
  },
  {
   "cell_type": "markdown",
   "metadata": {},
   "source": [
    "### 4. 최종 train 의 X 만들기\n",
    "* 3차원 데이터여야하며 각각의 차원은 (size, timestep, feature)"
   ]
  },
  {
   "cell_type": "code",
   "execution_count": 24,
   "metadata": {},
   "outputs": [
    {
     "data": {
      "text/plain": [
       "(40, 90)"
      ]
     },
     "execution_count": 24,
     "metadata": {},
     "output_type": "execute_result"
    }
   ],
   "source": [
    "X_train_v.shape"
   ]
  },
  {
   "cell_type": "code",
   "execution_count": 167,
   "metadata": {},
   "outputs": [],
   "source": [
    "X_tr_t_lst = []\n",
    "\n",
    "for i in range(len(X_tr_v_lst)):\n",
    "    X_train_t = X_tr_v_lst[i].reshape(X_tr_v_lst[i].shape[0],1,90)\n",
    "    \n",
    "    X_tr_t_lst.append(X_train_t)"
   ]
  },
  {
   "cell_type": "code",
   "execution_count": 168,
   "metadata": {},
   "outputs": [],
   "source": [
    "X_te_t_lst = []\n",
    "\n",
    "for i in range(len(X_te_v_lst)):\n",
    "    X_test_t = X_te_v_lst[i].reshape(X_te_v_lst[i].shape[0],1,90)\n",
    "    \n",
    "    X_te_t_lst.append(X_test_t)\n",
    "\n",
    "# X_test_t = X_test_v.reshape(X_test_v.shape[0],90,1)"
   ]
  },
  {
   "cell_type": "code",
   "execution_count": 169,
   "metadata": {},
   "outputs": [
    {
     "data": {
      "text/plain": [
       "((40, 1, 90), (10, 1, 90))"
      ]
     },
     "execution_count": 169,
     "metadata": {},
     "output_type": "execute_result"
    }
   ],
   "source": [
    "X_tr_t_lst[0].shape, X_te_t_lst[0].shape, "
   ]
  },
  {
   "cell_type": "markdown",
   "metadata": {},
   "source": [
    "### 5. LSTM 모델 생성"
   ]
  },
  {
   "cell_type": "markdown",
   "metadata": {},
   "source": [
    "#### 2016"
   ]
  },
  {
   "cell_type": "code",
   "execution_count": 182,
   "metadata": {},
   "outputs": [
    {
     "name": "stdout",
     "output_type": "stream",
     "text": [
      "Model: \"sequential\"\n",
      "_________________________________________________________________\n",
      "Layer (type)                 Output Shape              Param #   \n",
      "=================================================================\n",
      "lstm (LSTM)                  (None, 90)                65160     \n",
      "_________________________________________________________________\n",
      "dense (Dense)                (None, 1)                 91        \n",
      "=================================================================\n",
      "Total params: 65,251\n",
      "Trainable params: 65,251\n",
      "Non-trainable params: 0\n",
      "_________________________________________________________________\n"
     ]
    }
   ],
   "source": [
    "K.clear_session() \n",
    "\n",
    "model = Sequential()\n",
    "\n",
    "model.add(LSTM(90,input_shape = (1,90))) # (timestep, feature)\n",
    "model.add(Dense(1)) # output = 1\n",
    "model.compile(loss='mean_squared_error', optimizer='adam',metrics=['mae'])\n",
    "\n",
    "model.summary()"
   ]
  },
  {
   "cell_type": "code",
   "execution_count": 183,
   "metadata": {
    "scrolled": true
   },
   "outputs": [
    {
     "name": "stdout",
     "output_type": "stream",
     "text": [
      "Train on 40 samples\n",
      "Epoch 1/100\n",
      "40/40 [==============================] - 2s 46ms/sample - loss: 0.0592 - mae: 0.1816\n",
      "Epoch 2/100\n",
      "40/40 [==============================] - 0s 3ms/sample - loss: 0.0111 - mae: 0.0870\n",
      "Epoch 3/100\n",
      "40/40 [==============================] - 0s 2ms/sample - loss: 0.0112 - mae: 0.0817\n",
      "Epoch 4/100\n",
      "40/40 [==============================] - 0s 3ms/sample - loss: 0.0122 - mae: 0.0910\n",
      "Epoch 5/100\n",
      "40/40 [==============================] - 0s 2ms/sample - loss: 0.0113 - mae: 0.0865\n",
      "Epoch 00005: early stopping\n"
     ]
    }
   ],
   "source": [
    "early_stop = EarlyStopping(monitor='loss', mode = 'min', patience=3, verbose=1)\n",
    "\n",
    "\n",
    "hist1 = model.fit(X_tr_t_lst[0], y_tr_v_lst[0], epochs=100,\n",
    "          batch_size=1, verbose=1, callbacks=[early_stop])"
   ]
  },
  {
   "cell_type": "code",
   "execution_count": 184,
   "metadata": {
    "scrolled": true
   },
   "outputs": [
    {
     "data": {
      "image/png": "[encoded data removed]",
      "text/plain": [
       "<Figure size 432x288 with 2 Axes>"
      ]
     },
     "metadata": {
      "needs_background": "light"
     },
     "output_type": "display_data"
    }
   ],
   "source": [
    "fig, loss_ax = plt.subplots()\n",
    "\n",
    "acc_ax = loss_ax.twinx()\n",
    "\n",
    "loss_ax.plot(hist1.history['loss'], 'y', label='train loss')\n",
    "\n",
    "acc_ax.plot(hist1.history['mae'], 'b', label='train mae')\n",
    "\n",
    "loss_ax.set_xlabel('epoch')\n",
    "loss_ax.set_ylabel('loss')\n",
    "acc_ax.set_ylabel('mae')\n",
    "\n",
    "loss_ax.legend(loc='upper left')\n",
    "acc_ax.legend(loc='lower left')\n",
    "\n",
    "plt.show()"
   ]
  },
  {
   "cell_type": "markdown",
   "metadata": {},
   "source": [
    "#### 2017"
   ]
  },
  {
   "cell_type": "code",
   "execution_count": 115,
   "metadata": {},
   "outputs": [
    {
     "name": "stdout",
     "output_type": "stream",
     "text": [
      "Model: \"sequential\"\n",
      "_________________________________________________________________\n",
      "Layer (type)                 Output Shape              Param #   \n",
      "=================================================================\n",
      "lstm (LSTM)                  (None, 20)                8880      \n",
      "_________________________________________________________________\n",
      "dense (Dense)                (None, 1)                 21        \n",
      "=================================================================\n",
      "Total params: 8,901\n",
      "Trainable params: 8,901\n",
      "Non-trainable params: 0\n",
      "_________________________________________________________________\n"
     ]
    }
   ],
   "source": [
    "K.clear_session() \n",
    "\n",
    "model17 = Sequential()\n",
    "\n",
    "model17.add(LSTM(20,input_shape = (90,1))) # (timestep, feature)\n",
    "model17.add(Dense(1)) # output = 1\n",
    "model17.compile(loss='mean_squared_error', optimizer='adam',metrics=['mae'])\n",
    "\n",
    "model.summary()"
   ]
  },
  {
   "cell_type": "code",
   "execution_count": 116,
   "metadata": {
    "scrolled": true
   },
   "outputs": [
    {
     "name": "stdout",
     "output_type": "stream",
     "text": [
      "Train on 40 samples\n",
      "Epoch 1/100\n",
      "40/40 [==============================] - 2s 43ms/sample - loss: 0.1869 - mae: 0.4063\n",
      "Epoch 2/100\n",
      "40/40 [==============================] - 0s 3ms/sample - loss: 0.1179 - mae: 0.3147\n",
      "Epoch 3/100\n",
      "40/40 [==============================] - 0s 3ms/sample - loss: 0.0641 - mae: 0.2256\n",
      "Epoch 4/100\n",
      "40/40 [==============================] - 0s 3ms/sample - loss: 0.0303 - mae: 0.1389\n",
      "Epoch 5/100\n",
      "40/40 [==============================] - 0s 4ms/sample - loss: 0.0190 - mae: 0.1094\n",
      "Epoch 6/100\n",
      "40/40 [==============================] - 0s 4ms/sample - loss: 0.0246 - mae: 0.1245\n",
      "Epoch 7/100\n",
      "40/40 [==============================] - 0s 4ms/sample - loss: 0.0280 - mae: 0.1366\n",
      "Epoch 8/100\n",
      "40/40 [==============================] - 0s 3ms/sample - loss: 0.0235 - mae: 0.1228\n",
      "Epoch 00008: early stopping\n"
     ]
    }
   ],
   "source": [
    "early_stop = EarlyStopping(monitor='loss', mode = 'min', patience=3, verbose=1)\n",
    "\n",
    "\n",
    "hist17 = model17.fit(X_tr_t_lst[1], y_tr_v_lst[1], epochs=100,\n",
    "          batch_size=10, verbose=1, callbacks=[early_stop])"
   ]
  },
  {
   "cell_type": "code",
   "execution_count": 117,
   "metadata": {
    "scrolled": false
   },
   "outputs": [
    {
     "data": {
      "image/png": "[encoded data removed]",
      "text/plain": [
       "<Figure size 432x288 with 2 Axes>"
      ]
     },
     "metadata": {
      "needs_background": "light"
     },
     "output_type": "display_data"
    }
   ],
   "source": [
    "fig, loss_ax = plt.subplots()\n",
    "\n",
    "acc_ax = loss_ax.twinx()\n",
    "\n",
    "loss_ax.plot(hist17.history['loss'], 'y', label='train loss')\n",
    "\n",
    "acc_ax.plot(hist17.history['mae'], 'b', label='train mae')\n",
    "\n",
    "loss_ax.set_xlabel('epoch')\n",
    "loss_ax.set_ylabel('loss')\n",
    "acc_ax.set_ylabel('mae')\n",
    "\n",
    "loss_ax.legend(loc='upper left')\n",
    "acc_ax.legend(loc='lower left')\n",
    "\n",
    "plt.show()"
   ]
  },
  {
   "cell_type": "markdown",
   "metadata": {},
   "source": [
    "# 6. 성능확인"
   ]
  },
  {
   "cell_type": "markdown",
   "metadata": {},
   "source": [
    "##### 같은 값이 나오는 이유: 오버피팅, 데이터 부족"
   ]
  },
  {
   "cell_type": "code",
   "execution_count": 185,
   "metadata": {},
   "outputs": [
    {
     "data": {
      "text/plain": [
       "array([[0.60869565],\n",
       "       [0.56521739],\n",
       "       [0.29166667],\n",
       "       [0.375     ],\n",
       "       [0.66666667],\n",
       "       [0.5       ],\n",
       "       [0.45833333],\n",
       "       [0.5       ],\n",
       "       [0.5       ],\n",
       "       [0.45833333]])"
      ]
     },
     "execution_count": 185,
     "metadata": {},
     "output_type": "execute_result"
    }
   ],
   "source": [
    "y_te_v_lst[0]"
   ]
  },
  {
   "cell_type": "code",
   "execution_count": 189,
   "metadata": {},
   "outputs": [],
   "source": [
    "y_pred = model.predict(X_te_t_lst[0], batch_size = 1)"
   ]
  },
  {
   "cell_type": "code",
   "execution_count": 190,
   "metadata": {},
   "outputs": [
    {
     "data": {
      "text/html": [
       "<div>\n",
       "<style scoped>\n",
       "    .dataframe tbody tr th:only-of-type {\n",
       "        vertical-align: middle;\n",
       "    }\n",
       "\n",
       "    .dataframe tbody tr th {\n",
       "        vertical-align: top;\n",
       "    }\n",
       "\n",
       "    .dataframe thead th {\n",
       "        text-align: right;\n",
       "    }\n",
       "</style>\n",
       "<table border=\"1\" class=\"dataframe\">\n",
       "  <thead>\n",
       "    <tr style=\"text-align: right;\">\n",
       "      <th></th>\n",
       "      <th>y_pred</th>\n",
       "      <th>y</th>\n",
       "    </tr>\n",
       "  </thead>\n",
       "  <tbody>\n",
       "    <tr>\n",
       "      <th>0</th>\n",
       "      <td>0.495327</td>\n",
       "      <td>0.608696</td>\n",
       "    </tr>\n",
       "    <tr>\n",
       "      <th>1</th>\n",
       "      <td>0.495327</td>\n",
       "      <td>0.565217</td>\n",
       "    </tr>\n",
       "    <tr>\n",
       "      <th>2</th>\n",
       "      <td>0.495327</td>\n",
       "      <td>0.291667</td>\n",
       "    </tr>\n",
       "    <tr>\n",
       "      <th>3</th>\n",
       "      <td>0.495327</td>\n",
       "      <td>0.375000</td>\n",
       "    </tr>\n",
       "    <tr>\n",
       "      <th>4</th>\n",
       "      <td>0.495327</td>\n",
       "      <td>0.666667</td>\n",
       "    </tr>\n",
       "    <tr>\n",
       "      <th>5</th>\n",
       "      <td>0.495327</td>\n",
       "      <td>0.500000</td>\n",
       "    </tr>\n",
       "    <tr>\n",
       "      <th>6</th>\n",
       "      <td>0.495327</td>\n",
       "      <td>0.458333</td>\n",
       "    </tr>\n",
       "    <tr>\n",
       "      <th>7</th>\n",
       "      <td>0.495327</td>\n",
       "      <td>0.500000</td>\n",
       "    </tr>\n",
       "    <tr>\n",
       "      <th>8</th>\n",
       "      <td>0.495327</td>\n",
       "      <td>0.500000</td>\n",
       "    </tr>\n",
       "    <tr>\n",
       "      <th>9</th>\n",
       "      <td>0.495327</td>\n",
       "      <td>0.458333</td>\n",
       "    </tr>\n",
       "  </tbody>\n",
       "</table>\n",
       "</div>"
      ],
      "text/plain": [
       "     y_pred         y\n",
       "0  0.495327  0.608696\n",
       "1  0.495327  0.565217\n",
       "2  0.495327  0.291667\n",
       "3  0.495327  0.375000\n",
       "4  0.495327  0.666667\n",
       "5  0.495327  0.500000\n",
       "6  0.495327  0.458333\n",
       "7  0.495327  0.500000\n",
       "8  0.495327  0.500000\n",
       "9  0.495327  0.458333"
      ]
     },
     "execution_count": 190,
     "metadata": {},
     "output_type": "execute_result"
    }
   ],
   "source": [
    "pd.DataFrame({\"y_pred\":y_pred.reshape(-1), \n",
    "              \"y\":y_te_v_lst[0].reshape(-1)})"
   ]
  },
  {
   "cell_type": "code",
   "execution_count": 191,
   "metadata": {},
   "outputs": [
    {
     "data": {
      "text/plain": [
       "0.13188475685150614"
      ]
     },
     "execution_count": 191,
     "metadata": {},
     "output_type": "execute_result"
    }
   ],
   "source": [
    "rms = sqrt(mean_squared_error(y_test_v, y_pred))\n",
    "rms"
   ]
  },
  {
   "cell_type": "markdown",
   "metadata": {},
   "source": [
    "#### 2017"
   ]
  },
  {
   "cell_type": "code",
   "execution_count": 120,
   "metadata": {},
   "outputs": [
    {
     "data": {
      "text/plain": [
       "array([[0.43478261],\n",
       "       [0.5       ],\n",
       "       [0.5       ],\n",
       "       [0.34782609],\n",
       "       [0.58333333],\n",
       "       [0.43478261],\n",
       "       [0.625     ],\n",
       "       [0.66666667],\n",
       "       [0.39130435],\n",
       "       [0.5       ]])"
      ]
     },
     "execution_count": 120,
     "metadata": {},
     "output_type": "execute_result"
    }
   ],
   "source": [
    "y_te_v_lst[1]"
   ]
  },
  {
   "cell_type": "code",
   "execution_count": 121,
   "metadata": {},
   "outputs": [],
   "source": [
    "y_pred17 = model17.predict(X_te_t_lst[1])"
   ]
  },
  {
   "cell_type": "code",
   "execution_count": 136,
   "metadata": {},
   "outputs": [
    {
     "data": {
      "text/html": [
       "<div>\n",
       "<style scoped>\n",
       "    .dataframe tbody tr th:only-of-type {\n",
       "        vertical-align: middle;\n",
       "    }\n",
       "\n",
       "    .dataframe tbody tr th {\n",
       "        vertical-align: top;\n",
       "    }\n",
       "\n",
       "    .dataframe thead th {\n",
       "        text-align: right;\n",
       "    }\n",
       "</style>\n",
       "<table border=\"1\" class=\"dataframe\">\n",
       "  <thead>\n",
       "    <tr style=\"text-align: right;\">\n",
       "      <th></th>\n",
       "      <th>y_pred</th>\n",
       "      <th>y</th>\n",
       "    </tr>\n",
       "  </thead>\n",
       "  <tbody>\n",
       "    <tr>\n",
       "      <th>0</th>\n",
       "      <td>0.514450</td>\n",
       "      <td>0.434783</td>\n",
       "    </tr>\n",
       "    <tr>\n",
       "      <th>1</th>\n",
       "      <td>0.550415</td>\n",
       "      <td>0.500000</td>\n",
       "    </tr>\n",
       "    <tr>\n",
       "      <th>2</th>\n",
       "      <td>0.525153</td>\n",
       "      <td>0.500000</td>\n",
       "    </tr>\n",
       "    <tr>\n",
       "      <th>3</th>\n",
       "      <td>0.563608</td>\n",
       "      <td>0.347826</td>\n",
       "    </tr>\n",
       "    <tr>\n",
       "      <th>4</th>\n",
       "      <td>0.564259</td>\n",
       "      <td>0.583333</td>\n",
       "    </tr>\n",
       "    <tr>\n",
       "      <th>5</th>\n",
       "      <td>0.526895</td>\n",
       "      <td>0.434783</td>\n",
       "    </tr>\n",
       "    <tr>\n",
       "      <th>6</th>\n",
       "      <td>0.547708</td>\n",
       "      <td>0.625000</td>\n",
       "    </tr>\n",
       "    <tr>\n",
       "      <th>7</th>\n",
       "      <td>0.549069</td>\n",
       "      <td>0.666667</td>\n",
       "    </tr>\n",
       "    <tr>\n",
       "      <th>8</th>\n",
       "      <td>0.554891</td>\n",
       "      <td>0.391304</td>\n",
       "    </tr>\n",
       "    <tr>\n",
       "      <th>9</th>\n",
       "      <td>0.528689</td>\n",
       "      <td>0.500000</td>\n",
       "    </tr>\n",
       "  </tbody>\n",
       "</table>\n",
       "</div>"
      ],
      "text/plain": [
       "     y_pred         y\n",
       "0  0.514450  0.434783\n",
       "1  0.550415  0.500000\n",
       "2  0.525153  0.500000\n",
       "3  0.563608  0.347826\n",
       "4  0.564259  0.583333\n",
       "5  0.526895  0.434783\n",
       "6  0.547708  0.625000\n",
       "7  0.549069  0.666667\n",
       "8  0.554891  0.391304\n",
       "9  0.528689  0.500000"
      ]
     },
     "execution_count": 136,
     "metadata": {},
     "output_type": "execute_result"
    }
   ],
   "source": [
    "tttmp = pd.DataFrame({\"y_pred\":y_pred17.reshape(-1), \n",
    "              \"y\":y_te_v_lst[1].reshape(-1)})\n",
    "\n",
    "tttmp"
   ]
  },
  {
   "cell_type": "code",
   "execution_count": 139,
   "metadata": {},
   "outputs": [
    {
     "data": {
      "text/html": [
       "<div>\n",
       "<style scoped>\n",
       "    .dataframe tbody tr th:only-of-type {\n",
       "        vertical-align: middle;\n",
       "    }\n",
       "\n",
       "    .dataframe tbody tr th {\n",
       "        vertical-align: top;\n",
       "    }\n",
       "\n",
       "    .dataframe thead th {\n",
       "        text-align: right;\n",
       "    }\n",
       "</style>\n",
       "<table border=\"1\" class=\"dataframe\">\n",
       "  <thead>\n",
       "    <tr style=\"text-align: right;\">\n",
       "      <th></th>\n",
       "      <th>y_pred</th>\n",
       "      <th>y</th>\n",
       "      <th>A</th>\n",
       "    </tr>\n",
       "  </thead>\n",
       "  <tbody>\n",
       "    <tr>\n",
       "      <th>0</th>\n",
       "      <td>0.514450</td>\n",
       "      <td>0.434783</td>\n",
       "      <td>0.5</td>\n",
       "    </tr>\n",
       "    <tr>\n",
       "      <th>1</th>\n",
       "      <td>0.550415</td>\n",
       "      <td>0.500000</td>\n",
       "      <td>0.5</td>\n",
       "    </tr>\n",
       "    <tr>\n",
       "      <th>2</th>\n",
       "      <td>0.525153</td>\n",
       "      <td>0.500000</td>\n",
       "      <td>0.5</td>\n",
       "    </tr>\n",
       "    <tr>\n",
       "      <th>3</th>\n",
       "      <td>0.563608</td>\n",
       "      <td>0.347826</td>\n",
       "      <td>0.5</td>\n",
       "    </tr>\n",
       "    <tr>\n",
       "      <th>4</th>\n",
       "      <td>0.564259</td>\n",
       "      <td>0.583333</td>\n",
       "      <td>0.5</td>\n",
       "    </tr>\n",
       "    <tr>\n",
       "      <th>5</th>\n",
       "      <td>0.526895</td>\n",
       "      <td>0.434783</td>\n",
       "      <td>0.5</td>\n",
       "    </tr>\n",
       "    <tr>\n",
       "      <th>6</th>\n",
       "      <td>0.547708</td>\n",
       "      <td>0.625000</td>\n",
       "      <td>0.5</td>\n",
       "    </tr>\n",
       "    <tr>\n",
       "      <th>7</th>\n",
       "      <td>0.549069</td>\n",
       "      <td>0.666667</td>\n",
       "      <td>0.5</td>\n",
       "    </tr>\n",
       "    <tr>\n",
       "      <th>8</th>\n",
       "      <td>0.554891</td>\n",
       "      <td>0.391304</td>\n",
       "      <td>0.5</td>\n",
       "    </tr>\n",
       "    <tr>\n",
       "      <th>9</th>\n",
       "      <td>0.528689</td>\n",
       "      <td>0.500000</td>\n",
       "      <td>0.5</td>\n",
       "    </tr>\n",
       "  </tbody>\n",
       "</table>\n",
       "</div>"
      ],
      "text/plain": [
       "     y_pred         y    A\n",
       "0  0.514450  0.434783  0.5\n",
       "1  0.550415  0.500000  0.5\n",
       "2  0.525153  0.500000  0.5\n",
       "3  0.563608  0.347826  0.5\n",
       "4  0.564259  0.583333  0.5\n",
       "5  0.526895  0.434783  0.5\n",
       "6  0.547708  0.625000  0.5\n",
       "7  0.549069  0.666667  0.5\n",
       "8  0.554891  0.391304  0.5\n",
       "9  0.528689  0.500000  0.5"
      ]
     },
     "execution_count": 139,
     "metadata": {},
     "output_type": "execute_result"
    }
   ],
   "source": [
    "tttmp"
   ]
  },
  {
   "cell_type": "code",
   "execution_count": 123,
   "metadata": {},
   "outputs": [
    {
     "data": {
      "text/plain": [
       "0.13167720025663052"
      ]
     },
     "execution_count": 123,
     "metadata": {},
     "output_type": "execute_result"
    }
   ],
   "source": [
    "rms = sqrt(mean_squared_error(y_test_v, y_pred))\n",
    "rms"
   ]
  },
  {
   "cell_type": "code",
   "execution_count": 146,
   "metadata": {},
   "outputs": [
    {
     "data": {
      "text/plain": [
       "0.1316220123204481"
      ]
     },
     "execution_count": 146,
     "metadata": {},
     "output_type": "execute_result"
    }
   ],
   "source": [
    "rms = sqrt(mean_squared_error(y_test_v, np.array(tttmp.A).reshape(10,1)))\n",
    "rms"
   ]
  },
  {
   "cell_type": "code",
   "execution_count": null,
   "metadata": {},
   "outputs": [],
   "source": []
  }
 ],
 "metadata": {
  "kernelspec": {
   "display_name": "Python 3",
   "language": "python",
   "name": "python3"
  },
  "language_info": {
   "codemirror_mode": {
    "name": "ipython",
    "version": 3
   },
   "file_extension": ".py",
   "mimetype": "text/x-python",
   "name": "python",
   "nbconvert_exporter": "python",
   "pygments_lexer": "ipython3",
   "version": "3.6.4"
  }
 },
 "nbformat": 4,
 "nbformat_minor": 2
}
