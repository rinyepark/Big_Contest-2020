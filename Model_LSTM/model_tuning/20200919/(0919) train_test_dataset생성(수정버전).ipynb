{
 "cells": [
  {
   "cell_type": "markdown",
   "metadata": {},
   "source": [
    "### Import python library"
   ]
  },
  {
   "cell_type": "code",
   "execution_count": 1,
   "metadata": {},
   "outputs": [],
   "source": [
    "import numpy as np\n",
    "import pandas as pd"
   ]
  },
  {
   "cell_type": "markdown",
   "metadata": {},
   "source": [
    "### 1. Read data: bigcon_final_dataset.csv필요"
   ]
  },
  {
   "cell_type": "code",
   "execution_count": 2,
   "metadata": {
    "scrolled": true
   },
   "outputs": [],
   "source": [
    "data = pd.read_csv(\"bigcon_final_dataset.csv\")\n",
    "data.drop([\"Unnamed: 0\"],axis=1, inplace = True)"
   ]
  },
  {
   "cell_type": "code",
   "execution_count": 3,
   "metadata": {},
   "outputs": [],
   "source": [
    "team = list(set(data.T_ID))"
   ]
  },
  {
   "cell_type": "markdown",
   "metadata": {},
   "source": [
    "### 2. Train 전처리"
   ]
  },
  {
   "cell_type": "code",
   "execution_count": 4,
   "metadata": {},
   "outputs": [],
   "source": [
    "train = data[data[\"IDX\"]!=777]"
   ]
  },
  {
   "cell_type": "code",
   "execution_count": 5,
   "metadata": {},
   "outputs": [],
   "source": [
    "sel_col = [\"T_ID\",\"IDX\",\"MERGE_IDX\",\"PCT\",\"ERA\",\"AVG\",'YEAR']\n",
    "train_shift = train.loc[:,sel_col]\n",
    "shift_col = sorted(list(set(list(train.columns))-set(['T_ID','YEAR'])))\n",
    "\n",
    "for i in range(1,2):\n",
    "    for c in shift_col:\n",
    "        train_shift.loc[:,'shift_{}'.format(c)] = train.loc[:,c].shift(i)"
   ]
  },
  {
   "cell_type": "code",
   "execution_count": 6,
   "metadata": {},
   "outputs": [],
   "source": [
    "train_shift.dropna(inplace = True)\n",
    "ts_idx = list(train_shift.index)\n",
    "\n",
    "drop_idx = []\n",
    "for i in ts_idx:\n",
    "    idx_num = train_shift.loc[i,'IDX']\n",
    "    if idx_num <= train_shift.loc[i,'shift_IDX']:\n",
    "        drop_idx.append(i)\n",
    "\n",
    "train_s_df = train_shift.drop(drop_idx).reset_index(drop = True)  \n",
    "\n",
    "train_s_drop_df = train_s_df.drop([\"IDX\",\"MERGE_IDX\",\"shift_IDX\",\"shift_MERGE_IDX\",\"ERA\",\"AVG\",\"PCT\"],axis = 1)"
   ]
  },
  {
   "cell_type": "code",
   "execution_count": 7,
   "metadata": {},
   "outputs": [
    {
     "data": {
      "text/plain": [
       "(2920, 66)"
      ]
     },
     "execution_count": 7,
     "metadata": {},
     "output_type": "execute_result"
    }
   ],
   "source": [
    "train_s_df.shape"
   ]
  },
  {
   "cell_type": "markdown",
   "metadata": {},
   "source": [
    "### 3. Test 전처리"
   ]
  },
  {
   "cell_type": "code",
   "execution_count": 8,
   "metadata": {},
   "outputs": [],
   "source": [
    "test = data[data[\"IDX\"]==777]"
   ]
  },
  {
   "cell_type": "code",
   "execution_count": 9,
   "metadata": {},
   "outputs": [],
   "source": [
    "tmp1619 = data[data[\"IDX\"]==5]\n",
    "test = pd.concat([test,tmp1619],axis=0)\n",
    "\n",
    "tmp2020 = data[data[\"YEAR\"]==2020]\n",
    "for t in team:\n",
    "    tmp = tmp2020[tmp2020[\"T_ID\"]==t]\n",
    "    mer_idx = max(tmp.MERGE_IDX)\n",
    "    test = pd.concat([test,tmp[tmp[\"MERGE_IDX\"]==mer_idx]], axis = 0)\n",
    "    \n",
    "\n",
    "test = test.sort_values(by=[\"YEAR\",\"T_ID\",\"IDX\"]).reset_index(drop=True)\n",
    "    "
   ]
  },
  {
   "cell_type": "code",
   "execution_count": 10,
   "metadata": {},
   "outputs": [],
   "source": [
    "test_shift = test.loc[:,sel_col]\n",
    "shift_col = sorted(list(set(list(test.columns))-set(['T_ID','YEAR'])))\n",
    "\n",
    "for i in range(1,2):\n",
    "    for c in shift_col:\n",
    "        test_shift.loc[:,'shift_{}'.format(c)] = test.loc[:,c].shift(i)"
   ]
  },
  {
   "cell_type": "code",
   "execution_count": 11,
   "metadata": {
    "scrolled": true
   },
   "outputs": [],
   "source": [
    "test_s_df = test_shift[test_shift[\"IDX\"]==777].reset_index(drop=True)\n",
    "test_s_drop_df = test_s_df.drop([\"IDX\",\"MERGE_IDX\",\"shift_IDX\",\"shift_MERGE_IDX\",\"ERA\",\"AVG\",\"PCT\"],axis = 1)"
   ]
  },
  {
   "cell_type": "markdown",
   "metadata": {},
   "source": [
    "### 4.  split data  -> PCT/AVG/ERA dataset 가공"
   ]
  },
  {
   "cell_type": "code",
   "execution_count": 12,
   "metadata": {},
   "outputs": [],
   "source": [
    "common_list = ['T_ID', 'YEAR', 'HEADER_NO','PCT']\n",
    "hitter = ['AVG', 'OBP', 'SLG', 'OPS', 'RC', 'GPA', 'BA', 'SECA', \n",
    "          'TA', 'XR', 'ISO', 'wOBA', 'P_HRA_RT', 'DER']\n",
    "pitcher = ['WHIP', 'LOB', 'ERA', 'FIP', 'H_9', 'K_9', 'BB_9', \n",
    "           'HR_9', 'oAVG', 'oSLG', 'oOBP', 'P_WHIP_RT', 'P2_WHIP_RT', 'CB_WHIP_RT','oISO', 'oOPS']\n",
    "\n",
    "vs_hitter = ['vs_AVG', 'vs_OBP', 'vs_SLG', 'vs_OPS', 'vs_RC', 'vs_GPA', 'vs_BA', 'vs_SECA', \n",
    "             'vs_TA', 'vs_XR', 'vs_ISO', 'vs_wOBA', 'vs_P_HRA_RT', 'vs_DER']\n",
    "vs_pitcher = ['vs_WHIP', 'vs_LOB', 'vs_ERA', 'vs_FIP', 'vs_H_9', 'vs_K_9', 'vs_BB_9', \n",
    "              'vs_HR_9', 'vs_oAVG', 'vs_oSLG', 'vs_oOBP', 'vs_P_WHIP_RT', 'vs_P2_WHIP_RT', 'vs_CB_WHIP_RT'\n",
    "             ,'vs_oISO', 'vs_oOPS']\n",
    "\n",
    "avg_col = common_list + hitter + vs_pitcher\n",
    "era_col = common_list + pitcher + vs_hitter"
   ]
  },
  {
   "cell_type": "code",
   "execution_count": 59,
   "metadata": {},
   "outputs": [
    {
     "data": {
      "text/plain": [
       "True"
      ]
     },
     "execution_count": 59,
     "metadata": {},
     "output_type": "execute_result"
    }
   ],
   "source": [
    "sel_avg_lst == list(AVG_train_X.columns)"
   ]
  },
  {
   "cell_type": "code",
   "execution_count": 60,
   "metadata": {},
   "outputs": [
    {
     "data": {
      "text/plain": [
       "True"
      ]
     },
     "execution_count": 60,
     "metadata": {},
     "output_type": "execute_result"
    }
   ],
   "source": [
    "sel_era_lst == list(ERA_train_X.columns)"
   ]
  },
  {
   "cell_type": "code",
   "execution_count": 47,
   "metadata": {},
   "outputs": [],
   "source": [
    "train_col = list(train_s_drop_df.columns)\n",
    "sel_avg_lst =train_col[:2]\n",
    "sel_era_lst = train_col[:2]\n",
    "\n",
    "for i in train_col[2:]:\n",
    "    for k in avg_col:\n",
    "        if k in i:\n",
    "            sel_avg_lst.append(i)\n",
    "            break\n",
    "    \n",
    "for i in train_col[2:]:\n",
    "    for k in era_col:\n",
    "        if k in i:\n",
    "            sel_era_lst.append(i)\n",
    "            break\n"
   ]
  },
  {
   "cell_type": "code",
   "execution_count": 48,
   "metadata": {
    "scrolled": true
   },
   "outputs": [
    {
     "data": {
      "text/plain": [
       "['IDX', 'MERGE_IDX']"
      ]
     },
     "execution_count": 48,
     "metadata": {},
     "output_type": "execute_result"
    }
   ],
   "source": [
    "# 기존에서 제외된 column 목록\n",
    "list(set(list(data.columns))- set(hitter+pitcher + vs_hitter+vs_pitcher + common_list))"
   ]
  },
  {
   "cell_type": "markdown",
   "metadata": {},
   "source": [
    "### 5. 최종 데이터셋 생성"
   ]
  },
  {
   "cell_type": "code",
   "execution_count": 49,
   "metadata": {},
   "outputs": [],
   "source": [
    "#승률\n",
    "PCT_train_X = train_s_drop_df\n",
    "PCT_train_y = train_s_df[[\"T_ID\",\"YEAR\",\"PCT\"]]\n",
    "\n",
    "PCT_test_X = test_s_drop_df\n",
    "PCT_test_y = test_s_df[[\"T_ID\",\"YEAR\",\"PCT\"]]"
   ]
  },
  {
   "cell_type": "code",
   "execution_count": 50,
   "metadata": {},
   "outputs": [],
   "source": [
    "# 타율\n",
    "AVG_train_X = train_s_drop_df[sel_avg_lst]\n",
    "AVG_train_y = train_s_df[[\"T_ID\",\"YEAR\",\"AVG\"]]\n",
    "\n",
    "AVG_test_X = test_s_drop_df[sel_avg_lst]\n",
    "AVG_test_y = test_s_df[[\"T_ID\",\"YEAR\",\"AVG\"]]"
   ]
  },
  {
   "cell_type": "code",
   "execution_count": 51,
   "metadata": {},
   "outputs": [],
   "source": [
    "# 방어율\n",
    "ERA_train_X = train_s_drop_df[sel_era_lst]\n",
    "ERA_train_y = train_s_df[[\"T_ID\",\"YEAR\",\"ERA\"]]\n",
    "\n",
    "ERA_test_X = test_s_drop_df[sel_era_lst]\n",
    "ERA_test_y = test_s_df[[\"T_ID\",\"YEAR\",\"ERA\"]]"
   ]
  },
  {
   "cell_type": "markdown",
   "metadata": {},
   "source": [
    "### 6. 저장"
   ]
  },
  {
   "cell_type": "code",
   "execution_count": 52,
   "metadata": {},
   "outputs": [],
   "source": [
    "PCT_train_X.to_csv(\"PCT/PCT_train_X.csv\",index=False)\n",
    "PCT_train_y.to_csv(\"PCT/PCT_train_y.csv\",index=False)\n",
    "\n",
    "PCT_test_X.to_csv(\"PCT/PCT_test_X.csv\",index=False)\n",
    "PCT_test_y.to_csv(\"PCT/PCT_test_y.csv\",index=False)"
   ]
  },
  {
   "cell_type": "code",
   "execution_count": 53,
   "metadata": {},
   "outputs": [],
   "source": [
    "AVG_train_X.to_csv(\"AVG/AVG_train_X.csv\",index=False)\n",
    "AVG_train_y.to_csv(\"AVG/AVG_train_y.csv\",index=False)\n",
    "\n",
    "AVG_test_X.to_csv(\"AVG/AVG_test_X.csv\",index=False)\n",
    "AVG_test_y.to_csv(\"AVG/AVG_test_y.csv\",index=False)"
   ]
  },
  {
   "cell_type": "code",
   "execution_count": 54,
   "metadata": {},
   "outputs": [],
   "source": [
    "ERA_train_X.to_csv(\"ERA/ERA_train_X.csv\",index=False)\n",
    "ERA_train_y.to_csv(\"ERA/ERA_train_y.csv\",index=False)\n",
    "\n",
    "ERA_test_X.to_csv(\"ERA/ERA_test_X.csv\",index=False)\n",
    "ERA_test_y.to_csv(\"ERA/ERA_test_y.csv\",index=False)"
   ]
  },
  {
   "cell_type": "markdown",
   "metadata": {},
   "source": [
    "### <span style = \"color:blue\"> <참조> 팀 이름으로 one-hot 생성 </span>"
   ]
  },
  {
   "cell_type": "code",
   "execution_count": 267,
   "metadata": {},
   "outputs": [],
   "source": [
    "#예시\n",
    "PCT_train_X_oh = pd.concat([PCT_train_X, pd.get_dummies(PCT_train_X.T_ID)], axis = 1).drop([\"T_ID\"],axis=1)"
   ]
  },
  {
   "cell_type": "code",
   "execution_count": 268,
   "metadata": {},
   "outputs": [
    {
     "data": {
      "text/html": [
       "<div>\n",
       "<style scoped>\n",
       "    .dataframe tbody tr th:only-of-type {\n",
       "        vertical-align: middle;\n",
       "    }\n",
       "\n",
       "    .dataframe tbody tr th {\n",
       "        vertical-align: top;\n",
       "    }\n",
       "\n",
       "    .dataframe thead th {\n",
       "        text-align: right;\n",
       "    }\n",
       "</style>\n",
       "<table border=\"1\" class=\"dataframe\">\n",
       "  <thead>\n",
       "    <tr style=\"text-align: right;\">\n",
       "      <th></th>\n",
       "      <th>YEAR</th>\n",
       "      <th>shift_HEADER_NO</th>\n",
       "      <th>shift_PF</th>\n",
       "      <th>shift_H_A</th>\n",
       "      <th>shift_PCT</th>\n",
       "      <th>shift_avg</th>\n",
       "      <th>shift_OBP</th>\n",
       "      <th>shift_SLG</th>\n",
       "      <th>shift_OPS</th>\n",
       "      <th>shift_RC</th>\n",
       "      <th>...</th>\n",
       "      <th>HH</th>\n",
       "      <th>HT</th>\n",
       "      <th>KT</th>\n",
       "      <th>LG</th>\n",
       "      <th>LT</th>\n",
       "      <th>NC</th>\n",
       "      <th>OB</th>\n",
       "      <th>SK</th>\n",
       "      <th>SS</th>\n",
       "      <th>WO</th>\n",
       "    </tr>\n",
       "  </thead>\n",
       "  <tbody>\n",
       "    <tr>\n",
       "      <th>0</th>\n",
       "      <td>2016</td>\n",
       "      <td>0.0</td>\n",
       "      <td>972.833333</td>\n",
       "      <td>0.500000</td>\n",
       "      <td>0.500000</td>\n",
       "      <td>0.253317</td>\n",
       "      <td>0.325583</td>\n",
       "      <td>0.374167</td>\n",
       "      <td>0.699750</td>\n",
       "      <td>0.656958</td>\n",
       "      <td>...</td>\n",
       "      <td>0</td>\n",
       "      <td>0</td>\n",
       "      <td>0</td>\n",
       "      <td>1</td>\n",
       "      <td>0</td>\n",
       "      <td>0</td>\n",
       "      <td>0</td>\n",
       "      <td>0</td>\n",
       "      <td>0</td>\n",
       "      <td>0</td>\n",
       "    </tr>\n",
       "    <tr>\n",
       "      <th>1</th>\n",
       "      <td>2016</td>\n",
       "      <td>0.0</td>\n",
       "      <td>973.000000</td>\n",
       "      <td>0.500000</td>\n",
       "      <td>0.478261</td>\n",
       "      <td>0.291169</td>\n",
       "      <td>0.355625</td>\n",
       "      <td>0.403208</td>\n",
       "      <td>0.758833</td>\n",
       "      <td>0.825417</td>\n",
       "      <td>...</td>\n",
       "      <td>0</td>\n",
       "      <td>0</td>\n",
       "      <td>0</td>\n",
       "      <td>1</td>\n",
       "      <td>0</td>\n",
       "      <td>0</td>\n",
       "      <td>0</td>\n",
       "      <td>0</td>\n",
       "      <td>0</td>\n",
       "      <td>0</td>\n",
       "    </tr>\n",
       "    <tr>\n",
       "      <th>2</th>\n",
       "      <td>2016</td>\n",
       "      <td>0.0</td>\n",
       "      <td>968.625000</td>\n",
       "      <td>0.541667</td>\n",
       "      <td>0.375000</td>\n",
       "      <td>0.305842</td>\n",
       "      <td>0.363542</td>\n",
       "      <td>0.410750</td>\n",
       "      <td>0.774292</td>\n",
       "      <td>1.135625</td>\n",
       "      <td>...</td>\n",
       "      <td>0</td>\n",
       "      <td>0</td>\n",
       "      <td>0</td>\n",
       "      <td>1</td>\n",
       "      <td>0</td>\n",
       "      <td>0</td>\n",
       "      <td>0</td>\n",
       "      <td>0</td>\n",
       "      <td>0</td>\n",
       "      <td>0</td>\n",
       "    </tr>\n",
       "    <tr>\n",
       "      <th>3</th>\n",
       "      <td>2016</td>\n",
       "      <td>0.0</td>\n",
       "      <td>981.000000</td>\n",
       "      <td>0.416667</td>\n",
       "      <td>0.458333</td>\n",
       "      <td>0.297110</td>\n",
       "      <td>0.366333</td>\n",
       "      <td>0.432083</td>\n",
       "      <td>0.798417</td>\n",
       "      <td>1.201167</td>\n",
       "      <td>...</td>\n",
       "      <td>0</td>\n",
       "      <td>0</td>\n",
       "      <td>0</td>\n",
       "      <td>1</td>\n",
       "      <td>0</td>\n",
       "      <td>0</td>\n",
       "      <td>0</td>\n",
       "      <td>0</td>\n",
       "      <td>0</td>\n",
       "      <td>0</td>\n",
       "    </tr>\n",
       "    <tr>\n",
       "      <th>4</th>\n",
       "      <td>2016</td>\n",
       "      <td>0.0</td>\n",
       "      <td>972.833333</td>\n",
       "      <td>0.500000</td>\n",
       "      <td>0.500000</td>\n",
       "      <td>0.256379</td>\n",
       "      <td>0.327667</td>\n",
       "      <td>0.378792</td>\n",
       "      <td>0.706458</td>\n",
       "      <td>0.656500</td>\n",
       "      <td>...</td>\n",
       "      <td>0</td>\n",
       "      <td>0</td>\n",
       "      <td>0</td>\n",
       "      <td>1</td>\n",
       "      <td>0</td>\n",
       "      <td>0</td>\n",
       "      <td>0</td>\n",
       "      <td>0</td>\n",
       "      <td>0</td>\n",
       "      <td>0</td>\n",
       "    </tr>\n",
       "    <tr>\n",
       "      <th>...</th>\n",
       "      <td>...</td>\n",
       "      <td>...</td>\n",
       "      <td>...</td>\n",
       "      <td>...</td>\n",
       "      <td>...</td>\n",
       "      <td>...</td>\n",
       "      <td>...</td>\n",
       "      <td>...</td>\n",
       "      <td>...</td>\n",
       "      <td>...</td>\n",
       "      <td>...</td>\n",
       "      <td>...</td>\n",
       "      <td>...</td>\n",
       "      <td>...</td>\n",
       "      <td>...</td>\n",
       "      <td>...</td>\n",
       "      <td>...</td>\n",
       "      <td>...</td>\n",
       "      <td>...</td>\n",
       "      <td>...</td>\n",
       "      <td>...</td>\n",
       "    </tr>\n",
       "    <tr>\n",
       "      <th>2915</th>\n",
       "      <td>2019</td>\n",
       "      <td>0.0</td>\n",
       "      <td>1025.375000</td>\n",
       "      <td>0.500000</td>\n",
       "      <td>0.500000</td>\n",
       "      <td>0.270784</td>\n",
       "      <td>0.324125</td>\n",
       "      <td>0.399000</td>\n",
       "      <td>0.723125</td>\n",
       "      <td>0.465083</td>\n",
       "      <td>...</td>\n",
       "      <td>0</td>\n",
       "      <td>0</td>\n",
       "      <td>0</td>\n",
       "      <td>0</td>\n",
       "      <td>0</td>\n",
       "      <td>0</td>\n",
       "      <td>0</td>\n",
       "      <td>0</td>\n",
       "      <td>1</td>\n",
       "      <td>0</td>\n",
       "    </tr>\n",
       "    <tr>\n",
       "      <th>2916</th>\n",
       "      <td>2019</td>\n",
       "      <td>0.0</td>\n",
       "      <td>1025.000000</td>\n",
       "      <td>0.375000</td>\n",
       "      <td>0.391304</td>\n",
       "      <td>0.269821</td>\n",
       "      <td>0.330208</td>\n",
       "      <td>0.387167</td>\n",
       "      <td>0.717375</td>\n",
       "      <td>0.432292</td>\n",
       "      <td>...</td>\n",
       "      <td>0</td>\n",
       "      <td>0</td>\n",
       "      <td>0</td>\n",
       "      <td>0</td>\n",
       "      <td>0</td>\n",
       "      <td>0</td>\n",
       "      <td>0</td>\n",
       "      <td>0</td>\n",
       "      <td>1</td>\n",
       "      <td>0</td>\n",
       "    </tr>\n",
       "    <tr>\n",
       "      <th>2917</th>\n",
       "      <td>2019</td>\n",
       "      <td>0.0</td>\n",
       "      <td>1024.416667</td>\n",
       "      <td>0.458333</td>\n",
       "      <td>0.416667</td>\n",
       "      <td>0.282396</td>\n",
       "      <td>0.333167</td>\n",
       "      <td>0.405708</td>\n",
       "      <td>0.738875</td>\n",
       "      <td>0.644417</td>\n",
       "      <td>...</td>\n",
       "      <td>0</td>\n",
       "      <td>0</td>\n",
       "      <td>0</td>\n",
       "      <td>0</td>\n",
       "      <td>0</td>\n",
       "      <td>0</td>\n",
       "      <td>0</td>\n",
       "      <td>0</td>\n",
       "      <td>1</td>\n",
       "      <td>0</td>\n",
       "    </tr>\n",
       "    <tr>\n",
       "      <th>2918</th>\n",
       "      <td>2019</td>\n",
       "      <td>0.0</td>\n",
       "      <td>1025.375000</td>\n",
       "      <td>0.500000</td>\n",
       "      <td>0.500000</td>\n",
       "      <td>0.271106</td>\n",
       "      <td>0.324375</td>\n",
       "      <td>0.391292</td>\n",
       "      <td>0.715667</td>\n",
       "      <td>0.469250</td>\n",
       "      <td>...</td>\n",
       "      <td>0</td>\n",
       "      <td>0</td>\n",
       "      <td>0</td>\n",
       "      <td>0</td>\n",
       "      <td>0</td>\n",
       "      <td>0</td>\n",
       "      <td>0</td>\n",
       "      <td>0</td>\n",
       "      <td>1</td>\n",
       "      <td>0</td>\n",
       "    </tr>\n",
       "    <tr>\n",
       "      <th>2919</th>\n",
       "      <td>2019</td>\n",
       "      <td>0.0</td>\n",
       "      <td>1025.000000</td>\n",
       "      <td>0.375000</td>\n",
       "      <td>0.391304</td>\n",
       "      <td>0.275949</td>\n",
       "      <td>0.338417</td>\n",
       "      <td>0.400167</td>\n",
       "      <td>0.738583</td>\n",
       "      <td>0.546583</td>\n",
       "      <td>...</td>\n",
       "      <td>0</td>\n",
       "      <td>0</td>\n",
       "      <td>0</td>\n",
       "      <td>0</td>\n",
       "      <td>0</td>\n",
       "      <td>0</td>\n",
       "      <td>0</td>\n",
       "      <td>0</td>\n",
       "      <td>1</td>\n",
       "      <td>0</td>\n",
       "    </tr>\n",
       "  </tbody>\n",
       "</table>\n",
       "<p>2920 rows × 71 columns</p>\n",
       "</div>"
      ],
      "text/plain": [
       "      YEAR  shift_HEADER_NO     shift_PF  shift_H_A  shift_PCT  shift_avg  \\\n",
       "0     2016              0.0   972.833333   0.500000   0.500000   0.253317   \n",
       "1     2016              0.0   973.000000   0.500000   0.478261   0.291169   \n",
       "2     2016              0.0   968.625000   0.541667   0.375000   0.305842   \n",
       "3     2016              0.0   981.000000   0.416667   0.458333   0.297110   \n",
       "4     2016              0.0   972.833333   0.500000   0.500000   0.256379   \n",
       "...    ...              ...          ...        ...        ...        ...   \n",
       "2915  2019              0.0  1025.375000   0.500000   0.500000   0.270784   \n",
       "2916  2019              0.0  1025.000000   0.375000   0.391304   0.269821   \n",
       "2917  2019              0.0  1024.416667   0.458333   0.416667   0.282396   \n",
       "2918  2019              0.0  1025.375000   0.500000   0.500000   0.271106   \n",
       "2919  2019              0.0  1025.000000   0.375000   0.391304   0.275949   \n",
       "\n",
       "      shift_OBP  shift_SLG  shift_OPS  shift_RC  ...  HH  HT  KT  LG  LT  NC  \\\n",
       "0      0.325583   0.374167   0.699750  0.656958  ...   0   0   0   1   0   0   \n",
       "1      0.355625   0.403208   0.758833  0.825417  ...   0   0   0   1   0   0   \n",
       "2      0.363542   0.410750   0.774292  1.135625  ...   0   0   0   1   0   0   \n",
       "3      0.366333   0.432083   0.798417  1.201167  ...   0   0   0   1   0   0   \n",
       "4      0.327667   0.378792   0.706458  0.656500  ...   0   0   0   1   0   0   \n",
       "...         ...        ...        ...       ...  ...  ..  ..  ..  ..  ..  ..   \n",
       "2915   0.324125   0.399000   0.723125  0.465083  ...   0   0   0   0   0   0   \n",
       "2916   0.330208   0.387167   0.717375  0.432292  ...   0   0   0   0   0   0   \n",
       "2917   0.333167   0.405708   0.738875  0.644417  ...   0   0   0   0   0   0   \n",
       "2918   0.324375   0.391292   0.715667  0.469250  ...   0   0   0   0   0   0   \n",
       "2919   0.338417   0.400167   0.738583  0.546583  ...   0   0   0   0   0   0   \n",
       "\n",
       "      OB  SK  SS  WO  \n",
       "0      0   0   0   0  \n",
       "1      0   0   0   0  \n",
       "2      0   0   0   0  \n",
       "3      0   0   0   0  \n",
       "4      0   0   0   0  \n",
       "...   ..  ..  ..  ..  \n",
       "2915   0   0   1   0  \n",
       "2916   0   0   1   0  \n",
       "2917   0   0   1   0  \n",
       "2918   0   0   1   0  \n",
       "2919   0   0   1   0  \n",
       "\n",
       "[2920 rows x 71 columns]"
      ]
     },
     "execution_count": 268,
     "metadata": {},
     "output_type": "execute_result"
    }
   ],
   "source": [
    "PCT_train_X_oh"
   ]
  }
 ],
 "metadata": {
  "kernelspec": {
   "display_name": "Python 3",
   "language": "python",
   "name": "python3"
  },
  "language_info": {
   "codemirror_mode": {
    "name": "ipython",
    "version": 3
   },
   "file_extension": ".py",
   "mimetype": "text/x-python",
   "name": "python",
   "nbconvert_exporter": "python",
   "pygments_lexer": "ipython3",
   "version": "3.6.4"
  }
 },
 "nbformat": 4,
 "nbformat_minor": 2
}
