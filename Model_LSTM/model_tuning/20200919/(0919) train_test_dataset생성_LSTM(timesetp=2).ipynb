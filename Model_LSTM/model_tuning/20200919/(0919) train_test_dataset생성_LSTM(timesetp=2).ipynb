{
 "cells": [
  {
   "cell_type": "markdown",
   "metadata": {},
   "source": [
    "### Import python library"
   ]
  },
  {
   "cell_type": "code",
   "execution_count": 1,
   "metadata": {},
   "outputs": [],
   "source": [
    "import numpy as np\n",
    "import pandas as pd"
   ]
  },
  {
   "cell_type": "markdown",
   "metadata": {},
   "source": [
    "### 1. Read data: augment_24group_1620.csv필요"
   ]
  },
  {
   "cell_type": "code",
   "execution_count": 2,
   "metadata": {},
   "outputs": [],
   "source": [
    "data = pd.read_csv(\"bigcon_final_dataset.csv\")"
   ]
  },
  {
   "cell_type": "code",
   "execution_count": 3,
   "metadata": {},
   "outputs": [],
   "source": [
    "data.drop([\"Unnamed: 0\"],axis=1, inplace = True)"
   ]
  },
  {
   "cell_type": "code",
   "execution_count": 4,
   "metadata": {},
   "outputs": [],
   "source": [
    "team = list(set(data.T_ID))"
   ]
  },
  {
   "cell_type": "code",
   "execution_count": 5,
   "metadata": {},
   "outputs": [],
   "source": [
    "def shift_data(sel_col,df, shift_col):\n",
    "    df_shift = df.loc[:,sel_col]\n",
    "    \n",
    "    for i in range(1,3):\n",
    "        for c in shift_col:\n",
    "            df_shift.loc[:,'shift_{}_{}'.format(c,i)] = df.loc[:,c].shift(i)\n",
    "            \n",
    "            \n",
    "    df_shift.dropna(inplace = True)\n",
    "    df_idx = list(df_shift.index)\n",
    "\n",
    "    drop_idx = []\n",
    "    for i in df_idx:\n",
    "        idx_num = df_shift.loc[i,'IDX']\n",
    "        if idx_num <= df_shift.loc[i,'shift_IDX_1'] or idx_num <= df_shift.loc[i,'shift_IDX_2']  :\n",
    "            drop_idx.append(i)\n",
    "\n",
    "    df_s_df = df_shift.drop(drop_idx).reset_index(drop = True)\n",
    "    \n",
    "    return df_s_df"
   ]
  },
  {
   "cell_type": "markdown",
   "metadata": {},
   "source": [
    "### 2. Train 전처리"
   ]
  },
  {
   "cell_type": "code",
   "execution_count": 6,
   "metadata": {},
   "outputs": [],
   "source": [
    "train = data[data[\"IDX\"]!=777]\n",
    "\n",
    "sel_col = [\"T_ID\",\"IDX\",\"MERGE_IDX\",\"PCT\",\"ERA\",\"AVG\",'YEAR']\n",
    "shift_col = sorted(list(set(list(train.columns))-set(['T_ID',\"YEAR\"])))\n",
    "\n",
    "train_s_df = shift_data(sel_col, train, shift_col)\n",
    "train_s_drop_df = train_s_df.drop([\"IDX\",\"MERGE_IDX\",\"shift_IDX_1\",\"shift_MERGE_IDX_1\",\n",
    "                                   \"shift_IDX_2\",\"shift_MERGE_IDX_2\",\"ERA\",\"AVG\",\"PCT\"],axis = 1)"
   ]
  },
  {
   "cell_type": "code",
   "execution_count": 7,
   "metadata": {},
   "outputs": [
    {
     "data": {
      "text/plain": [
       "(1960, 125)"
      ]
     },
     "execution_count": 7,
     "metadata": {},
     "output_type": "execute_result"
    }
   ],
   "source": [
    "train_s_df.shape"
   ]
  },
  {
   "cell_type": "markdown",
   "metadata": {},
   "source": [
    "### 3. Test 전처리"
   ]
  },
  {
   "cell_type": "code",
   "execution_count": 8,
   "metadata": {},
   "outputs": [],
   "source": [
    "test = data[data[\"IDX\"]==777]"
   ]
  },
  {
   "cell_type": "code",
   "execution_count": 9,
   "metadata": {},
   "outputs": [],
   "source": [
    "tmp5 = data[(data[\"IDX\"]==5)]\n",
    "tmp4 = data[(data[\"IDX\"]==4) & (data[\"MERGE_IDX\"]==4)]\n",
    "\n",
    "test = pd.concat([test,tmp5, tmp4],axis=0)\n",
    "\n",
    "test = test.sort_values(by=[\"YEAR\",\"T_ID\",\"IDX\"]).reset_index(drop=True)"
   ]
  },
  {
   "cell_type": "code",
   "execution_count": 10,
   "metadata": {},
   "outputs": [],
   "source": [
    "shift_col = sorted(list(set(list(test.columns))-set(['T_ID','YEAR'])))\n",
    "\n",
    "test_s_df = shift_data(sel_col, test, shift_col)\n",
    "\n",
    "test_s_df = test_s_df[test_s_df[\"IDX\"]==777].reset_index(drop = True)\n",
    "test_s_drop_df = test_s_df.drop([\"IDX\",\"MERGE_IDX\",\"shift_IDX_1\",\"shift_MERGE_IDX_1\",\n",
    "                                   \"shift_IDX_2\",\"shift_MERGE_IDX_2\",\"ERA\",\"AVG\",\"PCT\"],axis = 1)"
   ]
  },
  {
   "cell_type": "code",
   "execution_count": 11,
   "metadata": {},
   "outputs": [],
   "source": [
    "PCT_lstm_train_X = train_s_drop_df.reset_index(drop=True)\n",
    "PCT_lstm_train_y =  train_s_df[[\"T_ID\",\"YEAR\",\"PCT\"]]\n",
    "\n",
    "PCT_lstm_test_X = test_s_drop_df.reset_index(drop=True)\n",
    "PCT_lstm_test_y = test_s_df[[\"T_ID\",\"YEAR\",\"PCT\"]]"
   ]
  },
  {
   "cell_type": "code",
   "execution_count": 27,
   "metadata": {},
   "outputs": [],
   "source": [
    "PCT_lstm_train_X.to_csv(\"PCT_lstm_final_train_X.csv\",index=False)\n",
    "PCT_lstm_train_y.to_csv(\"PCT_lstm_final_train_y.csv\",index=False)\n",
    "\n",
    "PCT_lstm_test_X.to_csv(\"PCT_lstm_final_test_X.csv\",index=False)\n",
    "PCT_lstm_test_y.to_csv(\"PCT_lstm_final_test_y.csv\",index=False)"
   ]
  },
  {
   "cell_type": "code",
   "execution_count": 12,
   "metadata": {},
   "outputs": [],
   "source": [
    "# shift 추가\n",
    "common_list = ['T_ID', 'YEAR', 'HEADER_NO','PCT']\n",
    "hitter = ['AVG', 'OBP', 'SLG', 'OPS', 'RC', 'GPA', 'BA', 'SECA', \n",
    "          'TA', 'XR', 'ISO', 'wOBA', 'P_HRA_RT', 'DER']\n",
    "pitcher = ['WHIP', 'LOB', 'ERA', 'FIP', 'H_9', 'K_9', 'BB_9', \n",
    "           'HR_9', 'oAVG', 'oSLG', 'oOBP', 'P_WHIP_RT', 'P2_WHIP_RT', 'CB_WHIP_RT','oISO', 'oOPS']\n",
    "\n",
    "vs_hitter = ['vs_AVG', 'vs_OBP', 'vs_SLG', 'vs_OPS', 'vs_RC', 'vs_GPA', 'vs_BA', 'vs_SECA', \n",
    "             'vs_TA', 'vs_XR', 'vs_ISO', 'vs_wOBA', 'vs_P_HRA_RT', 'vs_DER']\n",
    "vs_pitcher = ['vs_WHIP', 'vs_LOB', 'vs_ERA', 'vs_FIP', 'vs_H_9', 'vs_K_9', 'vs_BB_9', \n",
    "              'vs_HR_9', 'vs_oAVG', 'vs_oSLG', 'vs_oOBP', 'vs_P_WHIP_RT', 'vs_P2_WHIP_RT', 'vs_CB_WHIP_RT'\n",
    "             ,'vs_oISO', 'vs_oOPS']\n",
    "\n",
    "avg_col = common_list + hitter + vs_pitcher\n",
    "era_col = common_list + pitcher + vs_hitter\n",
    "\n",
    "# s_hit = add_shift(hitter)\n",
    "# s_pit = add_shift(pitcher)\n",
    "# s_vs_hit = add_shift(vs_hitter)\n",
    "# s_vs_pit = add_shift(vs_pitcher)"
   ]
  },
  {
   "cell_type": "code",
   "execution_count": 13,
   "metadata": {},
   "outputs": [],
   "source": [
    "train_col = list(train_s_drop_df.columns)\n",
    "sel_avg_lst =train_col[:2]\n",
    "sel_era_lst = train_col[:2]\n",
    "\n",
    "for i in train_col[2:]:\n",
    "    for k in avg_col:\n",
    "        if k in i:\n",
    "            sel_avg_lst.append(i)\n",
    "            break\n",
    "    \n",
    "for i in train_col[2:]:\n",
    "    for k in era_col:\n",
    "        if k in i:\n",
    "            sel_era_lst.append(i)\n",
    "            break\n"
   ]
  },
  {
   "cell_type": "code",
   "execution_count": 57,
   "metadata": {},
   "outputs": [],
   "source": [
    "AVG_lstm_train_X = train_s_drop_df.reset_index(drop=True)\n",
    "AVG_lstm_train_y =  train_s_df[[\"T_ID\",\"YEAR\",\"AVG\"]]\n",
    "\n",
    "AVG_lstm_test_X = test_s_drop_df.reset_index(drop=True)\n",
    "AVG_lstm_test_y = test_s_df[[\"T_ID\",\"YEAR\",\"AVG\"]]"
   ]
  },
  {
   "cell_type": "code",
   "execution_count": 58,
   "metadata": {},
   "outputs": [],
   "source": [
    "AVG_lstm_train_X_hit = AVG_lstm_train_X[sel_avg_lst]\n",
    "AVG_lstm_test_X_hit = AVG_lstm_test_X[sel_avg_lst]"
   ]
  },
  {
   "cell_type": "code",
   "execution_count": 59,
   "metadata": {},
   "outputs": [],
   "source": [
    "AVG_lstm_train_X_hit.to_csv(\"AVG_lstm_final_train_X_hit.csv\",index=False)\n",
    "AVG_lstm_train_y.to_csv(\"AVG_lstm_final_train_y_hit.csv\",index=False)\n",
    "\n",
    "AVG_lstm_test_X_hit.to_csv(\"AVG_lstm_final_test_X_hit.csv\",index=False)\n",
    "AVG_lstm_test_y.to_csv(\"AVG_lstm_final_test_y_hit.csv\",index=False)"
   ]
  },
  {
   "cell_type": "code",
   "execution_count": 14,
   "metadata": {},
   "outputs": [],
   "source": [
    "# 방어율\n",
    "ERA_train_X = train_s_drop_df[sel_era_lst]\n",
    "ERA_train_y = train_s_df[[\"T_ID\",\"YEAR\",\"ERA\"]]\n",
    "\n",
    "ERA_test_X = test_s_drop_df[sel_era_lst]\n",
    "ERA_test_y = test_s_df[[\"T_ID\",\"YEAR\",\"ERA\"]]"
   ]
  },
  {
   "cell_type": "code",
   "execution_count": 15,
   "metadata": {},
   "outputs": [],
   "source": [
    "ERA_train_X.to_csv(\"ERA_lstm_final_train_X.csv\",index=False)\n",
    "ERA_train_y.to_csv(\"ERA_lstm_final_train_y.csv\",index=False)\n",
    "\n",
    "ERA_test_X.to_csv(\"ERA_lstm_final_test_X.csv\",index=False)\n",
    "ERA_test_y.to_csv(\"ERA_lstm_final_test_y.csv\",index=False)"
   ]
  }
 ],
 "metadata": {
  "kernelspec": {
   "display_name": "Python 3",
   "language": "python",
   "name": "python3"
  },
  "language_info": {
   "codemirror_mode": {
    "name": "ipython",
    "version": 3
   },
   "file_extension": ".py",
   "mimetype": "text/x-python",
   "name": "python",
   "nbconvert_exporter": "python",
   "pygments_lexer": "ipython3",
   "version": "3.6.4"
  }
 },
 "nbformat": 4,
 "nbformat_minor": 2
}
