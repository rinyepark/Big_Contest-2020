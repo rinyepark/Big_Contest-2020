{
 "cells": [
  {
   "cell_type": "markdown",
   "metadata": {},
   "source": [
    "### Import python library"
   ]
  },
  {
   "cell_type": "code",
   "execution_count": 80,
   "metadata": {},
   "outputs": [],
   "source": [
    "import tensorflow as tf\n",
    "import numpy as np\n",
    "\n",
    "from tensorflow import keras\n",
    "from tensorflow.keras.utils import to_categorical\n",
    "\n",
    "from tensorflow.keras.models import Sequential\n",
    "# from tensorflow.keras.utils import np_utils\n",
    "from tensorflow.keras.layers import Dense, LSTM, Dropout\n",
    "import tensorflow.keras.backend as K \n",
    "\n",
    "from tensorflow.keras.optimizers import RMSprop\n",
    "from tensorflow.keras.callbacks import EarlyStopping\n",
    "\n",
    "from sklearn.metrics import accuracy_score\n",
    "from sklearn.metrics import mean_squared_error\n",
    "from sklearn.preprocessing import MinMaxScaler\n",
    "\n",
    "\n",
    "import pandas as pd\n",
    "\n",
    "import matplotlib.pyplot as plt\n",
    "# import seaborn as sns\n",
    "# import plotly.express as px\n",
    "# import plotly.graph_objects as go\n",
    "\n",
    "from math import sqrt"
   ]
  },
  {
   "cell_type": "markdown",
   "metadata": {},
   "source": [
    "### 1. Read data: augment_24group_1620.csv필요"
   ]
  },
  {
   "cell_type": "code",
   "execution_count": 2,
   "metadata": {},
   "outputs": [],
   "source": [
    "data = pd.read_csv(\"model_input_data/augment_24group_1620.csv\")"
   ]
  },
  {
   "cell_type": "markdown",
   "metadata": {},
   "source": [
    "#### 1) 변수 설정"
   ]
  },
  {
   "cell_type": "code",
   "execution_count": 54,
   "metadata": {},
   "outputs": [],
   "source": [
    "team_val = 'HH'\n",
    "year_val = 2016"
   ]
  },
  {
   "cell_type": "markdown",
   "metadata": {},
   "source": [
    "#### 2) Train 전처리"
   ]
  },
  {
   "cell_type": "code",
   "execution_count": 55,
   "metadata": {},
   "outputs": [],
   "source": [
    "tmp = data.copy()\n",
    "\n",
    "\n",
    "tmp = tmp[tmp[\"YEAR\"]!=2020]\n",
    "tmp.head(50)\n",
    "\n",
    "train = tmp[tmp[\"IDX\"]!=777]\n",
    "test = tmp[tmp[\"IDX\"]==777]"
   ]
  },
  {
   "cell_type": "code",
   "execution_count": 56,
   "metadata": {},
   "outputs": [
    {
     "data": {
      "text/html": [
       "<div>\n",
       "<style scoped>\n",
       "    .dataframe tbody tr th:only-of-type {\n",
       "        vertical-align: middle;\n",
       "    }\n",
       "\n",
       "    .dataframe tbody tr th {\n",
       "        vertical-align: top;\n",
       "    }\n",
       "\n",
       "    .dataframe thead th {\n",
       "        text-align: right;\n",
       "    }\n",
       "</style>\n",
       "<table border=\"1\" class=\"dataframe\">\n",
       "  <thead>\n",
       "    <tr style=\"text-align: right;\">\n",
       "      <th></th>\n",
       "      <th>T_ID</th>\n",
       "      <th>YEAR</th>\n",
       "      <th>PCT</th>\n",
       "      <th>IDX</th>\n",
       "      <th>MERGE_IDX</th>\n",
       "      <th>HEADER_NO</th>\n",
       "      <th>era</th>\n",
       "      <th>avg</th>\n",
       "      <th>vs_era</th>\n",
       "      <th>vs_avg</th>\n",
       "      <th>...</th>\n",
       "      <th>K_9</th>\n",
       "      <th>vs_ERA</th>\n",
       "      <th>H_A</th>\n",
       "      <th>vs_K_9</th>\n",
       "      <th>vs_FIP</th>\n",
       "      <th>H_9</th>\n",
       "      <th>oSLG</th>\n",
       "      <th>vs_OPS</th>\n",
       "      <th>vs_WHIP</th>\n",
       "      <th>P2_WHIP_RT</th>\n",
       "    </tr>\n",
       "  </thead>\n",
       "  <tbody>\n",
       "    <tr>\n",
       "      <th>99</th>\n",
       "      <td>HH</td>\n",
       "      <td>2016</td>\n",
       "      <td>0.291667</td>\n",
       "      <td>1</td>\n",
       "      <td>1</td>\n",
       "      <td>0</td>\n",
       "      <td>5.791667</td>\n",
       "      <td>0.264242</td>\n",
       "      <td>3.728371</td>\n",
       "      <td>0.280193</td>\n",
       "      <td>...</td>\n",
       "      <td>7.574750</td>\n",
       "      <td>3.821167</td>\n",
       "      <td>0.541667</td>\n",
       "      <td>7.715417</td>\n",
       "      <td>17.785458</td>\n",
       "      <td>9.805375</td>\n",
       "      <td>0.440208</td>\n",
       "      <td>0.813708</td>\n",
       "      <td>1.375542</td>\n",
       "      <td>2.595583</td>\n",
       "    </tr>\n",
       "    <tr>\n",
       "      <th>100</th>\n",
       "      <td>HH</td>\n",
       "      <td>2016</td>\n",
       "      <td>0.391304</td>\n",
       "      <td>2</td>\n",
       "      <td>2</td>\n",
       "      <td>0</td>\n",
       "      <td>7.394881</td>\n",
       "      <td>0.289072</td>\n",
       "      <td>5.467290</td>\n",
       "      <td>0.329370</td>\n",
       "      <td>...</td>\n",
       "      <td>6.368083</td>\n",
       "      <td>5.576042</td>\n",
       "      <td>0.375000</td>\n",
       "      <td>6.834375</td>\n",
       "      <td>25.564625</td>\n",
       "      <td>12.042167</td>\n",
       "      <td>0.469708</td>\n",
       "      <td>0.880583</td>\n",
       "      <td>1.611250</td>\n",
       "      <td>2.383458</td>\n",
       "    </tr>\n",
       "    <tr>\n",
       "      <th>101</th>\n",
       "      <td>HH</td>\n",
       "      <td>2016</td>\n",
       "      <td>0.521739</td>\n",
       "      <td>3</td>\n",
       "      <td>3</td>\n",
       "      <td>0</td>\n",
       "      <td>4.764706</td>\n",
       "      <td>0.284884</td>\n",
       "      <td>4.726027</td>\n",
       "      <td>0.279395</td>\n",
       "      <td>...</td>\n",
       "      <td>6.308333</td>\n",
       "      <td>4.860833</td>\n",
       "      <td>0.583333</td>\n",
       "      <td>7.486875</td>\n",
       "      <td>25.086250</td>\n",
       "      <td>9.926042</td>\n",
       "      <td>0.403667</td>\n",
       "      <td>0.749875</td>\n",
       "      <td>1.480500</td>\n",
       "      <td>1.855500</td>\n",
       "    </tr>\n",
       "    <tr>\n",
       "      <th>102</th>\n",
       "      <td>HH</td>\n",
       "      <td>2016</td>\n",
       "      <td>0.608696</td>\n",
       "      <td>4</td>\n",
       "      <td>4</td>\n",
       "      <td>0</td>\n",
       "      <td>5.010721</td>\n",
       "      <td>0.314581</td>\n",
       "      <td>6.458333</td>\n",
       "      <td>0.276923</td>\n",
       "      <td>...</td>\n",
       "      <td>6.903292</td>\n",
       "      <td>6.583917</td>\n",
       "      <td>0.416667</td>\n",
       "      <td>5.725667</td>\n",
       "      <td>26.727583</td>\n",
       "      <td>9.713583</td>\n",
       "      <td>0.383917</td>\n",
       "      <td>0.721292</td>\n",
       "      <td>1.770458</td>\n",
       "      <td>1.616375</td>\n",
       "    </tr>\n",
       "    <tr>\n",
       "      <th>103</th>\n",
       "      <td>HH</td>\n",
       "      <td>2016</td>\n",
       "      <td>0.500000</td>\n",
       "      <td>5</td>\n",
       "      <td>5</td>\n",
       "      <td>0</td>\n",
       "      <td>6.412510</td>\n",
       "      <td>0.293083</td>\n",
       "      <td>5.915493</td>\n",
       "      <td>0.304651</td>\n",
       "      <td>...</td>\n",
       "      <td>7.526667</td>\n",
       "      <td>5.953583</td>\n",
       "      <td>0.500000</td>\n",
       "      <td>6.942708</td>\n",
       "      <td>22.707208</td>\n",
       "      <td>11.031000</td>\n",
       "      <td>0.462792</td>\n",
       "      <td>0.822875</td>\n",
       "      <td>1.531083</td>\n",
       "      <td>2.183125</td>\n",
       "    </tr>\n",
       "    <tr>\n",
       "      <th>...</th>\n",
       "      <td>...</td>\n",
       "      <td>...</td>\n",
       "      <td>...</td>\n",
       "      <td>...</td>\n",
       "      <td>...</td>\n",
       "      <td>...</td>\n",
       "      <td>...</td>\n",
       "      <td>...</td>\n",
       "      <td>...</td>\n",
       "      <td>...</td>\n",
       "      <td>...</td>\n",
       "      <td>...</td>\n",
       "      <td>...</td>\n",
       "      <td>...</td>\n",
       "      <td>...</td>\n",
       "      <td>...</td>\n",
       "      <td>...</td>\n",
       "      <td>...</td>\n",
       "      <td>...</td>\n",
       "      <td>...</td>\n",
       "      <td>...</td>\n",
       "    </tr>\n",
       "    <tr>\n",
       "      <th>191</th>\n",
       "      <td>HH</td>\n",
       "      <td>2016</td>\n",
       "      <td>0.458333</td>\n",
       "      <td>4</td>\n",
       "      <td>93</td>\n",
       "      <td>0</td>\n",
       "      <td>6.118869</td>\n",
       "      <td>0.290247</td>\n",
       "      <td>5.561321</td>\n",
       "      <td>0.295943</td>\n",
       "      <td>...</td>\n",
       "      <td>7.224583</td>\n",
       "      <td>5.635417</td>\n",
       "      <td>0.458333</td>\n",
       "      <td>6.973958</td>\n",
       "      <td>20.825250</td>\n",
       "      <td>10.618125</td>\n",
       "      <td>0.447375</td>\n",
       "      <td>0.797458</td>\n",
       "      <td>1.525500</td>\n",
       "      <td>2.093958</td>\n",
       "    </tr>\n",
       "    <tr>\n",
       "      <th>192</th>\n",
       "      <td>HH</td>\n",
       "      <td>2016</td>\n",
       "      <td>0.391304</td>\n",
       "      <td>1</td>\n",
       "      <td>94</td>\n",
       "      <td>0</td>\n",
       "      <td>7.566855</td>\n",
       "      <td>0.284360</td>\n",
       "      <td>5.509346</td>\n",
       "      <td>0.329384</td>\n",
       "      <td>...</td>\n",
       "      <td>6.284750</td>\n",
       "      <td>5.622917</td>\n",
       "      <td>0.375000</td>\n",
       "      <td>6.975000</td>\n",
       "      <td>25.658375</td>\n",
       "      <td>12.083833</td>\n",
       "      <td>0.469708</td>\n",
       "      <td>0.882292</td>\n",
       "      <td>1.595625</td>\n",
       "      <td>2.402250</td>\n",
       "    </tr>\n",
       "    <tr>\n",
       "      <th>193</th>\n",
       "      <td>HH</td>\n",
       "      <td>2016</td>\n",
       "      <td>0.565217</td>\n",
       "      <td>2</td>\n",
       "      <td>95</td>\n",
       "      <td>0</td>\n",
       "      <td>4.459459</td>\n",
       "      <td>0.287048</td>\n",
       "      <td>4.871560</td>\n",
       "      <td>0.276023</td>\n",
       "      <td>...</td>\n",
       "      <td>6.448958</td>\n",
       "      <td>5.027500</td>\n",
       "      <td>0.625000</td>\n",
       "      <td>7.387917</td>\n",
       "      <td>25.399917</td>\n",
       "      <td>9.686458</td>\n",
       "      <td>0.400417</td>\n",
       "      <td>0.742667</td>\n",
       "      <td>1.485708</td>\n",
       "      <td>1.756292</td>\n",
       "    </tr>\n",
       "    <tr>\n",
       "      <th>194</th>\n",
       "      <td>HH</td>\n",
       "      <td>2016</td>\n",
       "      <td>0.608696</td>\n",
       "      <td>3</td>\n",
       "      <td>96</td>\n",
       "      <td>0</td>\n",
       "      <td>5.176364</td>\n",
       "      <td>0.314154</td>\n",
       "      <td>6.458333</td>\n",
       "      <td>0.282353</td>\n",
       "      <td>...</td>\n",
       "      <td>6.856417</td>\n",
       "      <td>6.583917</td>\n",
       "      <td>0.416667</td>\n",
       "      <td>5.767333</td>\n",
       "      <td>27.468333</td>\n",
       "      <td>9.994833</td>\n",
       "      <td>0.385708</td>\n",
       "      <td>0.728542</td>\n",
       "      <td>1.788958</td>\n",
       "      <td>1.703958</td>\n",
       "    </tr>\n",
       "    <tr>\n",
       "      <th>195</th>\n",
       "      <td>HH</td>\n",
       "      <td>2016</td>\n",
       "      <td>0.458333</td>\n",
       "      <td>4</td>\n",
       "      <td>97</td>\n",
       "      <td>0</td>\n",
       "      <td>6.332815</td>\n",
       "      <td>0.287411</td>\n",
       "      <td>5.630332</td>\n",
       "      <td>0.300119</td>\n",
       "      <td>...</td>\n",
       "      <td>7.432917</td>\n",
       "      <td>5.718750</td>\n",
       "      <td>0.500000</td>\n",
       "      <td>6.859375</td>\n",
       "      <td>21.559042</td>\n",
       "      <td>10.826458</td>\n",
       "      <td>0.458958</td>\n",
       "      <td>0.814583</td>\n",
       "      <td>1.501208</td>\n",
       "      <td>2.159042</td>\n",
       "    </tr>\n",
       "  </tbody>\n",
       "</table>\n",
       "<p>97 rows × 72 columns</p>\n",
       "</div>"
      ],
      "text/plain": [
       "    T_ID  YEAR       PCT  IDX  MERGE_IDX  HEADER_NO       era       avg  \\\n",
       "99    HH  2016  0.291667    1          1          0  5.791667  0.264242   \n",
       "100   HH  2016  0.391304    2          2          0  7.394881  0.289072   \n",
       "101   HH  2016  0.521739    3          3          0  4.764706  0.284884   \n",
       "102   HH  2016  0.608696    4          4          0  5.010721  0.314581   \n",
       "103   HH  2016  0.500000    5          5          0  6.412510  0.293083   \n",
       "..   ...   ...       ...  ...        ...        ...       ...       ...   \n",
       "191   HH  2016  0.458333    4         93          0  6.118869  0.290247   \n",
       "192   HH  2016  0.391304    1         94          0  7.566855  0.284360   \n",
       "193   HH  2016  0.565217    2         95          0  4.459459  0.287048   \n",
       "194   HH  2016  0.608696    3         96          0  5.176364  0.314154   \n",
       "195   HH  2016  0.458333    4         97          0  6.332815  0.287411   \n",
       "\n",
       "       vs_era    vs_avg  ...       K_9    vs_ERA       H_A    vs_K_9  \\\n",
       "99   3.728371  0.280193  ...  7.574750  3.821167  0.541667  7.715417   \n",
       "100  5.467290  0.329370  ...  6.368083  5.576042  0.375000  6.834375   \n",
       "101  4.726027  0.279395  ...  6.308333  4.860833  0.583333  7.486875   \n",
       "102  6.458333  0.276923  ...  6.903292  6.583917  0.416667  5.725667   \n",
       "103  5.915493  0.304651  ...  7.526667  5.953583  0.500000  6.942708   \n",
       "..        ...       ...  ...       ...       ...       ...       ...   \n",
       "191  5.561321  0.295943  ...  7.224583  5.635417  0.458333  6.973958   \n",
       "192  5.509346  0.329384  ...  6.284750  5.622917  0.375000  6.975000   \n",
       "193  4.871560  0.276023  ...  6.448958  5.027500  0.625000  7.387917   \n",
       "194  6.458333  0.282353  ...  6.856417  6.583917  0.416667  5.767333   \n",
       "195  5.630332  0.300119  ...  7.432917  5.718750  0.500000  6.859375   \n",
       "\n",
       "        vs_FIP        H_9      oSLG    vs_OPS   vs_WHIP  P2_WHIP_RT  \n",
       "99   17.785458   9.805375  0.440208  0.813708  1.375542    2.595583  \n",
       "100  25.564625  12.042167  0.469708  0.880583  1.611250    2.383458  \n",
       "101  25.086250   9.926042  0.403667  0.749875  1.480500    1.855500  \n",
       "102  26.727583   9.713583  0.383917  0.721292  1.770458    1.616375  \n",
       "103  22.707208  11.031000  0.462792  0.822875  1.531083    2.183125  \n",
       "..         ...        ...       ...       ...       ...         ...  \n",
       "191  20.825250  10.618125  0.447375  0.797458  1.525500    2.093958  \n",
       "192  25.658375  12.083833  0.469708  0.882292  1.595625    2.402250  \n",
       "193  25.399917   9.686458  0.400417  0.742667  1.485708    1.756292  \n",
       "194  27.468333   9.994833  0.385708  0.728542  1.788958    1.703958  \n",
       "195  21.559042  10.826458  0.458958  0.814583  1.501208    2.159042  \n",
       "\n",
       "[97 rows x 72 columns]"
      ]
     },
     "execution_count": 56,
     "metadata": {},
     "output_type": "execute_result"
    }
   ],
   "source": [
    "ttmp = train[(train[\"T_ID\"]==team_val)]\n",
    "ttmp = ttmp[(ttmp[\"YEAR\"]==year_val)]\n",
    "ttmp"
   ]
  },
  {
   "cell_type": "markdown",
   "metadata": {},
   "source": [
    "* timestep = 2를 만들기 위해 data shift"
   ]
  },
  {
   "cell_type": "code",
   "execution_count": 57,
   "metadata": {},
   "outputs": [],
   "source": [
    "aaa = ttmp.loc[:,[\"IDX\",\"MERGE_IDX\",\"PCT\"]]\n",
    "\n",
    "for i in range(1,3):\n",
    "    for c in list(set(list(ttmp.columns))-set(['T_ID','YEAR'])):\n",
    "        aaa.loc[:,'shift_{}_{}'.format(c,i)] = ttmp.loc[:,c].shift(i)\n",
    "        \n",
    "# aaa.loc[:,[\"IDX\",\"MERGE_IDX\",\"PCT\"]] = ttmp.loc[:,[\"IDX\",\"MERGE_IDX\",\"PCT\"]]"
   ]
  },
  {
   "cell_type": "code",
   "execution_count": 58,
   "metadata": {},
   "outputs": [],
   "source": [
    "ttmp = aaa.copy()"
   ]
  },
  {
   "cell_type": "code",
   "execution_count": 59,
   "metadata": {},
   "outputs": [],
   "source": [
    "ttmp.dropna(inplace = True)\n",
    "ttmp_idx = list(ttmp.index)\n",
    "drop_idx = []\n",
    "for i in ttmp_idx:\n",
    "    idx_num = ttmp.loc[i,'IDX']\n",
    "    if idx_num < ttmp.loc[i,'shift_IDX_1'] or idx_num < ttmp.loc[i,'shift_IDX_2']:\n",
    "        drop_idx.append(i)"
   ]
  },
  {
   "cell_type": "code",
   "execution_count": 60,
   "metadata": {},
   "outputs": [],
   "source": [
    "shift_data = ttmp.drop(drop_idx).reset_index(drop = True)\n",
    "\n",
    "# shift_data = pd.concat([shift_data, pd.get_dummies(data.T_ID)], axis = 1)\n",
    "\n",
    "no_shift_lst= []\n",
    "for i in list(shift_data.columns):\n",
    "    if 'shift' not in i:\n",
    "        no_shift_lst.append(i)"
   ]
  },
  {
   "cell_type": "code",
   "execution_count": 61,
   "metadata": {},
   "outputs": [],
   "source": [
    "X_train = shift_data.drop(no_shift_lst,axis = 1)\n",
    "y_train = shift_data[[\"PCT\"]]"
   ]
  },
  {
   "cell_type": "code",
   "execution_count": 62,
   "metadata": {},
   "outputs": [
    {
     "data": {
      "text/plain": [
       "((49, 140), (49, 1))"
      ]
     },
     "execution_count": 62,
     "metadata": {},
     "output_type": "execute_result"
    }
   ],
   "source": [
    "X_train.shape, y_train.shape"
   ]
  },
  {
   "cell_type": "markdown",
   "metadata": {},
   "source": [
    "#### 4) Test 전처리"
   ]
  },
  {
   "cell_type": "code",
   "execution_count": 63,
   "metadata": {},
   "outputs": [],
   "source": [
    "sel_col = list(test.columns)\n",
    "\n",
    "tmp5 = data[(data[\"IDX\"]==5)&(data[\"T_ID\"]==team_val)][sel_col]\n",
    "tmp4 = data[(data[\"IDX\"]==4) & (data[\"MERGE_IDX\"]==4)&(data[\"T_ID\"]==team_val)][sel_col]"
   ]
  },
  {
   "cell_type": "code",
   "execution_count": 64,
   "metadata": {},
   "outputs": [],
   "source": [
    "test_df = pd.concat([test[test[\"T_ID\"]==team_val],tmp5,tmp4], axis = 0).sort_values(by=[\"YEAR\",\"IDX\"])"
   ]
  },
  {
   "cell_type": "code",
   "execution_count": 65,
   "metadata": {},
   "outputs": [],
   "source": [
    "test_df = test_df[test_df[\"YEAR\"]== year_val]"
   ]
  },
  {
   "cell_type": "code",
   "execution_count": 66,
   "metadata": {},
   "outputs": [],
   "source": [
    "bbb = test_df.loc[:,[\"IDX\",\"MERGE_IDX\",\"PCT\"]]\n",
    "\n",
    "for i in range(1,3):\n",
    "    for c in list(set(list(test_df.columns))-set(['T_ID','YEAR'])):\n",
    "        bbb.loc[:,'shift_{}_{}'.format(c,i)] = test_df.loc[:,c].shift(i)\n",
    "        \n",
    "# bbb.loc[:,[\"IDX\",\"MERGE_IDX\",\"PCT\"]] = test_df.loc[:,[\"IDX\",\"MERGE_IDX\",\"PCT\"]]\n",
    "\n",
    "\n",
    "# for c in list(set(list(test_df.columns))-set(['T_ID','YEAR'])):\n",
    "#     for i in range(1,3):\n",
    "#         test_df.loc[:,'shift_{}_{}'.format(c,i)] = test_df.loc[:,c].shift(i)\n",
    "\n",
    "# for i in range(1,3):\n",
    "#     test_df.loc[:,'shift_{}_{}'.format('PCT',i)] = test_df.loc[:,'PCT'].shift(i)"
   ]
  },
  {
   "cell_type": "code",
   "execution_count": 67,
   "metadata": {},
   "outputs": [],
   "source": [
    "test_df = bbb.copy()"
   ]
  },
  {
   "cell_type": "code",
   "execution_count": 68,
   "metadata": {},
   "outputs": [],
   "source": [
    "test_tmp = test_df[test_df[\"IDX\"]==777]\n",
    "X_test = test_tmp.drop(no_shift_lst,axis = 1)\n",
    "y_test = test_tmp[[\"PCT\"]]"
   ]
  },
  {
   "cell_type": "code",
   "execution_count": 69,
   "metadata": {},
   "outputs": [
    {
     "data": {
      "text/html": [
       "<div>\n",
       "<style scoped>\n",
       "    .dataframe tbody tr th:only-of-type {\n",
       "        vertical-align: middle;\n",
       "    }\n",
       "\n",
       "    .dataframe tbody tr th {\n",
       "        vertical-align: top;\n",
       "    }\n",
       "\n",
       "    .dataframe thead th {\n",
       "        text-align: right;\n",
       "    }\n",
       "</style>\n",
       "<table border=\"1\" class=\"dataframe\">\n",
       "  <thead>\n",
       "    <tr style=\"text-align: right;\">\n",
       "      <th></th>\n",
       "      <th>shift_vs_era_1</th>\n",
       "      <th>shift_vs_RC_1</th>\n",
       "      <th>shift_WHIP_1</th>\n",
       "      <th>shift_vs_BA_1</th>\n",
       "      <th>shift_vs_SECA_1</th>\n",
       "      <th>shift_oSLG_1</th>\n",
       "      <th>shift_SECA_1</th>\n",
       "      <th>shift_avg_1</th>\n",
       "      <th>shift_OBP_1</th>\n",
       "      <th>shift_CB_WHIP_RT_1</th>\n",
       "      <th>...</th>\n",
       "      <th>shift_vs_AVG_2</th>\n",
       "      <th>shift_oOBP_2</th>\n",
       "      <th>shift_vs_K_9_2</th>\n",
       "      <th>shift_RC_2</th>\n",
       "      <th>shift_vs_GPA_2</th>\n",
       "      <th>shift_BB_9_2</th>\n",
       "      <th>shift_wOBA_2</th>\n",
       "      <th>shift_H_9_2</th>\n",
       "      <th>shift_BA_2</th>\n",
       "      <th>shift_vs_OBP_2</th>\n",
       "    </tr>\n",
       "  </thead>\n",
       "  <tbody>\n",
       "    <tr>\n",
       "      <th>98</th>\n",
       "      <td>5.915493</td>\n",
       "      <td>1.226667</td>\n",
       "      <td>1.653083</td>\n",
       "      <td>0.298208</td>\n",
       "      <td>0.366125</td>\n",
       "      <td>0.462792</td>\n",
       "      <td>0.30525</td>\n",
       "      <td>0.293083</td>\n",
       "      <td>0.3505</td>\n",
       "      <td>2.363833</td>\n",
       "      <td>...</td>\n",
       "      <td>0.270958</td>\n",
       "      <td>0.327333</td>\n",
       "      <td>5.725667</td>\n",
       "      <td>1.345917</td>\n",
       "      <td>0.249167</td>\n",
       "      <td>3.775625</td>\n",
       "      <td>0.433958</td>\n",
       "      <td>9.713583</td>\n",
       "      <td>0.309875</td>\n",
       "      <td>0.344333</td>\n",
       "    </tr>\n",
       "  </tbody>\n",
       "</table>\n",
       "<p>1 rows × 140 columns</p>\n",
       "</div>"
      ],
      "text/plain": [
       "    shift_vs_era_1  shift_vs_RC_1  shift_WHIP_1  shift_vs_BA_1  \\\n",
       "98        5.915493       1.226667      1.653083       0.298208   \n",
       "\n",
       "    shift_vs_SECA_1  shift_oSLG_1  shift_SECA_1  shift_avg_1  shift_OBP_1  \\\n",
       "98         0.366125      0.462792       0.30525     0.293083       0.3505   \n",
       "\n",
       "    shift_CB_WHIP_RT_1  ...  shift_vs_AVG_2  shift_oOBP_2  shift_vs_K_9_2  \\\n",
       "98            2.363833  ...        0.270958      0.327333        5.725667   \n",
       "\n",
       "    shift_RC_2  shift_vs_GPA_2  shift_BB_9_2  shift_wOBA_2  shift_H_9_2  \\\n",
       "98    1.345917        0.249167      3.775625      0.433958     9.713583   \n",
       "\n",
       "    shift_BA_2  shift_vs_OBP_2  \n",
       "98    0.309875        0.344333  \n",
       "\n",
       "[1 rows x 140 columns]"
      ]
     },
     "execution_count": 69,
     "metadata": {},
     "output_type": "execute_result"
    }
   ],
   "source": [
    "X_test"
   ]
  },
  {
   "cell_type": "markdown",
   "metadata": {},
   "source": [
    "#### 4) input shape로 변경 (row, timestep=2, feature)\n",
    "\n",
    "ex) \n",
    "timestep = 2\n",
    "\n",
    "* X_train_v 구성예시: [[1 ~ 24경기 데이터, 25 ~ 48경기 데이터], [49 ~ 72경기 데이터, 73 ~ 96경기 데이터] ]  \n",
    "X_train_v.shape >> (2,2*x)             # x: 각 24group에 대한 변수 개수\n",
    "* y_train_v 구성예시: 97 ~ 120 경기 승률\n",
    "\n",
    "=> reshape\n",
    "\n",
    "* X_train_v.shape >> (2,2,x)  # row, timestep, feature"
   ]
  },
  {
   "cell_type": "code",
   "execution_count": 70,
   "metadata": {},
   "outputs": [],
   "source": [
    "X_train_v = X_train.values\n",
    "y_train_v = y_train.values\n",
    "\n",
    "X_test_v = X_test.values\n",
    "y_test_v = y_test.values"
   ]
  },
  {
   "cell_type": "code",
   "execution_count": 71,
   "metadata": {},
   "outputs": [
    {
     "data": {
      "text/plain": [
       "((49, 140), (49, 1), (1, 140), (1, 1))"
      ]
     },
     "execution_count": 71,
     "metadata": {},
     "output_type": "execute_result"
    }
   ],
   "source": [
    "X_train_v.shape, y_train_v.shape, X_test_v.shape, y_test_v.shape"
   ]
  },
  {
   "cell_type": "code",
   "execution_count": 72,
   "metadata": {},
   "outputs": [],
   "source": [
    "X_train_t = X_train_v.reshape(X_train_v.shape[0], 2,70)\n",
    "X_test_t = X_test_v.reshape(X_test_v.shape[0], 2,70)"
   ]
  },
  {
   "cell_type": "markdown",
   "metadata": {},
   "source": [
    "### 2. 모델 구성(LSTM)\n",
    "- optimizer: RMSprop -> lr(learning rate) 조절\n",
    "- LSTM: 모델이 계속 동일한 결과값이 나올 때, input 뉴런 개수를 늘려야 한다는 글을 읽고 계속 input 노드 개수를 바꿔주면서 모델 생성중\n",
    "- loss: MSE\n",
    "\n",
    "- early_stop: patience를 크게하면 과적합 되는 경우가 있어서 최대한 작게 설정해둠\n",
    "- batch_size: 모델이 계속 동일한 결과값이 나올 때, 데이터가 적어 batch size를 줄여보라는 글을 읽고 1로 설정해둠"
   ]
  },
  {
   "cell_type": "code",
   "execution_count": 73,
   "metadata": {},
   "outputs": [
    {
     "name": "stdout",
     "output_type": "stream",
     "text": [
      "Model: \"sequential\"\n",
      "_________________________________________________________________\n",
      "Layer (type)                 Output Shape              Param #   \n",
      "=================================================================\n",
      "lstm (LSTM)                  (None, 200)               216800    \n",
      "_________________________________________________________________\n",
      "dense (Dense)                (None, 1)                 201       \n",
      "=================================================================\n",
      "Total params: 217,001\n",
      "Trainable params: 217,001\n",
      "Non-trainable params: 0\n",
      "_________________________________________________________________\n"
     ]
    }
   ],
   "source": [
    "K.clear_session() \n",
    "\n",
    "model = Sequential()\n",
    "optimizer = RMSprop(lr=0.001, rho=0.9, epsilon=None, decay=0.0)\n",
    "\n",
    "model.add(LSTM(200,input_shape = (2,70))) # (timestep, feature)\n",
    "model.add(Dense(1)) # output = 1\n",
    "model.compile(loss='mean_squared_error', optimizer=optimizer,metrics=['mae'])\n",
    "\n",
    "model.summary()"
   ]
  },
  {
   "cell_type": "code",
   "execution_count": 74,
   "metadata": {},
   "outputs": [
    {
     "name": "stdout",
     "output_type": "stream",
     "text": [
      "Train on 49 samples\n",
      "Epoch 1/100\n",
      "49/49 [==============================] - 4s 90ms/sample - loss: 0.0234 - mae: 0.0961\n",
      "Epoch 2/100\n",
      "49/49 [==============================] - 0s 6ms/sample - loss: 0.0045 - mae: 0.0565\n",
      "Epoch 3/100\n",
      "49/49 [==============================] - 0s 7ms/sample - loss: 0.0039 - mae: 0.0513\n",
      "Epoch 4/100\n",
      "49/49 [==============================] - 0s 7ms/sample - loss: 0.0039 - mae: 0.0520\n",
      "Epoch 5/100\n",
      "49/49 [==============================] - 0s 7ms/sample - loss: 0.0042 - mae: 0.0527\n",
      "Epoch 6/100\n",
      "49/49 [==============================] - 0s 7ms/sample - loss: 0.0042 - mae: 0.0532\n",
      "Epoch 00006: early stopping\n"
     ]
    }
   ],
   "source": [
    "early_stop = EarlyStopping(monitor='loss', mode = 'min',patience=2, verbose=1)\n",
    "\n",
    "\n",
    "hist1 = model.fit(X_train_t, y_train_v, epochs=100,\n",
    "          batch_size=1, verbose=1, callbacks=[early_stop])"
   ]
  },
  {
   "cell_type": "code",
   "execution_count": 76,
   "metadata": {},
   "outputs": [
    {
     "data": {
      "image/png": "[encoded data removed]",
      "text/plain": [
       "<Figure size 432x288 with 2 Axes>"
      ]
     },
     "metadata": {
      "needs_background": "light"
     },
     "output_type": "display_data"
    }
   ],
   "source": [
    "fig, loss_ax = plt.subplots()\n",
    "\n",
    "acc_ax = loss_ax.twinx()\n",
    "\n",
    "loss_ax.plot(hist1.history['loss'], 'y', label='train loss')\n",
    "\n",
    "acc_ax.plot(hist1.history['mae'], 'b', label='train mae')\n",
    "\n",
    "loss_ax.set_xlabel('epoch')\n",
    "loss_ax.set_ylabel('loss')\n",
    "acc_ax.set_ylabel('mae')\n",
    "\n",
    "loss_ax.legend(loc='upper left')\n",
    "acc_ax.legend(loc='lower left')\n",
    "\n",
    "plt.show()"
   ]
  },
  {
   "cell_type": "markdown",
   "metadata": {},
   "source": [
    "### 3. 결과 확인"
   ]
  },
  {
   "cell_type": "code",
   "execution_count": 77,
   "metadata": {},
   "outputs": [],
   "source": [
    "y_pred = model.predict(X_test_t)"
   ]
  },
  {
   "cell_type": "code",
   "execution_count": 78,
   "metadata": {
    "scrolled": true
   },
   "outputs": [
    {
     "data": {
      "text/html": [
       "<div>\n",
       "<style scoped>\n",
       "    .dataframe tbody tr th:only-of-type {\n",
       "        vertical-align: middle;\n",
       "    }\n",
       "\n",
       "    .dataframe tbody tr th {\n",
       "        vertical-align: top;\n",
       "    }\n",
       "\n",
       "    .dataframe thead th {\n",
       "        text-align: right;\n",
       "    }\n",
       "</style>\n",
       "<table border=\"1\" class=\"dataframe\">\n",
       "  <thead>\n",
       "    <tr style=\"text-align: right;\">\n",
       "      <th></th>\n",
       "      <th>y_pred</th>\n",
       "      <th>y</th>\n",
       "    </tr>\n",
       "  </thead>\n",
       "  <tbody>\n",
       "    <tr>\n",
       "      <th>0</th>\n",
       "      <td>0.517274</td>\n",
       "      <td>0.5</td>\n",
       "    </tr>\n",
       "  </tbody>\n",
       "</table>\n",
       "</div>"
      ],
      "text/plain": [
       "     y_pred    y\n",
       "0  0.517274  0.5"
      ]
     },
     "execution_count": 78,
     "metadata": {},
     "output_type": "execute_result"
    }
   ],
   "source": [
    "pd.DataFrame({\"y_pred\":y_pred.reshape(-1), \n",
    "              \"y\":y_test_v.reshape(-1)})"
   ]
  },
  {
   "cell_type": "code",
   "execution_count": 79,
   "metadata": {
    "scrolled": true
   },
   "outputs": [
    {
     "data": {
      "text/plain": [
       "0.017273902893066406"
      ]
     },
     "execution_count": 79,
     "metadata": {},
     "output_type": "execute_result"
    }
   ],
   "source": [
    "rms = sqrt(mean_squared_error(y_test_v, y_pred))\n",
    "rms"
   ]
  },
  {
   "cell_type": "code",
   "execution_count": null,
   "metadata": {},
   "outputs": [],
   "source": []
  },
  {
   "cell_type": "code",
   "execution_count": null,
   "metadata": {},
   "outputs": [],
   "source": []
  },
  {
   "cell_type": "markdown",
   "metadata": {},
   "source": [
    "### ================================= 결과 ======================================"
   ]
  },
  {
   "cell_type": "markdown",
   "metadata": {},
   "source": []
  },
  {
   "cell_type": "markdown",
   "metadata": {},
   "source": [
    "HH, 2016"
   ]
  },
  {
   "cell_type": "code",
   "execution_count": 78,
   "metadata": {
    "scrolled": true
   },
   "outputs": [
    {
     "data": {
      "text/html": [
       "<div>\n",
       "<style scoped>\n",
       "    .dataframe tbody tr th:only-of-type {\n",
       "        vertical-align: middle;\n",
       "    }\n",
       "\n",
       "    .dataframe tbody tr th {\n",
       "        vertical-align: top;\n",
       "    }\n",
       "\n",
       "    .dataframe thead th {\n",
       "        text-align: right;\n",
       "    }\n",
       "</style>\n",
       "<table border=\"1\" class=\"dataframe\">\n",
       "  <thead>\n",
       "    <tr style=\"text-align: right;\">\n",
       "      <th></th>\n",
       "      <th>y_pred</th>\n",
       "      <th>y</th>\n",
       "    </tr>\n",
       "  </thead>\n",
       "  <tbody>\n",
       "    <tr>\n",
       "      <th>0</th>\n",
       "      <td>0.517274</td>\n",
       "      <td>0.5</td>\n",
       "    </tr>\n",
       "  </tbody>\n",
       "</table>\n",
       "</div>"
      ],
      "text/plain": [
       "     y_pred    y\n",
       "0  0.517274  0.5"
      ]
     },
     "execution_count": 78,
     "metadata": {},
     "output_type": "execute_result"
    }
   ],
   "source": [
    "pd.DataFrame({\"y_pred\":y_pred.reshape(-1), \n",
    "              \"y\":y_test_v.reshape(-1)})"
   ]
  },
  {
   "cell_type": "code",
   "execution_count": 79,
   "metadata": {
    "scrolled": false
   },
   "outputs": [
    {
     "data": {
      "text/plain": [
       "0.017273902893066406"
      ]
     },
     "execution_count": 79,
     "metadata": {},
     "output_type": "execute_result"
    }
   ],
   "source": [
    "rms = sqrt(mean_squared_error(y_test_v, y_pred))\n",
    "rms"
   ]
  },
  {
   "cell_type": "markdown",
   "metadata": {},
   "source": [
    "HH, 2017"
   ]
  },
  {
   "cell_type": "code",
   "execution_count": 52,
   "metadata": {
    "scrolled": false
   },
   "outputs": [
    {
     "data": {
      "text/html": [
       "<div>\n",
       "<style scoped>\n",
       "    .dataframe tbody tr th:only-of-type {\n",
       "        vertical-align: middle;\n",
       "    }\n",
       "\n",
       "    .dataframe tbody tr th {\n",
       "        vertical-align: top;\n",
       "    }\n",
       "\n",
       "    .dataframe thead th {\n",
       "        text-align: right;\n",
       "    }\n",
       "</style>\n",
       "<table border=\"1\" class=\"dataframe\">\n",
       "  <thead>\n",
       "    <tr style=\"text-align: right;\">\n",
       "      <th></th>\n",
       "      <th>y_pred</th>\n",
       "      <th>y</th>\n",
       "    </tr>\n",
       "  </thead>\n",
       "  <tbody>\n",
       "    <tr>\n",
       "      <th>0</th>\n",
       "      <td>0.464429</td>\n",
       "      <td>0.434783</td>\n",
       "    </tr>\n",
       "  </tbody>\n",
       "</table>\n",
       "</div>"
      ],
      "text/plain": [
       "     y_pred         y\n",
       "0  0.464429  0.434783"
      ]
     },
     "execution_count": 52,
     "metadata": {},
     "output_type": "execute_result"
    }
   ],
   "source": [
    "pd.DataFrame({\"y_pred\":y_pred.reshape(-1), \n",
    "              \"y\":y_test_v.reshape(-1)})"
   ]
  },
  {
   "cell_type": "code",
   "execution_count": 53,
   "metadata": {
    "scrolled": true
   },
   "outputs": [
    {
     "data": {
      "text/plain": [
       "0.029646710209224547"
      ]
     },
     "execution_count": 53,
     "metadata": {},
     "output_type": "execute_result"
    }
   ],
   "source": [
    "rms = sqrt(mean_squared_error(y_test_v, y_pred))\n",
    "rms"
   ]
  },
  {
   "cell_type": "markdown",
   "metadata": {},
   "source": [
    "HH,2018"
   ]
  },
  {
   "cell_type": "code",
   "execution_count": 273,
   "metadata": {
    "scrolled": false
   },
   "outputs": [
    {
     "data": {
      "text/html": [
       "<div>\n",
       "<style scoped>\n",
       "    .dataframe tbody tr th:only-of-type {\n",
       "        vertical-align: middle;\n",
       "    }\n",
       "\n",
       "    .dataframe tbody tr th {\n",
       "        vertical-align: top;\n",
       "    }\n",
       "\n",
       "    .dataframe thead th {\n",
       "        text-align: right;\n",
       "    }\n",
       "</style>\n",
       "<table border=\"1\" class=\"dataframe\">\n",
       "  <thead>\n",
       "    <tr style=\"text-align: right;\">\n",
       "      <th></th>\n",
       "      <th>y_pred</th>\n",
       "      <th>y</th>\n",
       "    </tr>\n",
       "  </thead>\n",
       "  <tbody>\n",
       "    <tr>\n",
       "      <th>0</th>\n",
       "      <td>0.498883</td>\n",
       "      <td>0.5</td>\n",
       "    </tr>\n",
       "  </tbody>\n",
       "</table>\n",
       "</div>"
      ],
      "text/plain": [
       "     y_pred    y\n",
       "0  0.498883  0.5"
      ]
     },
     "execution_count": 273,
     "metadata": {},
     "output_type": "execute_result"
    }
   ],
   "source": [
    "pd.DataFrame({\"y_pred\":y_pred.reshape(-1), \n",
    "              \"y\":y_test_v.reshape(-1)})"
   ]
  },
  {
   "cell_type": "code",
   "execution_count": 274,
   "metadata": {
    "scrolled": true
   },
   "outputs": [
    {
     "data": {
      "text/plain": [
       "0.001117318868637085"
      ]
     },
     "execution_count": 274,
     "metadata": {},
     "output_type": "execute_result"
    }
   ],
   "source": [
    "rms = sqrt(mean_squared_error(y_test_v, y_pred))\n",
    "rms"
   ]
  },
  {
   "cell_type": "markdown",
   "metadata": {},
   "source": [
    "HH, 2019"
   ]
  },
  {
   "cell_type": "code",
   "execution_count": 296,
   "metadata": {
    "scrolled": false
   },
   "outputs": [
    {
     "data": {
      "text/html": [
       "<div>\n",
       "<style scoped>\n",
       "    .dataframe tbody tr th:only-of-type {\n",
       "        vertical-align: middle;\n",
       "    }\n",
       "\n",
       "    .dataframe tbody tr th {\n",
       "        vertical-align: top;\n",
       "    }\n",
       "\n",
       "    .dataframe thead th {\n",
       "        text-align: right;\n",
       "    }\n",
       "</style>\n",
       "<table border=\"1\" class=\"dataframe\">\n",
       "  <thead>\n",
       "    <tr style=\"text-align: right;\">\n",
       "      <th></th>\n",
       "      <th>y_pred</th>\n",
       "      <th>y</th>\n",
       "    </tr>\n",
       "  </thead>\n",
       "  <tbody>\n",
       "    <tr>\n",
       "      <th>0</th>\n",
       "      <td>0.335582</td>\n",
       "      <td>0.583333</td>\n",
       "    </tr>\n",
       "  </tbody>\n",
       "</table>\n",
       "</div>"
      ],
      "text/plain": [
       "     y_pred         y\n",
       "0  0.335582  0.583333"
      ]
     },
     "execution_count": 296,
     "metadata": {},
     "output_type": "execute_result"
    }
   ],
   "source": [
    "pd.DataFrame({\"y_pred\":y_pred.reshape(-1), \n",
    "              \"y\":y_test_v.reshape(-1)})"
   ]
  },
  {
   "cell_type": "code",
   "execution_count": 297,
   "metadata": {
    "scrolled": true
   },
   "outputs": [
    {
     "data": {
      "text/plain": [
       "0.24775122602780664"
      ]
     },
     "execution_count": 297,
     "metadata": {},
     "output_type": "execute_result"
    }
   ],
   "source": [
    "rms = sqrt(mean_squared_error(y_test_v, y_pred))\n",
    "rms"
   ]
  },
  {
   "cell_type": "code",
   "execution_count": 298,
   "metadata": {},
   "outputs": [
    {
     "data": {
      "text/html": [
       "<div>\n",
       "<style scoped>\n",
       "    .dataframe tbody tr th:only-of-type {\n",
       "        vertical-align: middle;\n",
       "    }\n",
       "\n",
       "    .dataframe tbody tr th {\n",
       "        vertical-align: top;\n",
       "    }\n",
       "\n",
       "    .dataframe thead th {\n",
       "        text-align: right;\n",
       "    }\n",
       "</style>\n",
       "<table border=\"1\" class=\"dataframe\">\n",
       "  <thead>\n",
       "    <tr style=\"text-align: right;\">\n",
       "      <th></th>\n",
       "      <th>shift_PCT_1</th>\n",
       "      <th>shift_PCT_2</th>\n",
       "      <th>PCT</th>\n",
       "    </tr>\n",
       "  </thead>\n",
       "  <tbody>\n",
       "    <tr>\n",
       "      <th>3042</th>\n",
       "      <td>NaN</td>\n",
       "      <td>NaN</td>\n",
       "      <td>0.250000</td>\n",
       "    </tr>\n",
       "    <tr>\n",
       "      <th>3043</th>\n",
       "      <td>0.250</td>\n",
       "      <td>NaN</td>\n",
       "      <td>0.375000</td>\n",
       "    </tr>\n",
       "    <tr>\n",
       "      <th>3038</th>\n",
       "      <td>0.375</td>\n",
       "      <td>0.25</td>\n",
       "      <td>0.583333</td>\n",
       "    </tr>\n",
       "  </tbody>\n",
       "</table>\n",
       "</div>"
      ],
      "text/plain": [
       "      shift_PCT_1  shift_PCT_2       PCT\n",
       "3042          NaN          NaN  0.250000\n",
       "3043        0.250          NaN  0.375000\n",
       "3038        0.375         0.25  0.583333"
      ]
     },
     "execution_count": 298,
     "metadata": {},
     "output_type": "execute_result"
    }
   ],
   "source": [
    "test_df[[\"shift_PCT_1\",\"shift_PCT_2\",\"PCT\"]]"
   ]
  },
  {
   "cell_type": "markdown",
   "metadata": {},
   "source": [
    "LG, 2019"
   ]
  },
  {
   "cell_type": "code",
   "execution_count": null,
   "metadata": {},
   "outputs": [],
   "source": [
    "# K.clear_session() \n",
    "\n",
    "# model = Sequential()\n",
    "# optimizer = RMSprop(lr=0.001, rho=0.9, epsilon=None, decay=0.0)\n",
    "\n",
    "# model.add(LSTM(200,input_shape = (2,70))) # (timestep, feature)\n",
    "# model.add(Dense(1)) # output = 1\n",
    "# model.compile(loss='mean_squared_error', optimizer=optimizer,metrics=['mae'])\n",
    "\n",
    "# model.summary()"
   ]
  },
  {
   "cell_type": "code",
   "execution_count": 173,
   "metadata": {
    "scrolled": true
   },
   "outputs": [
    {
     "data": {
      "text/html": [
       "<div>\n",
       "<style scoped>\n",
       "    .dataframe tbody tr th:only-of-type {\n",
       "        vertical-align: middle;\n",
       "    }\n",
       "\n",
       "    .dataframe tbody tr th {\n",
       "        vertical-align: top;\n",
       "    }\n",
       "\n",
       "    .dataframe thead th {\n",
       "        text-align: right;\n",
       "    }\n",
       "</style>\n",
       "<table border=\"1\" class=\"dataframe\">\n",
       "  <thead>\n",
       "    <tr style=\"text-align: right;\">\n",
       "      <th></th>\n",
       "      <th>y_pred</th>\n",
       "      <th>y</th>\n",
       "    </tr>\n",
       "  </thead>\n",
       "  <tbody>\n",
       "    <tr>\n",
       "      <th>0</th>\n",
       "      <td>0.569255</td>\n",
       "      <td>0.541667</td>\n",
       "    </tr>\n",
       "  </tbody>\n",
       "</table>\n",
       "</div>"
      ],
      "text/plain": [
       "     y_pred         y\n",
       "0  0.569255  0.541667"
      ]
     },
     "execution_count": 173,
     "metadata": {},
     "output_type": "execute_result"
    }
   ],
   "source": [
    "pd.DataFrame({\"y_pred\":y_pred.reshape(-1), \n",
    "              \"y\":y_test_v.reshape(-1)})"
   ]
  },
  {
   "cell_type": "code",
   "execution_count": 174,
   "metadata": {
    "scrolled": true
   },
   "outputs": [
    {
     "data": {
      "text/plain": [
       "0.027587850888570187"
      ]
     },
     "execution_count": 174,
     "metadata": {},
     "output_type": "execute_result"
    }
   ],
   "source": [
    "rms = sqrt(mean_squared_error(y_test_v, y_pred))\n",
    "rms"
   ]
  },
  {
   "cell_type": "markdown",
   "metadata": {},
   "source": [
    "LG, 2018"
   ]
  },
  {
   "cell_type": "code",
   "execution_count": null,
   "metadata": {},
   "outputs": [],
   "source": [
    "# K.clear_session() \n",
    "\n",
    "# model = Sequential()\n",
    "# optimizer = RMSprop(lr=0.001, rho=0.9, epsilon=None, decay=0.0)\n",
    "\n",
    "# model.add(LSTM(200,input_shape = (2,70))) # (timestep, feature)\n",
    "# model.add(Dense(1)) # output = 1\n",
    "# model.compile(loss='mean_squared_error', optimizer=optimizer,metrics=['mae'])\n",
    "\n",
    "# model.summary()"
   ]
  },
  {
   "cell_type": "code",
   "execution_count": 127,
   "metadata": {
    "scrolled": false
   },
   "outputs": [
    {
     "data": {
      "text/html": [
       "<div>\n",
       "<style scoped>\n",
       "    .dataframe tbody tr th:only-of-type {\n",
       "        vertical-align: middle;\n",
       "    }\n",
       "\n",
       "    .dataframe tbody tr th {\n",
       "        vertical-align: top;\n",
       "    }\n",
       "\n",
       "    .dataframe thead th {\n",
       "        text-align: right;\n",
       "    }\n",
       "</style>\n",
       "<table border=\"1\" class=\"dataframe\">\n",
       "  <thead>\n",
       "    <tr style=\"text-align: right;\">\n",
       "      <th></th>\n",
       "      <th>y_pred</th>\n",
       "      <th>y</th>\n",
       "    </tr>\n",
       "  </thead>\n",
       "  <tbody>\n",
       "    <tr>\n",
       "      <th>0</th>\n",
       "      <td>0.414969</td>\n",
       "      <td>0.416667</td>\n",
       "    </tr>\n",
       "  </tbody>\n",
       "</table>\n",
       "</div>"
      ],
      "text/plain": [
       "     y_pred         y\n",
       "0  0.414969  0.416667"
      ]
     },
     "execution_count": 127,
     "metadata": {},
     "output_type": "execute_result"
    }
   ],
   "source": [
    "pd.DataFrame({\"y_pred\":y_pred.reshape(-1), \n",
    "              \"y\":y_test_v.reshape(-1)})"
   ]
  },
  {
   "cell_type": "code",
   "execution_count": 128,
   "metadata": {},
   "outputs": [
    {
     "data": {
      "text/plain": [
       "0.001697460810343443"
      ]
     },
     "execution_count": 128,
     "metadata": {},
     "output_type": "execute_result"
    }
   ],
   "source": [
    "rms = sqrt(mean_squared_error(y_test_v, y_pred))\n",
    "rms"
   ]
  },
  {
   "cell_type": "markdown",
   "metadata": {},
   "source": [
    "LG, 2017"
   ]
  },
  {
   "cell_type": "code",
   "execution_count": null,
   "metadata": {},
   "outputs": [],
   "source": [
    "# K.clear_session() \n",
    "\n",
    "# model = Sequential()\n",
    "# optimizer = RMSprop(lr=0.001, rho=0.9, epsilon=None, decay=0.0)\n",
    "\n",
    "# model.add(LSTM(200,input_shape = (2,70))) # (timestep, feature)\n",
    "# model.add(Dense(1)) # output = 1\n",
    "# model.compile(loss='mean_squared_error', optimizer=optimizer,metrics=['mae'])\n",
    "\n",
    "# model.summary()"
   ]
  },
  {
   "cell_type": "code",
   "execution_count": 103,
   "metadata": {
    "scrolled": false
   },
   "outputs": [
    {
     "data": {
      "text/html": [
       "<div>\n",
       "<style scoped>\n",
       "    .dataframe tbody tr th:only-of-type {\n",
       "        vertical-align: middle;\n",
       "    }\n",
       "\n",
       "    .dataframe tbody tr th {\n",
       "        vertical-align: top;\n",
       "    }\n",
       "\n",
       "    .dataframe thead th {\n",
       "        text-align: right;\n",
       "    }\n",
       "</style>\n",
       "<table border=\"1\" class=\"dataframe\">\n",
       "  <thead>\n",
       "    <tr style=\"text-align: right;\">\n",
       "      <th></th>\n",
       "      <th>y_pred</th>\n",
       "      <th>y</th>\n",
       "    </tr>\n",
       "  </thead>\n",
       "  <tbody>\n",
       "    <tr>\n",
       "      <th>0</th>\n",
       "      <td>0.450553</td>\n",
       "      <td>0.434783</td>\n",
       "    </tr>\n",
       "  </tbody>\n",
       "</table>\n",
       "</div>"
      ],
      "text/plain": [
       "     y_pred         y\n",
       "0  0.450553  0.434783"
      ]
     },
     "execution_count": 103,
     "metadata": {},
     "output_type": "execute_result"
    }
   ],
   "source": [
    "pd.DataFrame({\"y_pred\":y_pred.reshape(-1), \n",
    "              \"y\":y_test_v.reshape(-1)})"
   ]
  },
  {
   "cell_type": "code",
   "execution_count": 104,
   "metadata": {},
   "outputs": [
    {
     "data": {
      "text/plain": [
       "0.015770063452098693"
      ]
     },
     "execution_count": 104,
     "metadata": {},
     "output_type": "execute_result"
    }
   ],
   "source": [
    "rms = sqrt(mean_squared_error(y_test_v, y_pred))\n",
    "rms"
   ]
  },
  {
   "cell_type": "markdown",
   "metadata": {},
   "source": [
    "LG, 2016"
   ]
  },
  {
   "cell_type": "code",
   "execution_count": 47,
   "metadata": {},
   "outputs": [
    {
     "data": {
      "text/html": [
       "<div>\n",
       "<style scoped>\n",
       "    .dataframe tbody tr th:only-of-type {\n",
       "        vertical-align: middle;\n",
       "    }\n",
       "\n",
       "    .dataframe tbody tr th {\n",
       "        vertical-align: top;\n",
       "    }\n",
       "\n",
       "    .dataframe thead th {\n",
       "        text-align: right;\n",
       "    }\n",
       "</style>\n",
       "<table border=\"1\" class=\"dataframe\">\n",
       "  <thead>\n",
       "    <tr style=\"text-align: right;\">\n",
       "      <th></th>\n",
       "      <th>y_pred</th>\n",
       "      <th>y</th>\n",
       "    </tr>\n",
       "  </thead>\n",
       "  <tbody>\n",
       "    <tr>\n",
       "      <th>0</th>\n",
       "      <td>0.516492</td>\n",
       "      <td>0.608696</td>\n",
       "    </tr>\n",
       "  </tbody>\n",
       "</table>\n",
       "</div>"
      ],
      "text/plain": [
       "     y_pred         y\n",
       "0  0.516492  0.608696"
      ]
     },
     "execution_count": 47,
     "metadata": {},
     "output_type": "execute_result"
    }
   ],
   "source": [
    "pd.DataFrame({\"y_pred\":y_pred.reshape(-1), \n",
    "              \"y\":y_test_v.reshape(-1)})"
   ]
  },
  {
   "cell_type": "code",
   "execution_count": 48,
   "metadata": {},
   "outputs": [
    {
     "data": {
      "text/plain": [
       "0.09220322577849682"
      ]
     },
     "execution_count": 48,
     "metadata": {},
     "output_type": "execute_result"
    }
   ],
   "source": [
    "rms = sqrt(mean_squared_error(y_test_v, y_pred))\n",
    "rms"
   ]
  },
  {
   "cell_type": "code",
   "execution_count": null,
   "metadata": {},
   "outputs": [],
   "source": []
  }
 ],
 "metadata": {
  "kernelspec": {
   "display_name": "Python 3",
   "language": "python",
   "name": "python3"
  },
  "language_info": {
   "codemirror_mode": {
    "name": "ipython",
    "version": 3
   },
   "file_extension": ".py",
   "mimetype": "text/x-python",
   "name": "python",
   "nbconvert_exporter": "python",
   "pygments_lexer": "ipython3",
   "version": "3.6.4"
  }
 },
 "nbformat": 4,
 "nbformat_minor": 2
}
