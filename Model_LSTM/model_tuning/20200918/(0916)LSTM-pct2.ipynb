{
 "cells": [
  {
   "cell_type": "code",
   "execution_count": 1,
   "metadata": {},
   "outputs": [
    {
     "name": "stderr",
     "output_type": "stream",
     "text": [
      "C:\\Users\\julia\\tf_jupyter\\lib\\site-packages\\numpy\\_distributor_init.py:32: UserWarning: loaded more than 1 DLL from .libs:\n",
      "C:\\Users\\julia\\tf_jupyter\\lib\\site-packages\\numpy\\.libs\\libopenblas.NOIJJG62EMASZI6NYURL6JBKM4EVBGM7.gfortran-win_amd64.dll\n",
      "C:\\Users\\julia\\tf_jupyter\\lib\\site-packages\\numpy\\.libs\\libopenblas.PYQHXLVVQ7VESDPUVUADXEVJOBGHJPAY.gfortran-win_amd64.dll\n",
      "  stacklevel=1)\n"
     ]
    }
   ],
   "source": [
    "import tensorflow as tf\n",
    "import numpy as np\n",
    "\n",
    "from tensorflow import keras\n",
    "from tensorflow.keras.utils import to_categorical\n",
    "\n",
    "from tensorflow.keras.models import Sequential\n",
    "# from tensorflow.keras.utils import np_utils\n",
    "from tensorflow.keras.layers import Dense, LSTM, Dropout\n",
    "import tensorflow.keras.backend as K \n",
    "\n",
    "from tensorflow.keras.optimizers import RMSprop\n",
    "from tensorflow.keras.callbacks import EarlyStopping\n",
    "\n",
    "from sklearn.metrics import accuracy_score\n",
    "from sklearn.metrics import mean_squared_error\n",
    "from sklearn.preprocessing import MinMaxScaler\n",
    "\n",
    "\n",
    "import pandas as pd\n",
    "\n",
    "import matplotlib.pyplot as plt\n",
    "# import seaborn as sns\n",
    "# import plotly.express as px\n",
    "# import plotly.graph_objects as go\n",
    "\n",
    "from math import sqrt"
   ]
  },
  {
   "cell_type": "code",
   "execution_count": 2,
   "metadata": {},
   "outputs": [],
   "source": [
    "data = pd.read_csv(\"model_input_data/augment_24group_1620.csv\")"
   ]
  },
  {
   "cell_type": "code",
   "execution_count": 3,
   "metadata": {},
   "outputs": [
    {
     "data": {
      "text/html": [
       "<div>\n",
       "<style scoped>\n",
       "    .dataframe tbody tr th:only-of-type {\n",
       "        vertical-align: middle;\n",
       "    }\n",
       "\n",
       "    .dataframe tbody tr th {\n",
       "        vertical-align: top;\n",
       "    }\n",
       "\n",
       "    .dataframe thead th {\n",
       "        text-align: right;\n",
       "    }\n",
       "</style>\n",
       "<table border=\"1\" class=\"dataframe\">\n",
       "  <thead>\n",
       "    <tr style=\"text-align: right;\">\n",
       "      <th></th>\n",
       "      <th>T_ID</th>\n",
       "      <th>YEAR</th>\n",
       "      <th>PCT</th>\n",
       "      <th>IDX</th>\n",
       "      <th>MERGE_IDX</th>\n",
       "      <th>HEADER_NO</th>\n",
       "      <th>era</th>\n",
       "      <th>avg</th>\n",
       "      <th>vs_era</th>\n",
       "      <th>vs_avg</th>\n",
       "      <th>...</th>\n",
       "      <th>K_9</th>\n",
       "      <th>vs_ERA</th>\n",
       "      <th>H_A</th>\n",
       "      <th>vs_K_9</th>\n",
       "      <th>vs_FIP</th>\n",
       "      <th>H_9</th>\n",
       "      <th>oSLG</th>\n",
       "      <th>vs_OPS</th>\n",
       "      <th>vs_WHIP</th>\n",
       "      <th>P2_WHIP_RT</th>\n",
       "    </tr>\n",
       "  </thead>\n",
       "  <tbody>\n",
       "    <tr>\n",
       "      <th>0</th>\n",
       "      <td>LG</td>\n",
       "      <td>2016</td>\n",
       "      <td>0.608696</td>\n",
       "      <td>777</td>\n",
       "      <td>0</td>\n",
       "      <td>0</td>\n",
       "      <td>3.649770</td>\n",
       "      <td>0.296069</td>\n",
       "      <td>4.993723</td>\n",
       "      <td>0.268530</td>\n",
       "      <td>...</td>\n",
       "      <td>6.299708</td>\n",
       "      <td>5.183583</td>\n",
       "      <td>0.625000</td>\n",
       "      <td>6.367167</td>\n",
       "      <td>21.210083</td>\n",
       "      <td>9.306833</td>\n",
       "      <td>0.376583</td>\n",
       "      <td>0.714208</td>\n",
       "      <td>1.588458</td>\n",
       "      <td>1.592333</td>\n",
       "    </tr>\n",
       "    <tr>\n",
       "      <th>1</th>\n",
       "      <td>LG</td>\n",
       "      <td>2016</td>\n",
       "      <td>0.500000</td>\n",
       "      <td>1</td>\n",
       "      <td>1</td>\n",
       "      <td>0</td>\n",
       "      <td>5.358453</td>\n",
       "      <td>0.253317</td>\n",
       "      <td>4.555222</td>\n",
       "      <td>0.298349</td>\n",
       "      <td>...</td>\n",
       "      <td>7.024500</td>\n",
       "      <td>4.564292</td>\n",
       "      <td>0.500000</td>\n",
       "      <td>7.958750</td>\n",
       "      <td>25.981417</td>\n",
       "      <td>10.525375</td>\n",
       "      <td>0.411833</td>\n",
       "      <td>0.777333</td>\n",
       "      <td>1.417625</td>\n",
       "      <td>1.958208</td>\n",
       "    </tr>\n",
       "    <tr>\n",
       "      <th>2</th>\n",
       "      <td>LG</td>\n",
       "      <td>2016</td>\n",
       "      <td>0.478261</td>\n",
       "      <td>2</td>\n",
       "      <td>2</td>\n",
       "      <td>0</td>\n",
       "      <td>4.715603</td>\n",
       "      <td>0.291169</td>\n",
       "      <td>4.659483</td>\n",
       "      <td>0.274605</td>\n",
       "      <td>...</td>\n",
       "      <td>6.010167</td>\n",
       "      <td>4.835125</td>\n",
       "      <td>0.500000</td>\n",
       "      <td>6.593083</td>\n",
       "      <td>18.368167</td>\n",
       "      <td>9.547667</td>\n",
       "      <td>0.370792</td>\n",
       "      <td>0.717458</td>\n",
       "      <td>1.526958</td>\n",
       "      <td>1.786958</td>\n",
       "    </tr>\n",
       "    <tr>\n",
       "      <th>3</th>\n",
       "      <td>LG</td>\n",
       "      <td>2016</td>\n",
       "      <td>0.375000</td>\n",
       "      <td>3</td>\n",
       "      <td>3</td>\n",
       "      <td>0</td>\n",
       "      <td>5.584768</td>\n",
       "      <td>0.305842</td>\n",
       "      <td>5.148837</td>\n",
       "      <td>0.288889</td>\n",
       "      <td>...</td>\n",
       "      <td>5.717083</td>\n",
       "      <td>5.223208</td>\n",
       "      <td>0.541667</td>\n",
       "      <td>6.863167</td>\n",
       "      <td>19.183125</td>\n",
       "      <td>10.450250</td>\n",
       "      <td>0.444000</td>\n",
       "      <td>0.800958</td>\n",
       "      <td>1.615917</td>\n",
       "      <td>2.005667</td>\n",
       "    </tr>\n",
       "    <tr>\n",
       "      <th>4</th>\n",
       "      <td>LG</td>\n",
       "      <td>2016</td>\n",
       "      <td>0.458333</td>\n",
       "      <td>4</td>\n",
       "      <td>4</td>\n",
       "      <td>0</td>\n",
       "      <td>5.551402</td>\n",
       "      <td>0.297110</td>\n",
       "      <td>5.833333</td>\n",
       "      <td>0.288942</td>\n",
       "      <td>...</td>\n",
       "      <td>6.221583</td>\n",
       "      <td>5.848958</td>\n",
       "      <td>0.416667</td>\n",
       "      <td>6.665708</td>\n",
       "      <td>24.602000</td>\n",
       "      <td>10.233583</td>\n",
       "      <td>0.445000</td>\n",
       "      <td>0.804208</td>\n",
       "      <td>1.644917</td>\n",
       "      <td>2.142625</td>\n",
       "    </tr>\n",
       "    <tr>\n",
       "      <th>...</th>\n",
       "      <td>...</td>\n",
       "      <td>...</td>\n",
       "      <td>...</td>\n",
       "      <td>...</td>\n",
       "      <td>...</td>\n",
       "      <td>...</td>\n",
       "      <td>...</td>\n",
       "      <td>...</td>\n",
       "      <td>...</td>\n",
       "      <td>...</td>\n",
       "      <td>...</td>\n",
       "      <td>...</td>\n",
       "      <td>...</td>\n",
       "      <td>...</td>\n",
       "      <td>...</td>\n",
       "      <td>...</td>\n",
       "      <td>...</td>\n",
       "      <td>...</td>\n",
       "      <td>...</td>\n",
       "      <td>...</td>\n",
       "      <td>...</td>\n",
       "    </tr>\n",
       "    <tr>\n",
       "      <th>4095</th>\n",
       "      <td>SS</td>\n",
       "      <td>2020</td>\n",
       "      <td>0.583333</td>\n",
       "      <td>1</td>\n",
       "      <td>14</td>\n",
       "      <td>3</td>\n",
       "      <td>3.693396</td>\n",
       "      <td>0.263694</td>\n",
       "      <td>5.003187</td>\n",
       "      <td>0.252488</td>\n",
       "      <td>...</td>\n",
       "      <td>6.343750</td>\n",
       "      <td>5.094958</td>\n",
       "      <td>0.583333</td>\n",
       "      <td>6.964333</td>\n",
       "      <td>23.619042</td>\n",
       "      <td>8.625000</td>\n",
       "      <td>0.371750</td>\n",
       "      <td>0.688375</td>\n",
       "      <td>1.373667</td>\n",
       "      <td>1.572542</td>\n",
       "    </tr>\n",
       "    <tr>\n",
       "      <th>4096</th>\n",
       "      <td>SS</td>\n",
       "      <td>2020</td>\n",
       "      <td>0.583333</td>\n",
       "      <td>1</td>\n",
       "      <td>15</td>\n",
       "      <td>3</td>\n",
       "      <td>3.778302</td>\n",
       "      <td>0.265997</td>\n",
       "      <td>5.151025</td>\n",
       "      <td>0.254975</td>\n",
       "      <td>...</td>\n",
       "      <td>6.218750</td>\n",
       "      <td>5.251208</td>\n",
       "      <td>0.541667</td>\n",
       "      <td>7.011208</td>\n",
       "      <td>24.400292</td>\n",
       "      <td>8.708333</td>\n",
       "      <td>0.379583</td>\n",
       "      <td>0.696542</td>\n",
       "      <td>1.402583</td>\n",
       "      <td>1.575000</td>\n",
       "    </tr>\n",
       "    <tr>\n",
       "      <th>4097</th>\n",
       "      <td>SS</td>\n",
       "      <td>2020</td>\n",
       "      <td>0.583333</td>\n",
       "      <td>1</td>\n",
       "      <td>16</td>\n",
       "      <td>3</td>\n",
       "      <td>4.009479</td>\n",
       "      <td>0.270338</td>\n",
       "      <td>5.193950</td>\n",
       "      <td>0.261462</td>\n",
       "      <td>...</td>\n",
       "      <td>6.072917</td>\n",
       "      <td>5.292875</td>\n",
       "      <td>0.500000</td>\n",
       "      <td>6.886208</td>\n",
       "      <td>24.303083</td>\n",
       "      <td>9.020833</td>\n",
       "      <td>0.386208</td>\n",
       "      <td>0.709542</td>\n",
       "      <td>1.416458</td>\n",
       "      <td>1.635167</td>\n",
       "    </tr>\n",
       "    <tr>\n",
       "      <th>4098</th>\n",
       "      <td>SS</td>\n",
       "      <td>2020</td>\n",
       "      <td>0.583333</td>\n",
       "      <td>1</td>\n",
       "      <td>17</td>\n",
       "      <td>3</td>\n",
       "      <td>3.685714</td>\n",
       "      <td>0.265743</td>\n",
       "      <td>5.065175</td>\n",
       "      <td>0.257783</td>\n",
       "      <td>...</td>\n",
       "      <td>6.385417</td>\n",
       "      <td>5.167875</td>\n",
       "      <td>0.458333</td>\n",
       "      <td>7.011208</td>\n",
       "      <td>24.108625</td>\n",
       "      <td>8.911458</td>\n",
       "      <td>0.388792</td>\n",
       "      <td>0.707208</td>\n",
       "      <td>1.407208</td>\n",
       "      <td>1.547667</td>\n",
       "    </tr>\n",
       "    <tr>\n",
       "      <th>4099</th>\n",
       "      <td>SS</td>\n",
       "      <td>2020</td>\n",
       "      <td>0.583333</td>\n",
       "      <td>1</td>\n",
       "      <td>18</td>\n",
       "      <td>3</td>\n",
       "      <td>3.531100</td>\n",
       "      <td>0.264817</td>\n",
       "      <td>4.979324</td>\n",
       "      <td>0.254705</td>\n",
       "      <td>...</td>\n",
       "      <td>6.244792</td>\n",
       "      <td>5.084542</td>\n",
       "      <td>0.416667</td>\n",
       "      <td>7.052875</td>\n",
       "      <td>21.807708</td>\n",
       "      <td>8.791667</td>\n",
       "      <td>0.382750</td>\n",
       "      <td>0.701167</td>\n",
       "      <td>1.402583</td>\n",
       "      <td>1.676500</td>\n",
       "    </tr>\n",
       "  </tbody>\n",
       "</table>\n",
       "<p>4100 rows × 72 columns</p>\n",
       "</div>"
      ],
      "text/plain": [
       "     T_ID  YEAR       PCT  IDX  MERGE_IDX  HEADER_NO       era       avg  \\\n",
       "0      LG  2016  0.608696  777          0          0  3.649770  0.296069   \n",
       "1      LG  2016  0.500000    1          1          0  5.358453  0.253317   \n",
       "2      LG  2016  0.478261    2          2          0  4.715603  0.291169   \n",
       "3      LG  2016  0.375000    3          3          0  5.584768  0.305842   \n",
       "4      LG  2016  0.458333    4          4          0  5.551402  0.297110   \n",
       "...   ...   ...       ...  ...        ...        ...       ...       ...   \n",
       "4095   SS  2020  0.583333    1         14          3  3.693396  0.263694   \n",
       "4096   SS  2020  0.583333    1         15          3  3.778302  0.265997   \n",
       "4097   SS  2020  0.583333    1         16          3  4.009479  0.270338   \n",
       "4098   SS  2020  0.583333    1         17          3  3.685714  0.265743   \n",
       "4099   SS  2020  0.583333    1         18          3  3.531100  0.264817   \n",
       "\n",
       "        vs_era    vs_avg  ...       K_9    vs_ERA       H_A    vs_K_9  \\\n",
       "0     4.993723  0.268530  ...  6.299708  5.183583  0.625000  6.367167   \n",
       "1     4.555222  0.298349  ...  7.024500  4.564292  0.500000  7.958750   \n",
       "2     4.659483  0.274605  ...  6.010167  4.835125  0.500000  6.593083   \n",
       "3     5.148837  0.288889  ...  5.717083  5.223208  0.541667  6.863167   \n",
       "4     5.833333  0.288942  ...  6.221583  5.848958  0.416667  6.665708   \n",
       "...        ...       ...  ...       ...       ...       ...       ...   \n",
       "4095  5.003187  0.252488  ...  6.343750  5.094958  0.583333  6.964333   \n",
       "4096  5.151025  0.254975  ...  6.218750  5.251208  0.541667  7.011208   \n",
       "4097  5.193950  0.261462  ...  6.072917  5.292875  0.500000  6.886208   \n",
       "4098  5.065175  0.257783  ...  6.385417  5.167875  0.458333  7.011208   \n",
       "4099  4.979324  0.254705  ...  6.244792  5.084542  0.416667  7.052875   \n",
       "\n",
       "         vs_FIP        H_9      oSLG    vs_OPS   vs_WHIP  P2_WHIP_RT  \n",
       "0     21.210083   9.306833  0.376583  0.714208  1.588458    1.592333  \n",
       "1     25.981417  10.525375  0.411833  0.777333  1.417625    1.958208  \n",
       "2     18.368167   9.547667  0.370792  0.717458  1.526958    1.786958  \n",
       "3     19.183125  10.450250  0.444000  0.800958  1.615917    2.005667  \n",
       "4     24.602000  10.233583  0.445000  0.804208  1.644917    2.142625  \n",
       "...         ...        ...       ...       ...       ...         ...  \n",
       "4095  23.619042   8.625000  0.371750  0.688375  1.373667    1.572542  \n",
       "4096  24.400292   8.708333  0.379583  0.696542  1.402583    1.575000  \n",
       "4097  24.303083   9.020833  0.386208  0.709542  1.416458    1.635167  \n",
       "4098  24.108625   8.911458  0.388792  0.707208  1.407208    1.547667  \n",
       "4099  21.807708   8.791667  0.382750  0.701167  1.402583    1.676500  \n",
       "\n",
       "[4100 rows x 72 columns]"
      ]
     },
     "execution_count": 3,
     "metadata": {},
     "output_type": "execute_result"
    }
   ],
   "source": [
    "data"
   ]
  },
  {
   "cell_type": "code",
   "execution_count": 123,
   "metadata": {},
   "outputs": [],
   "source": [
    "# tmp = data[[\"T_ID\",\"YEAR\",\"PCT\",\"IDX\",\"H_A\"]] #최소한의 데이터\n",
    "\n",
    "tmp = data.copy()\n",
    "\n",
    "\n",
    "tmp = tmp[tmp[\"YEAR\"]!=2020]\n",
    "tmp.head(50)\n",
    "\n",
    "train = tmp[tmp[\"IDX\"]!=777]\n",
    "test = tmp[tmp[\"IDX\"]==777]"
   ]
  },
  {
   "cell_type": "code",
   "execution_count": 124,
   "metadata": {},
   "outputs": [
    {
     "data": {
      "text/html": [
       "<div>\n",
       "<style scoped>\n",
       "    .dataframe tbody tr th:only-of-type {\n",
       "        vertical-align: middle;\n",
       "    }\n",
       "\n",
       "    .dataframe tbody tr th {\n",
       "        vertical-align: top;\n",
       "    }\n",
       "\n",
       "    .dataframe thead th {\n",
       "        text-align: right;\n",
       "    }\n",
       "</style>\n",
       "<table border=\"1\" class=\"dataframe\">\n",
       "  <thead>\n",
       "    <tr style=\"text-align: right;\">\n",
       "      <th></th>\n",
       "      <th>T_ID</th>\n",
       "      <th>YEAR</th>\n",
       "      <th>PCT</th>\n",
       "      <th>IDX</th>\n",
       "      <th>MERGE_IDX</th>\n",
       "      <th>HEADER_NO</th>\n",
       "      <th>era</th>\n",
       "      <th>avg</th>\n",
       "      <th>vs_era</th>\n",
       "      <th>vs_avg</th>\n",
       "      <th>...</th>\n",
       "      <th>K_9</th>\n",
       "      <th>vs_ERA</th>\n",
       "      <th>H_A</th>\n",
       "      <th>vs_K_9</th>\n",
       "      <th>vs_FIP</th>\n",
       "      <th>H_9</th>\n",
       "      <th>oSLG</th>\n",
       "      <th>vs_OPS</th>\n",
       "      <th>vs_WHIP</th>\n",
       "      <th>P2_WHIP_RT</th>\n",
       "    </tr>\n",
       "  </thead>\n",
       "  <tbody>\n",
       "    <tr>\n",
       "      <th>1</th>\n",
       "      <td>LG</td>\n",
       "      <td>2016</td>\n",
       "      <td>0.500000</td>\n",
       "      <td>1</td>\n",
       "      <td>1</td>\n",
       "      <td>0</td>\n",
       "      <td>5.358453</td>\n",
       "      <td>0.253317</td>\n",
       "      <td>4.555222</td>\n",
       "      <td>0.298349</td>\n",
       "      <td>...</td>\n",
       "      <td>7.024500</td>\n",
       "      <td>4.564292</td>\n",
       "      <td>0.500000</td>\n",
       "      <td>7.958750</td>\n",
       "      <td>25.981417</td>\n",
       "      <td>10.525375</td>\n",
       "      <td>0.411833</td>\n",
       "      <td>0.777333</td>\n",
       "      <td>1.417625</td>\n",
       "      <td>1.958208</td>\n",
       "    </tr>\n",
       "    <tr>\n",
       "      <th>2</th>\n",
       "      <td>LG</td>\n",
       "      <td>2016</td>\n",
       "      <td>0.478261</td>\n",
       "      <td>2</td>\n",
       "      <td>2</td>\n",
       "      <td>0</td>\n",
       "      <td>4.715603</td>\n",
       "      <td>0.291169</td>\n",
       "      <td>4.659483</td>\n",
       "      <td>0.274605</td>\n",
       "      <td>...</td>\n",
       "      <td>6.010167</td>\n",
       "      <td>4.835125</td>\n",
       "      <td>0.500000</td>\n",
       "      <td>6.593083</td>\n",
       "      <td>18.368167</td>\n",
       "      <td>9.547667</td>\n",
       "      <td>0.370792</td>\n",
       "      <td>0.717458</td>\n",
       "      <td>1.526958</td>\n",
       "      <td>1.786958</td>\n",
       "    </tr>\n",
       "    <tr>\n",
       "      <th>3</th>\n",
       "      <td>LG</td>\n",
       "      <td>2016</td>\n",
       "      <td>0.375000</td>\n",
       "      <td>3</td>\n",
       "      <td>3</td>\n",
       "      <td>0</td>\n",
       "      <td>5.584768</td>\n",
       "      <td>0.305842</td>\n",
       "      <td>5.148837</td>\n",
       "      <td>0.288889</td>\n",
       "      <td>...</td>\n",
       "      <td>5.717083</td>\n",
       "      <td>5.223208</td>\n",
       "      <td>0.541667</td>\n",
       "      <td>6.863167</td>\n",
       "      <td>19.183125</td>\n",
       "      <td>10.450250</td>\n",
       "      <td>0.444000</td>\n",
       "      <td>0.800958</td>\n",
       "      <td>1.615917</td>\n",
       "      <td>2.005667</td>\n",
       "    </tr>\n",
       "    <tr>\n",
       "      <th>4</th>\n",
       "      <td>LG</td>\n",
       "      <td>2016</td>\n",
       "      <td>0.458333</td>\n",
       "      <td>4</td>\n",
       "      <td>4</td>\n",
       "      <td>0</td>\n",
       "      <td>5.551402</td>\n",
       "      <td>0.297110</td>\n",
       "      <td>5.833333</td>\n",
       "      <td>0.288942</td>\n",
       "      <td>...</td>\n",
       "      <td>6.221583</td>\n",
       "      <td>5.848958</td>\n",
       "      <td>0.416667</td>\n",
       "      <td>6.665708</td>\n",
       "      <td>24.602000</td>\n",
       "      <td>10.233583</td>\n",
       "      <td>0.445000</td>\n",
       "      <td>0.804208</td>\n",
       "      <td>1.644917</td>\n",
       "      <td>2.142625</td>\n",
       "    </tr>\n",
       "    <tr>\n",
       "      <th>5</th>\n",
       "      <td>LG</td>\n",
       "      <td>2016</td>\n",
       "      <td>0.583333</td>\n",
       "      <td>5</td>\n",
       "      <td>5</td>\n",
       "      <td>0</td>\n",
       "      <td>5.400000</td>\n",
       "      <td>0.294471</td>\n",
       "      <td>5.091926</td>\n",
       "      <td>0.286756</td>\n",
       "      <td>...</td>\n",
       "      <td>6.891667</td>\n",
       "      <td>5.106250</td>\n",
       "      <td>0.416667</td>\n",
       "      <td>6.691250</td>\n",
       "      <td>18.554625</td>\n",
       "      <td>10.194792</td>\n",
       "      <td>0.401542</td>\n",
       "      <td>0.757000</td>\n",
       "      <td>1.514083</td>\n",
       "      <td>2.408083</td>\n",
       "    </tr>\n",
       "    <tr>\n",
       "      <th>...</th>\n",
       "      <td>...</td>\n",
       "      <td>...</td>\n",
       "      <td>...</td>\n",
       "      <td>...</td>\n",
       "      <td>...</td>\n",
       "      <td>...</td>\n",
       "      <td>...</td>\n",
       "      <td>...</td>\n",
       "      <td>...</td>\n",
       "      <td>...</td>\n",
       "      <td>...</td>\n",
       "      <td>...</td>\n",
       "      <td>...</td>\n",
       "      <td>...</td>\n",
       "      <td>...</td>\n",
       "      <td>...</td>\n",
       "      <td>...</td>\n",
       "      <td>...</td>\n",
       "      <td>...</td>\n",
       "      <td>...</td>\n",
       "      <td>...</td>\n",
       "    </tr>\n",
       "    <tr>\n",
       "      <th>93</th>\n",
       "      <td>LG</td>\n",
       "      <td>2016</td>\n",
       "      <td>0.625000</td>\n",
       "      <td>4</td>\n",
       "      <td>93</td>\n",
       "      <td>0</td>\n",
       "      <td>5.130841</td>\n",
       "      <td>0.302817</td>\n",
       "      <td>5.255895</td>\n",
       "      <td>0.288942</td>\n",
       "      <td>...</td>\n",
       "      <td>6.881250</td>\n",
       "      <td>5.304167</td>\n",
       "      <td>0.458333</td>\n",
       "      <td>6.456875</td>\n",
       "      <td>19.565083</td>\n",
       "      <td>10.298958</td>\n",
       "      <td>0.400958</td>\n",
       "      <td>0.750708</td>\n",
       "      <td>1.560375</td>\n",
       "      <td>2.347458</td>\n",
       "    </tr>\n",
       "    <tr>\n",
       "      <th>94</th>\n",
       "      <td>LG</td>\n",
       "      <td>2016</td>\n",
       "      <td>0.478261</td>\n",
       "      <td>1</td>\n",
       "      <td>94</td>\n",
       "      <td>0</td>\n",
       "      <td>5.299065</td>\n",
       "      <td>0.285024</td>\n",
       "      <td>4.702962</td>\n",
       "      <td>0.285714</td>\n",
       "      <td>...</td>\n",
       "      <td>6.042708</td>\n",
       "      <td>4.842708</td>\n",
       "      <td>0.541667</td>\n",
       "      <td>6.630958</td>\n",
       "      <td>17.568083</td>\n",
       "      <td>10.106250</td>\n",
       "      <td>0.392250</td>\n",
       "      <td>0.746875</td>\n",
       "      <td>1.500458</td>\n",
       "      <td>1.931500</td>\n",
       "    </tr>\n",
       "    <tr>\n",
       "      <th>95</th>\n",
       "      <td>LG</td>\n",
       "      <td>2016</td>\n",
       "      <td>0.375000</td>\n",
       "      <td>2</td>\n",
       "      <td>95</td>\n",
       "      <td>0</td>\n",
       "      <td>5.333333</td>\n",
       "      <td>0.304447</td>\n",
       "      <td>4.852535</td>\n",
       "      <td>0.280516</td>\n",
       "      <td>...</td>\n",
       "      <td>5.642875</td>\n",
       "      <td>4.965625</td>\n",
       "      <td>0.500000</td>\n",
       "      <td>6.700292</td>\n",
       "      <td>19.344333</td>\n",
       "      <td>10.058333</td>\n",
       "      <td>0.430292</td>\n",
       "      <td>0.781125</td>\n",
       "      <td>1.605375</td>\n",
       "      <td>1.923625</td>\n",
       "    </tr>\n",
       "    <tr>\n",
       "      <th>96</th>\n",
       "      <td>LG</td>\n",
       "      <td>2016</td>\n",
       "      <td>0.416667</td>\n",
       "      <td>3</td>\n",
       "      <td>96</td>\n",
       "      <td>0</td>\n",
       "      <td>5.845794</td>\n",
       "      <td>0.295481</td>\n",
       "      <td>5.682028</td>\n",
       "      <td>0.300469</td>\n",
       "      <td>...</td>\n",
       "      <td>6.263250</td>\n",
       "      <td>5.671875</td>\n",
       "      <td>0.416667</td>\n",
       "      <td>6.389667</td>\n",
       "      <td>24.663333</td>\n",
       "      <td>10.775250</td>\n",
       "      <td>0.461042</td>\n",
       "      <td>0.832167</td>\n",
       "      <td>1.619458</td>\n",
       "      <td>2.225958</td>\n",
       "    </tr>\n",
       "    <tr>\n",
       "      <th>97</th>\n",
       "      <td>LG</td>\n",
       "      <td>2016</td>\n",
       "      <td>0.625000</td>\n",
       "      <td>4</td>\n",
       "      <td>97</td>\n",
       "      <td>0</td>\n",
       "      <td>5.075829</td>\n",
       "      <td>0.297006</td>\n",
       "      <td>5.331219</td>\n",
       "      <td>0.281896</td>\n",
       "      <td>...</td>\n",
       "      <td>7.006250</td>\n",
       "      <td>5.366667</td>\n",
       "      <td>0.458333</td>\n",
       "      <td>6.800625</td>\n",
       "      <td>18.780333</td>\n",
       "      <td>9.986458</td>\n",
       "      <td>0.388375</td>\n",
       "      <td>0.733167</td>\n",
       "      <td>1.548792</td>\n",
       "      <td>2.344000</td>\n",
       "    </tr>\n",
       "  </tbody>\n",
       "</table>\n",
       "<p>97 rows × 72 columns</p>\n",
       "</div>"
      ],
      "text/plain": [
       "   T_ID  YEAR       PCT  IDX  MERGE_IDX  HEADER_NO       era       avg  \\\n",
       "1    LG  2016  0.500000    1          1          0  5.358453  0.253317   \n",
       "2    LG  2016  0.478261    2          2          0  4.715603  0.291169   \n",
       "3    LG  2016  0.375000    3          3          0  5.584768  0.305842   \n",
       "4    LG  2016  0.458333    4          4          0  5.551402  0.297110   \n",
       "5    LG  2016  0.583333    5          5          0  5.400000  0.294471   \n",
       "..  ...   ...       ...  ...        ...        ...       ...       ...   \n",
       "93   LG  2016  0.625000    4         93          0  5.130841  0.302817   \n",
       "94   LG  2016  0.478261    1         94          0  5.299065  0.285024   \n",
       "95   LG  2016  0.375000    2         95          0  5.333333  0.304447   \n",
       "96   LG  2016  0.416667    3         96          0  5.845794  0.295481   \n",
       "97   LG  2016  0.625000    4         97          0  5.075829  0.297006   \n",
       "\n",
       "      vs_era    vs_avg  ...       K_9    vs_ERA       H_A    vs_K_9  \\\n",
       "1   4.555222  0.298349  ...  7.024500  4.564292  0.500000  7.958750   \n",
       "2   4.659483  0.274605  ...  6.010167  4.835125  0.500000  6.593083   \n",
       "3   5.148837  0.288889  ...  5.717083  5.223208  0.541667  6.863167   \n",
       "4   5.833333  0.288942  ...  6.221583  5.848958  0.416667  6.665708   \n",
       "5   5.091926  0.286756  ...  6.891667  5.106250  0.416667  6.691250   \n",
       "..       ...       ...  ...       ...       ...       ...       ...   \n",
       "93  5.255895  0.288942  ...  6.881250  5.304167  0.458333  6.456875   \n",
       "94  4.702962  0.285714  ...  6.042708  4.842708  0.541667  6.630958   \n",
       "95  4.852535  0.280516  ...  5.642875  4.965625  0.500000  6.700292   \n",
       "96  5.682028  0.300469  ...  6.263250  5.671875  0.416667  6.389667   \n",
       "97  5.331219  0.281896  ...  7.006250  5.366667  0.458333  6.800625   \n",
       "\n",
       "       vs_FIP        H_9      oSLG    vs_OPS   vs_WHIP  P2_WHIP_RT  \n",
       "1   25.981417  10.525375  0.411833  0.777333  1.417625    1.958208  \n",
       "2   18.368167   9.547667  0.370792  0.717458  1.526958    1.786958  \n",
       "3   19.183125  10.450250  0.444000  0.800958  1.615917    2.005667  \n",
       "4   24.602000  10.233583  0.445000  0.804208  1.644917    2.142625  \n",
       "5   18.554625  10.194792  0.401542  0.757000  1.514083    2.408083  \n",
       "..        ...        ...       ...       ...       ...         ...  \n",
       "93  19.565083  10.298958  0.400958  0.750708  1.560375    2.347458  \n",
       "94  17.568083  10.106250  0.392250  0.746875  1.500458    1.931500  \n",
       "95  19.344333  10.058333  0.430292  0.781125  1.605375    1.923625  \n",
       "96  24.663333  10.775250  0.461042  0.832167  1.619458    2.225958  \n",
       "97  18.780333   9.986458  0.388375  0.733167  1.548792    2.344000  \n",
       "\n",
       "[97 rows x 72 columns]"
      ]
     },
     "execution_count": 124,
     "metadata": {},
     "output_type": "execute_result"
    }
   ],
   "source": [
    "ttmp = train[(train[\"T_ID\"]=='LG')]\n",
    "ttmp = ttmp[(ttmp[\"YEAR\"]==2016)]\n",
    "ttmp"
   ]
  },
  {
   "cell_type": "code",
   "execution_count": 125,
   "metadata": {},
   "outputs": [],
   "source": [
    "aaa = pd.DataFrame([])\n",
    "\n",
    "for i in range(1,3):\n",
    "    for c in list(set(list(ttmp.columns))-set(['T_ID','YEAR'])):\n",
    "        aaa.loc[:,'shift_{}_{}'.format(c,i)] = ttmp.loc[:,c].shift(i)\n",
    "        \n",
    "aaa.loc[:,[\"IDX\",\"MERGE_IDX\",\"PCT\"]] = ttmp.loc[:,[\"IDX\",\"MERGE_IDX\",\"PCT\"]]"
   ]
  },
  {
   "cell_type": "code",
   "execution_count": 126,
   "metadata": {},
   "outputs": [],
   "source": [
    "ttmp = aaa.copy()"
   ]
  },
  {
   "cell_type": "code",
   "execution_count": 127,
   "metadata": {},
   "outputs": [],
   "source": [
    "ttmp.dropna(inplace = True)"
   ]
  },
  {
   "cell_type": "code",
   "execution_count": 128,
   "metadata": {},
   "outputs": [],
   "source": [
    "ttmp_idx = list(ttmp.index)"
   ]
  },
  {
   "cell_type": "code",
   "execution_count": 129,
   "metadata": {
    "scrolled": true
   },
   "outputs": [],
   "source": [
    "drop_idx = []\n",
    "for i in ttmp_idx:\n",
    "    idx_num = ttmp.loc[i,'IDX']\n",
    "    if idx_num < ttmp.loc[i,'shift_IDX_1'] or idx_num < ttmp.loc[i,'shift_IDX_2']:\n",
    "        drop_idx.append(i)"
   ]
  },
  {
   "cell_type": "code",
   "execution_count": 130,
   "metadata": {},
   "outputs": [],
   "source": [
    "shift_data = ttmp.drop(drop_idx).reset_index(drop = True)\n",
    "\n",
    "# shift_data = pd.concat([shift_data, pd.get_dummies(data.T_ID)], axis = 1)"
   ]
  },
  {
   "cell_type": "code",
   "execution_count": 131,
   "metadata": {},
   "outputs": [],
   "source": [
    "no_shift_lst= []\n",
    "for i in list(shift_data.columns):\n",
    "    if 'shift' not in i:\n",
    "        no_shift_lst.append(i)"
   ]
  },
  {
   "cell_type": "code",
   "execution_count": 132,
   "metadata": {},
   "outputs": [],
   "source": [
    "X_train = shift_data.drop(no_shift_lst,axis = 1)\n",
    "y_train = shift_data[[\"PCT\"]]"
   ]
  },
  {
   "cell_type": "code",
   "execution_count": 133,
   "metadata": {
    "scrolled": true
   },
   "outputs": [
    {
     "data": {
      "text/plain": [
       "((49, 140), (49, 1))"
      ]
     },
     "execution_count": 133,
     "metadata": {},
     "output_type": "execute_result"
    }
   ],
   "source": [
    "X_train.shape, y_train.shape"
   ]
  },
  {
   "cell_type": "code",
   "execution_count": 141,
   "metadata": {
    "scrolled": true
   },
   "outputs": [],
   "source": [
    "sel_col = list(test.columns)\n",
    "\n",
    "tmp5 = data[(data[\"IDX\"]==5)&(data[\"T_ID\"]=='LG')][sel_col]\n",
    "tmp4 = data[(data[\"IDX\"]==4) & (data[\"MERGE_IDX\"]==4)&(data[\"T_ID\"]=='LG')][sel_col]"
   ]
  },
  {
   "cell_type": "code",
   "execution_count": 142,
   "metadata": {
    "scrolled": true
   },
   "outputs": [],
   "source": [
    "test_df = pd.concat([test[test[\"T_ID\"]=='LG'],tmp5,tmp4], axis = 0).sort_values(by=[\"YEAR\",\"IDX\"])"
   ]
  },
  {
   "cell_type": "code",
   "execution_count": 143,
   "metadata": {},
   "outputs": [],
   "source": [
    "test_df = test_df[test_df[\"YEAR\"]==2016]"
   ]
  },
  {
   "cell_type": "code",
   "execution_count": 144,
   "metadata": {},
   "outputs": [],
   "source": [
    "bbb = pd.DataFrame([])\n",
    "\n",
    "for i in range(1,3):\n",
    "    for c in list(set(list(test_df.columns))-set(['T_ID','YEAR'])):\n",
    "        bbb.loc[:,'shift_{}_{}'.format(c,i)] = test_df.loc[:,c].shift(i)\n",
    "        \n",
    "bbb.loc[:,[\"IDX\",\"MERGE_IDX\",\"PCT\"]] = test_df.loc[:,[\"IDX\",\"MERGE_IDX\",\"PCT\"]]\n",
    "\n",
    "\n",
    "# for c in list(set(list(test_df.columns))-set(['T_ID','YEAR'])):\n",
    "#     for i in range(1,3):\n",
    "#         test_df.loc[:,'shift_{}_{}'.format(c,i)] = test_df.loc[:,c].shift(i)\n",
    "\n",
    "# for i in range(1,3):\n",
    "#     test_df.loc[:,'shift_{}_{}'.format('PCT',i)] = test_df.loc[:,'PCT'].shift(i)"
   ]
  },
  {
   "cell_type": "code",
   "execution_count": 145,
   "metadata": {},
   "outputs": [],
   "source": [
    "test_df = bbb.copy()"
   ]
  },
  {
   "cell_type": "code",
   "execution_count": 147,
   "metadata": {},
   "outputs": [],
   "source": [
    "test_tmp = test_df[test_df[\"IDX\"]==777]\n",
    "X_test = test_tmp.drop(no_shift_lst,axis = 1)\n",
    "y_test = test_tmp[[\"PCT\"]]"
   ]
  },
  {
   "cell_type": "code",
   "execution_count": 148,
   "metadata": {},
   "outputs": [
    {
     "data": {
      "text/html": [
       "<div>\n",
       "<style scoped>\n",
       "    .dataframe tbody tr th:only-of-type {\n",
       "        vertical-align: middle;\n",
       "    }\n",
       "\n",
       "    .dataframe tbody tr th {\n",
       "        vertical-align: top;\n",
       "    }\n",
       "\n",
       "    .dataframe thead th {\n",
       "        text-align: right;\n",
       "    }\n",
       "</style>\n",
       "<table border=\"1\" class=\"dataframe\">\n",
       "  <thead>\n",
       "    <tr style=\"text-align: right;\">\n",
       "      <th></th>\n",
       "      <th>shift_TA_1</th>\n",
       "      <th>shift_vs_DER_1</th>\n",
       "      <th>shift_vs_AVG_1</th>\n",
       "      <th>shift_HEADER_NO_1</th>\n",
       "      <th>shift_P_WHIP_RT_1</th>\n",
       "      <th>shift_vs_H_9_1</th>\n",
       "      <th>shift_vs_oOBP_1</th>\n",
       "      <th>shift_WHIP_1</th>\n",
       "      <th>shift_vs_ISO_1</th>\n",
       "      <th>shift_era_1</th>\n",
       "      <th>...</th>\n",
       "      <th>shift_vs_OBP_2</th>\n",
       "      <th>shift_oSLG_2</th>\n",
       "      <th>shift_vs_K_9_2</th>\n",
       "      <th>shift_vs_BB_9_2</th>\n",
       "      <th>shift_K_9_2</th>\n",
       "      <th>shift_vs_WHIP_2</th>\n",
       "      <th>shift_RC_2</th>\n",
       "      <th>shift_ERA_2</th>\n",
       "      <th>shift_avg_2</th>\n",
       "      <th>shift_vs_BA_2</th>\n",
       "    </tr>\n",
       "  </thead>\n",
       "  <tbody>\n",
       "    <tr>\n",
       "      <th>0</th>\n",
       "      <td>0.739</td>\n",
       "      <td>0.663083</td>\n",
       "      <td>0.28075</td>\n",
       "      <td>0.0</td>\n",
       "      <td>1.950333</td>\n",
       "      <td>10.506667</td>\n",
       "      <td>0.339542</td>\n",
       "      <td>1.548125</td>\n",
       "      <td>0.116375</td>\n",
       "      <td>5.4</td>\n",
       "      <td>...</td>\n",
       "      <td>0.365458</td>\n",
       "      <td>0.445</td>\n",
       "      <td>6.665708</td>\n",
       "      <td>4.143</td>\n",
       "      <td>6.221583</td>\n",
       "      <td>1.644917</td>\n",
       "      <td>1.201167</td>\n",
       "      <td>5.592792</td>\n",
       "      <td>0.29711</td>\n",
       "      <td>0.280625</td>\n",
       "    </tr>\n",
       "  </tbody>\n",
       "</table>\n",
       "<p>1 rows × 140 columns</p>\n",
       "</div>"
      ],
      "text/plain": [
       "   shift_TA_1  shift_vs_DER_1  shift_vs_AVG_1  shift_HEADER_NO_1  \\\n",
       "0       0.739        0.663083         0.28075                0.0   \n",
       "\n",
       "   shift_P_WHIP_RT_1  shift_vs_H_9_1  shift_vs_oOBP_1  shift_WHIP_1  \\\n",
       "0           1.950333       10.506667         0.339542      1.548125   \n",
       "\n",
       "   shift_vs_ISO_1  shift_era_1  ...  shift_vs_OBP_2  shift_oSLG_2  \\\n",
       "0        0.116375          5.4  ...        0.365458         0.445   \n",
       "\n",
       "   shift_vs_K_9_2  shift_vs_BB_9_2  shift_K_9_2  shift_vs_WHIP_2  shift_RC_2  \\\n",
       "0        6.665708            4.143     6.221583         1.644917    1.201167   \n",
       "\n",
       "   shift_ERA_2  shift_avg_2  shift_vs_BA_2  \n",
       "0     5.592792      0.29711       0.280625  \n",
       "\n",
       "[1 rows x 140 columns]"
      ]
     },
     "execution_count": 148,
     "metadata": {},
     "output_type": "execute_result"
    }
   ],
   "source": [
    "X_test"
   ]
  },
  {
   "cell_type": "code",
   "execution_count": 149,
   "metadata": {},
   "outputs": [],
   "source": [
    "X_train_v = X_train.values\n",
    "y_train_v = y_train.values\n",
    "\n",
    "X_test_v = X_test.values\n",
    "y_test_v = y_test.values"
   ]
  },
  {
   "cell_type": "code",
   "execution_count": 150,
   "metadata": {},
   "outputs": [
    {
     "data": {
      "text/plain": [
       "((49, 140), (49, 1), (1, 140), (1, 1))"
      ]
     },
     "execution_count": 150,
     "metadata": {},
     "output_type": "execute_result"
    }
   ],
   "source": [
    "X_train_v.shape, y_train_v.shape, X_test_v.shape, y_test_v.shape"
   ]
  },
  {
   "cell_type": "code",
   "execution_count": 153,
   "metadata": {},
   "outputs": [],
   "source": [
    "X_train_t = X_train_v.reshape(X_train_v.shape[0], 2,70)\n",
    "X_test_t = X_test_v.reshape(X_test_v.shape[0], 2,70)"
   ]
  },
  {
   "cell_type": "code",
   "execution_count": 154,
   "metadata": {},
   "outputs": [
    {
     "data": {
      "text/plain": [
       "((49, 2, 70),\n",
       " array([[7.54333333e-01, 6.69541667e-01, 2.68791667e-01, 0.00000000e+00,\n",
       "         2.35179167e+00, 1.03035833e+01, 3.39291667e-01, 1.52133333e+00,\n",
       "         9.83750000e-02, 4.71560322e+00, 2.00141667e+00, 9.54766667e+00,\n",
       "         5.31250000e-01, 3.55625000e-01, 9.73000000e+02, 4.07500000e-01,\n",
       "         7.58833333e-01, 4.58333333e-01, 4.03208333e-01, 2.49500000e-01,\n",
       "         2.96458333e-01, 2.86125000e-01, 8.45500000e-01, 4.65948330e+00,\n",
       "         5.00000000e-01, 7.11250000e-01, 2.74605103e-01, 2.86125000e-01,\n",
       "         6.96458333e-01, 3.36875000e-01, 2.79666667e-01, 4.99908333e+00,\n",
       "         5.00000000e-01, 4.14429167e+00, 4.83512500e+00, 7.17458333e-01,\n",
       "         2.93666667e-01, 1.83681667e+01, 3.76750000e-01, 1.79695833e+00,\n",
       "         3.67166667e-01, 2.71625000e-01, 1.89143750e+01, 7.15333333e-01,\n",
       "         5.89875000e-01, 1.97179167e+00, 3.24333333e-01, 4.78260870e-01,\n",
       "         2.00000000e+00, 6.85916667e-01, 2.88875000e-01, 9.73000000e+02,\n",
       "         1.17083333e-01, 4.60900000e+00, 2.60833333e-01, 2.00000000e+00,\n",
       "         1.78695833e+00, 1.62683333e+00, 5.00000000e-01, 3.72791667e-01,\n",
       "         3.50291667e-01, 3.70791667e-01, 6.59308333e+00, 3.43966667e+00,\n",
       "         6.01016667e+00, 1.52695833e+00, 8.25416667e-01, 4.84087500e+00,\n",
       "         2.91169451e-01, 2.68791667e-01],\n",
       "        [7.07125000e-01, 7.04083333e-01, 2.89208333e-01, 0.00000000e+00,\n",
       "         2.09812500e+00, 8.70520833e+00, 3.12583333e-01, 1.59525000e+00,\n",
       "         1.25750000e-01, 5.35845329e+00, 1.91862500e+00, 1.05253750e+01,\n",
       "         8.44791667e-01, 3.25583333e-01, 9.72833333e+02, 3.79666667e-01,\n",
       "         6.99750000e-01, 5.00000000e-01, 3.74166667e-01, 2.66833333e-01,\n",
       "         3.12041667e-01, 2.45625000e-01, 8.70291667e-01, 4.55522171e+00,\n",
       "         5.00000000e-01, 6.87916667e-01, 2.98349057e-01, 2.45625000e-01,\n",
       "         6.59333333e-01, 3.49208333e-01, 2.16875000e-01, 4.71558333e+00,\n",
       "         5.00000000e-01, 3.83245833e+00, 4.56429167e+00, 7.77333333e-01,\n",
       "         3.15791667e-01, 2.59814167e+01, 3.57375000e-01, 1.41950000e+00,\n",
       "         4.14958333e-01, 2.86875000e-01, 2.07307083e+01, 7.67708333e-01,\n",
       "         1.13225000e+00, 1.79175000e+00, 3.03000000e-01, 5.00000000e-01,\n",
       "         1.00000000e+00, 7.52291667e-01, 2.49250000e-01, 9.72833333e+02,\n",
       "         1.28541667e-01, 5.26025000e+00, 2.40041667e-01, 1.00000000e+00,\n",
       "         1.95820833e+00, 1.54479167e+00, 5.00000000e-01, 3.89000000e-01,\n",
       "         3.62375000e-01, 4.11833333e-01, 7.95875000e+00, 4.05300000e+00,\n",
       "         7.02450000e+00, 1.41762500e+00, 6.56958333e-01, 5.44512500e+00,\n",
       "         2.53317250e-01, 2.89208333e-01]]))"
      ]
     },
     "execution_count": 154,
     "metadata": {},
     "output_type": "execute_result"
    }
   ],
   "source": [
    "X_train_t.shape, X_train_t[0]"
   ]
  },
  {
   "cell_type": "code",
   "execution_count": 157,
   "metadata": {},
   "outputs": [
    {
     "name": "stdout",
     "output_type": "stream",
     "text": [
      "Model: \"sequential\"\n",
      "_________________________________________________________________\n",
      "Layer (type)                 Output Shape              Param #   \n",
      "=================================================================\n",
      "lstm (LSTM)                  (None, 100)               68400     \n",
      "_________________________________________________________________\n",
      "dense (Dense)                (None, 1)                 101       \n",
      "=================================================================\n",
      "Total params: 68,501\n",
      "Trainable params: 68,501\n",
      "Non-trainable params: 0\n",
      "_________________________________________________________________\n"
     ]
    }
   ],
   "source": [
    "K.clear_session() \n",
    "\n",
    "model = Sequential()\n",
    "optimizer = RMSprop(lr=0.0005, rho=0.9, epsilon=None, decay=0.0)\n",
    "\n",
    "model.add(LSTM(100,input_shape = (2,70))) # (timestep, feature)\n",
    "model.add(Dense(1)) # output = 1\n",
    "model.compile(loss='mean_squared_error', optimizer=optimizer,metrics=['mae'])\n",
    "\n",
    "model.summary()"
   ]
  },
  {
   "cell_type": "code",
   "execution_count": 159,
   "metadata": {
    "collapsed": true
   },
   "outputs": [
    {
     "name": "stdout",
     "output_type": "stream",
     "text": [
      "Train on 49 samples\n",
      "Epoch 1/100\n",
      " 1/49 [..............................] - ETA: 11sWARNING:tensorflow:Early stopping conditioned on metric `loss` which is not available. Available metrics are: \n"
     ]
    },
    {
     "ename": "UnknownError",
     "evalue": " [_Derived_]  Fail to find the dnn implementation.\n\t [[{{node CudnnRNN}}]]\n\t [[sequential/lstm/StatefulPartitionedCall]] [Op:__inference_distributed_function_4331]\n\nFunction call stack:\ndistributed_function -> distributed_function -> distributed_function\n",
     "output_type": "error",
     "traceback": [
      "\u001b[1;31m---------------------------------------------------------------------------\u001b[0m",
      "\u001b[1;31mUnknownError\u001b[0m                              Traceback (most recent call last)",
      "\u001b[1;32m<ipython-input-159-10de81e76a23>\u001b[0m in \u001b[0;36m<module>\u001b[1;34m\u001b[0m\n\u001b[0;32m      3\u001b[0m \u001b[1;33m\u001b[0m\u001b[0m\n\u001b[0;32m      4\u001b[0m hist1 = model.fit(X_train_t, y_train_v, epochs=100,\n\u001b[1;32m----> 5\u001b[1;33m           batch_size=1, verbose=1, callbacks=[early_stop])\n\u001b[0m",
      "\u001b[1;32mC:\\Users\\julia\\tf_jupyter\\lib\\site-packages\\tensorflow_core\\python\\keras\\engine\\training.py\u001b[0m in \u001b[0;36mfit\u001b[1;34m(self, x, y, batch_size, epochs, verbose, callbacks, validation_split, validation_data, shuffle, class_weight, sample_weight, initial_epoch, steps_per_epoch, validation_steps, validation_freq, max_queue_size, workers, use_multiprocessing, **kwargs)\u001b[0m\n\u001b[0;32m    726\u001b[0m         \u001b[0mmax_queue_size\u001b[0m\u001b[1;33m=\u001b[0m\u001b[0mmax_queue_size\u001b[0m\u001b[1;33m,\u001b[0m\u001b[1;33m\u001b[0m\u001b[0m\n\u001b[0;32m    727\u001b[0m         \u001b[0mworkers\u001b[0m\u001b[1;33m=\u001b[0m\u001b[0mworkers\u001b[0m\u001b[1;33m,\u001b[0m\u001b[1;33m\u001b[0m\u001b[0m\n\u001b[1;32m--> 728\u001b[1;33m         use_multiprocessing=use_multiprocessing)\n\u001b[0m\u001b[0;32m    729\u001b[0m \u001b[1;33m\u001b[0m\u001b[0m\n\u001b[0;32m    730\u001b[0m   def evaluate(self,\n",
      "\u001b[1;32mC:\\Users\\julia\\tf_jupyter\\lib\\site-packages\\tensorflow_core\\python\\keras\\engine\\training_v2.py\u001b[0m in \u001b[0;36mfit\u001b[1;34m(self, model, x, y, batch_size, epochs, verbose, callbacks, validation_split, validation_data, shuffle, class_weight, sample_weight, initial_epoch, steps_per_epoch, validation_steps, validation_freq, **kwargs)\u001b[0m\n\u001b[0;32m    322\u001b[0m                 \u001b[0mmode\u001b[0m\u001b[1;33m=\u001b[0m\u001b[0mModeKeys\u001b[0m\u001b[1;33m.\u001b[0m\u001b[0mTRAIN\u001b[0m\u001b[1;33m,\u001b[0m\u001b[1;33m\u001b[0m\u001b[0m\n\u001b[0;32m    323\u001b[0m                 \u001b[0mtraining_context\u001b[0m\u001b[1;33m=\u001b[0m\u001b[0mtraining_context\u001b[0m\u001b[1;33m,\u001b[0m\u001b[1;33m\u001b[0m\u001b[0m\n\u001b[1;32m--> 324\u001b[1;33m                 total_epochs=epochs)\n\u001b[0m\u001b[0;32m    325\u001b[0m             \u001b[0mcbks\u001b[0m\u001b[1;33m.\u001b[0m\u001b[0mmake_logs\u001b[0m\u001b[1;33m(\u001b[0m\u001b[0mmodel\u001b[0m\u001b[1;33m,\u001b[0m \u001b[0mepoch_logs\u001b[0m\u001b[1;33m,\u001b[0m \u001b[0mtraining_result\u001b[0m\u001b[1;33m,\u001b[0m \u001b[0mModeKeys\u001b[0m\u001b[1;33m.\u001b[0m\u001b[0mTRAIN\u001b[0m\u001b[1;33m)\u001b[0m\u001b[1;33m\u001b[0m\u001b[0m\n\u001b[0;32m    326\u001b[0m \u001b[1;33m\u001b[0m\u001b[0m\n",
      "\u001b[1;32mC:\\Users\\julia\\tf_jupyter\\lib\\site-packages\\tensorflow_core\\python\\keras\\engine\\training_v2.py\u001b[0m in \u001b[0;36mrun_one_epoch\u001b[1;34m(model, iterator, execution_function, dataset_size, batch_size, strategy, steps_per_epoch, num_samples, mode, training_context, total_epochs)\u001b[0m\n\u001b[0;32m    121\u001b[0m         step=step, mode=mode, size=current_batch_size) as batch_logs:\n\u001b[0;32m    122\u001b[0m       \u001b[1;32mtry\u001b[0m\u001b[1;33m:\u001b[0m\u001b[1;33m\u001b[0m\u001b[0m\n\u001b[1;32m--> 123\u001b[1;33m         \u001b[0mbatch_outs\u001b[0m \u001b[1;33m=\u001b[0m \u001b[0mexecution_function\u001b[0m\u001b[1;33m(\u001b[0m\u001b[0miterator\u001b[0m\u001b[1;33m)\u001b[0m\u001b[1;33m\u001b[0m\u001b[0m\n\u001b[0m\u001b[0;32m    124\u001b[0m       \u001b[1;32mexcept\u001b[0m \u001b[1;33m(\u001b[0m\u001b[0mStopIteration\u001b[0m\u001b[1;33m,\u001b[0m \u001b[0merrors\u001b[0m\u001b[1;33m.\u001b[0m\u001b[0mOutOfRangeError\u001b[0m\u001b[1;33m)\u001b[0m\u001b[1;33m:\u001b[0m\u001b[1;33m\u001b[0m\u001b[0m\n\u001b[0;32m    125\u001b[0m         \u001b[1;31m# TODO(kaftan): File bug about tf function and errors.OutOfRangeError?\u001b[0m\u001b[1;33m\u001b[0m\u001b[1;33m\u001b[0m\u001b[0m\n",
      "\u001b[1;32mC:\\Users\\julia\\tf_jupyter\\lib\\site-packages\\tensorflow_core\\python\\keras\\engine\\training_v2_utils.py\u001b[0m in \u001b[0;36mexecution_function\u001b[1;34m(input_fn)\u001b[0m\n\u001b[0;32m     84\u001b[0m     \u001b[1;31m# `numpy` translates Tensors to values in Eager mode.\u001b[0m\u001b[1;33m\u001b[0m\u001b[1;33m\u001b[0m\u001b[0m\n\u001b[0;32m     85\u001b[0m     return nest.map_structure(_non_none_constant_value,\n\u001b[1;32m---> 86\u001b[1;33m                               distributed_function(input_fn))\n\u001b[0m\u001b[0;32m     87\u001b[0m \u001b[1;33m\u001b[0m\u001b[0m\n\u001b[0;32m     88\u001b[0m   \u001b[1;32mreturn\u001b[0m \u001b[0mexecution_function\u001b[0m\u001b[1;33m\u001b[0m\u001b[0m\n",
      "\u001b[1;32mC:\\Users\\julia\\tf_jupyter\\lib\\site-packages\\tensorflow_core\\python\\eager\\def_function.py\u001b[0m in \u001b[0;36m__call__\u001b[1;34m(self, *args, **kwds)\u001b[0m\n\u001b[0;32m    455\u001b[0m \u001b[1;33m\u001b[0m\u001b[0m\n\u001b[0;32m    456\u001b[0m     \u001b[0mtracing_count\u001b[0m \u001b[1;33m=\u001b[0m \u001b[0mself\u001b[0m\u001b[1;33m.\u001b[0m\u001b[0m_get_tracing_count\u001b[0m\u001b[1;33m(\u001b[0m\u001b[1;33m)\u001b[0m\u001b[1;33m\u001b[0m\u001b[0m\n\u001b[1;32m--> 457\u001b[1;33m     \u001b[0mresult\u001b[0m \u001b[1;33m=\u001b[0m \u001b[0mself\u001b[0m\u001b[1;33m.\u001b[0m\u001b[0m_call\u001b[0m\u001b[1;33m(\u001b[0m\u001b[1;33m*\u001b[0m\u001b[0margs\u001b[0m\u001b[1;33m,\u001b[0m \u001b[1;33m**\u001b[0m\u001b[0mkwds\u001b[0m\u001b[1;33m)\u001b[0m\u001b[1;33m\u001b[0m\u001b[0m\n\u001b[0m\u001b[0;32m    458\u001b[0m     \u001b[1;32mif\u001b[0m \u001b[0mtracing_count\u001b[0m \u001b[1;33m==\u001b[0m \u001b[0mself\u001b[0m\u001b[1;33m.\u001b[0m\u001b[0m_get_tracing_count\u001b[0m\u001b[1;33m(\u001b[0m\u001b[1;33m)\u001b[0m\u001b[1;33m:\u001b[0m\u001b[1;33m\u001b[0m\u001b[0m\n\u001b[0;32m    459\u001b[0m       \u001b[0mself\u001b[0m\u001b[1;33m.\u001b[0m\u001b[0m_call_counter\u001b[0m\u001b[1;33m.\u001b[0m\u001b[0mcalled_without_tracing\u001b[0m\u001b[1;33m(\u001b[0m\u001b[1;33m)\u001b[0m\u001b[1;33m\u001b[0m\u001b[0m\n",
      "\u001b[1;32mC:\\Users\\julia\\tf_jupyter\\lib\\site-packages\\tensorflow_core\\python\\eager\\def_function.py\u001b[0m in \u001b[0;36m_call\u001b[1;34m(self, *args, **kwds)\u001b[0m\n\u001b[0;32m    485\u001b[0m       \u001b[1;31m# In this case we have created variables on the first call, so we run the\u001b[0m\u001b[1;33m\u001b[0m\u001b[1;33m\u001b[0m\u001b[0m\n\u001b[0;32m    486\u001b[0m       \u001b[1;31m# defunned version which is guaranteed to never create variables.\u001b[0m\u001b[1;33m\u001b[0m\u001b[1;33m\u001b[0m\u001b[0m\n\u001b[1;32m--> 487\u001b[1;33m       \u001b[1;32mreturn\u001b[0m \u001b[0mself\u001b[0m\u001b[1;33m.\u001b[0m\u001b[0m_stateless_fn\u001b[0m\u001b[1;33m(\u001b[0m\u001b[1;33m*\u001b[0m\u001b[0margs\u001b[0m\u001b[1;33m,\u001b[0m \u001b[1;33m**\u001b[0m\u001b[0mkwds\u001b[0m\u001b[1;33m)\u001b[0m  \u001b[1;31m# pylint: disable=not-callable\u001b[0m\u001b[1;33m\u001b[0m\u001b[0m\n\u001b[0m\u001b[0;32m    488\u001b[0m     \u001b[1;32melif\u001b[0m \u001b[0mself\u001b[0m\u001b[1;33m.\u001b[0m\u001b[0m_stateful_fn\u001b[0m \u001b[1;32mis\u001b[0m \u001b[1;32mnot\u001b[0m \u001b[1;32mNone\u001b[0m\u001b[1;33m:\u001b[0m\u001b[1;33m\u001b[0m\u001b[0m\n\u001b[0;32m    489\u001b[0m       \u001b[1;31m# Release the lock early so that multiple threads can perform the call\u001b[0m\u001b[1;33m\u001b[0m\u001b[1;33m\u001b[0m\u001b[0m\n",
      "\u001b[1;32mC:\\Users\\julia\\tf_jupyter\\lib\\site-packages\\tensorflow_core\\python\\eager\\function.py\u001b[0m in \u001b[0;36m__call__\u001b[1;34m(self, *args, **kwargs)\u001b[0m\n\u001b[0;32m   1821\u001b[0m     \u001b[1;34m\"\"\"Calls a graph function specialized to the inputs.\"\"\"\u001b[0m\u001b[1;33m\u001b[0m\u001b[0m\n\u001b[0;32m   1822\u001b[0m     \u001b[0mgraph_function\u001b[0m\u001b[1;33m,\u001b[0m \u001b[0margs\u001b[0m\u001b[1;33m,\u001b[0m \u001b[0mkwargs\u001b[0m \u001b[1;33m=\u001b[0m \u001b[0mself\u001b[0m\u001b[1;33m.\u001b[0m\u001b[0m_maybe_define_function\u001b[0m\u001b[1;33m(\u001b[0m\u001b[0margs\u001b[0m\u001b[1;33m,\u001b[0m \u001b[0mkwargs\u001b[0m\u001b[1;33m)\u001b[0m\u001b[1;33m\u001b[0m\u001b[0m\n\u001b[1;32m-> 1823\u001b[1;33m     \u001b[1;32mreturn\u001b[0m \u001b[0mgraph_function\u001b[0m\u001b[1;33m.\u001b[0m\u001b[0m_filtered_call\u001b[0m\u001b[1;33m(\u001b[0m\u001b[0margs\u001b[0m\u001b[1;33m,\u001b[0m \u001b[0mkwargs\u001b[0m\u001b[1;33m)\u001b[0m  \u001b[1;31m# pylint: disable=protected-access\u001b[0m\u001b[1;33m\u001b[0m\u001b[0m\n\u001b[0m\u001b[0;32m   1824\u001b[0m \u001b[1;33m\u001b[0m\u001b[0m\n\u001b[0;32m   1825\u001b[0m   \u001b[1;33m@\u001b[0m\u001b[0mproperty\u001b[0m\u001b[1;33m\u001b[0m\u001b[0m\n",
      "\u001b[1;32mC:\\Users\\julia\\tf_jupyter\\lib\\site-packages\\tensorflow_core\\python\\eager\\function.py\u001b[0m in \u001b[0;36m_filtered_call\u001b[1;34m(self, args, kwargs)\u001b[0m\n\u001b[0;32m   1139\u001b[0m          if isinstance(t, (ops.Tensor,\n\u001b[0;32m   1140\u001b[0m                            resource_variable_ops.BaseResourceVariable))),\n\u001b[1;32m-> 1141\u001b[1;33m         self.captured_inputs)\n\u001b[0m\u001b[0;32m   1142\u001b[0m \u001b[1;33m\u001b[0m\u001b[0m\n\u001b[0;32m   1143\u001b[0m   \u001b[1;32mdef\u001b[0m \u001b[0m_call_flat\u001b[0m\u001b[1;33m(\u001b[0m\u001b[0mself\u001b[0m\u001b[1;33m,\u001b[0m \u001b[0margs\u001b[0m\u001b[1;33m,\u001b[0m \u001b[0mcaptured_inputs\u001b[0m\u001b[1;33m,\u001b[0m \u001b[0mcancellation_manager\u001b[0m\u001b[1;33m=\u001b[0m\u001b[1;32mNone\u001b[0m\u001b[1;33m)\u001b[0m\u001b[1;33m:\u001b[0m\u001b[1;33m\u001b[0m\u001b[0m\n",
      "\u001b[1;32mC:\\Users\\julia\\tf_jupyter\\lib\\site-packages\\tensorflow_core\\python\\eager\\function.py\u001b[0m in \u001b[0;36m_call_flat\u001b[1;34m(self, args, captured_inputs, cancellation_manager)\u001b[0m\n\u001b[0;32m   1222\u001b[0m     \u001b[1;32mif\u001b[0m \u001b[0mexecuting_eagerly\u001b[0m\u001b[1;33m:\u001b[0m\u001b[1;33m\u001b[0m\u001b[0m\n\u001b[0;32m   1223\u001b[0m       flat_outputs = forward_function.call(\n\u001b[1;32m-> 1224\u001b[1;33m           ctx, args, cancellation_manager=cancellation_manager)\n\u001b[0m\u001b[0;32m   1225\u001b[0m     \u001b[1;32melse\u001b[0m\u001b[1;33m:\u001b[0m\u001b[1;33m\u001b[0m\u001b[0m\n\u001b[0;32m   1226\u001b[0m       \u001b[0mgradient_name\u001b[0m \u001b[1;33m=\u001b[0m \u001b[0mself\u001b[0m\u001b[1;33m.\u001b[0m\u001b[0m_delayed_rewrite_functions\u001b[0m\u001b[1;33m.\u001b[0m\u001b[0mregister\u001b[0m\u001b[1;33m(\u001b[0m\u001b[1;33m)\u001b[0m\u001b[1;33m\u001b[0m\u001b[0m\n",
      "\u001b[1;32mC:\\Users\\julia\\tf_jupyter\\lib\\site-packages\\tensorflow_core\\python\\eager\\function.py\u001b[0m in \u001b[0;36mcall\u001b[1;34m(self, ctx, args, cancellation_manager)\u001b[0m\n\u001b[0;32m    509\u001b[0m               \u001b[0minputs\u001b[0m\u001b[1;33m=\u001b[0m\u001b[0margs\u001b[0m\u001b[1;33m,\u001b[0m\u001b[1;33m\u001b[0m\u001b[0m\n\u001b[0;32m    510\u001b[0m               \u001b[0mattrs\u001b[0m\u001b[1;33m=\u001b[0m\u001b[1;33m(\u001b[0m\u001b[1;34m\"executor_type\"\u001b[0m\u001b[1;33m,\u001b[0m \u001b[0mexecutor_type\u001b[0m\u001b[1;33m,\u001b[0m \u001b[1;34m\"config_proto\"\u001b[0m\u001b[1;33m,\u001b[0m \u001b[0mconfig\u001b[0m\u001b[1;33m)\u001b[0m\u001b[1;33m,\u001b[0m\u001b[1;33m\u001b[0m\u001b[0m\n\u001b[1;32m--> 511\u001b[1;33m               ctx=ctx)\n\u001b[0m\u001b[0;32m    512\u001b[0m         \u001b[1;32melse\u001b[0m\u001b[1;33m:\u001b[0m\u001b[1;33m\u001b[0m\u001b[0m\n\u001b[0;32m    513\u001b[0m           outputs = execute.execute_with_cancellation(\n",
      "\u001b[1;32mC:\\Users\\julia\\tf_jupyter\\lib\\site-packages\\tensorflow_core\\python\\eager\\execute.py\u001b[0m in \u001b[0;36mquick_execute\u001b[1;34m(op_name, num_outputs, inputs, attrs, ctx, name)\u001b[0m\n\u001b[0;32m     65\u001b[0m     \u001b[1;32melse\u001b[0m\u001b[1;33m:\u001b[0m\u001b[1;33m\u001b[0m\u001b[0m\n\u001b[0;32m     66\u001b[0m       \u001b[0mmessage\u001b[0m \u001b[1;33m=\u001b[0m \u001b[0me\u001b[0m\u001b[1;33m.\u001b[0m\u001b[0mmessage\u001b[0m\u001b[1;33m\u001b[0m\u001b[0m\n\u001b[1;32m---> 67\u001b[1;33m     \u001b[0msix\u001b[0m\u001b[1;33m.\u001b[0m\u001b[0mraise_from\u001b[0m\u001b[1;33m(\u001b[0m\u001b[0mcore\u001b[0m\u001b[1;33m.\u001b[0m\u001b[0m_status_to_exception\u001b[0m\u001b[1;33m(\u001b[0m\u001b[0me\u001b[0m\u001b[1;33m.\u001b[0m\u001b[0mcode\u001b[0m\u001b[1;33m,\u001b[0m \u001b[0mmessage\u001b[0m\u001b[1;33m)\u001b[0m\u001b[1;33m,\u001b[0m \u001b[1;32mNone\u001b[0m\u001b[1;33m)\u001b[0m\u001b[1;33m\u001b[0m\u001b[0m\n\u001b[0m\u001b[0;32m     68\u001b[0m   \u001b[1;32mexcept\u001b[0m \u001b[0mTypeError\u001b[0m \u001b[1;32mas\u001b[0m \u001b[0me\u001b[0m\u001b[1;33m:\u001b[0m\u001b[1;33m\u001b[0m\u001b[0m\n\u001b[0;32m     69\u001b[0m     keras_symbolic_tensors = [\n",
      "\u001b[1;32mC:\\Users\\julia\\tf_jupyter\\lib\\site-packages\\six.py\u001b[0m in \u001b[0;36mraise_from\u001b[1;34m(value, from_value)\u001b[0m\n",
      "\u001b[1;31mUnknownError\u001b[0m:  [_Derived_]  Fail to find the dnn implementation.\n\t [[{{node CudnnRNN}}]]\n\t [[sequential/lstm/StatefulPartitionedCall]] [Op:__inference_distributed_function_4331]\n\nFunction call stack:\ndistributed_function -> distributed_function -> distributed_function\n"
     ]
    }
   ],
   "source": [
    "early_stop = EarlyStopping(monitor='loss', mode = 'min',patience=2, verbose=1)\n",
    "\n",
    "\n",
    "hist1 = model.fit(X_train_t, y_train_v, epochs=100,\n",
    "          batch_size=1, verbose=1, callbacks=[early_stop])"
   ]
  },
  {
   "cell_type": "code",
   "execution_count": 218,
   "metadata": {},
   "outputs": [
    {
     "data": {
      "image/png": "[encoded data removed]",
      "text/plain": [
       "<Figure size 432x288 with 2 Axes>"
      ]
     },
     "metadata": {
      "needs_background": "light"
     },
     "output_type": "display_data"
    }
   ],
   "source": [
    "fig, loss_ax = plt.subplots()\n",
    "\n",
    "acc_ax = loss_ax.twinx()\n",
    "\n",
    "loss_ax.plot(hist1.history['loss'], 'y', label='train loss')\n",
    "\n",
    "acc_ax.plot(hist1.history['mae'], 'b', label='train mae')\n",
    "\n",
    "loss_ax.set_xlabel('epoch')\n",
    "loss_ax.set_ylabel('loss')\n",
    "acc_ax.set_ylabel('mae')\n",
    "\n",
    "loss_ax.legend(loc='upper left')\n",
    "acc_ax.legend(loc='lower left')\n",
    "\n",
    "plt.show()"
   ]
  },
  {
   "cell_type": "code",
   "execution_count": 219,
   "metadata": {},
   "outputs": [],
   "source": [
    "y_pred = model.predict(X_test_t)"
   ]
  },
  {
   "cell_type": "code",
   "execution_count": 220,
   "metadata": {},
   "outputs": [
    {
     "data": {
      "text/html": [
       "<div>\n",
       "<style scoped>\n",
       "    .dataframe tbody tr th:only-of-type {\n",
       "        vertical-align: middle;\n",
       "    }\n",
       "\n",
       "    .dataframe tbody tr th {\n",
       "        vertical-align: top;\n",
       "    }\n",
       "\n",
       "    .dataframe thead th {\n",
       "        text-align: right;\n",
       "    }\n",
       "</style>\n",
       "<table border=\"1\" class=\"dataframe\">\n",
       "  <thead>\n",
       "    <tr style=\"text-align: right;\">\n",
       "      <th></th>\n",
       "      <th>y_pred</th>\n",
       "      <th>y</th>\n",
       "    </tr>\n",
       "  </thead>\n",
       "  <tbody>\n",
       "    <tr>\n",
       "      <th>0</th>\n",
       "      <td>0.479246</td>\n",
       "      <td>0.608696</td>\n",
       "    </tr>\n",
       "  </tbody>\n",
       "</table>\n",
       "</div>"
      ],
      "text/plain": [
       "     y_pred         y\n",
       "0  0.479246  0.608696"
      ]
     },
     "execution_count": 220,
     "metadata": {},
     "output_type": "execute_result"
    }
   ],
   "source": [
    "pd.DataFrame({\"y_pred\":y_pred.reshape(-1), \n",
    "              \"y\":y_test_v.reshape(-1)})"
   ]
  },
  {
   "cell_type": "code",
   "execution_count": 221,
   "metadata": {},
   "outputs": [
    {
     "data": {
      "text/plain": [
       "array([[0.47924638]], dtype=float32)"
      ]
     },
     "execution_count": 221,
     "metadata": {},
     "output_type": "execute_result"
    }
   ],
   "source": [
    "y_pred"
   ]
  },
  {
   "cell_type": "code",
   "execution_count": 222,
   "metadata": {},
   "outputs": [
    {
     "data": {
      "text/plain": [
       "0.1294492742289668"
      ]
     },
     "execution_count": 222,
     "metadata": {},
     "output_type": "execute_result"
    }
   ],
   "source": [
    "rms = sqrt(mean_squared_error(y_test_v, y_pred))\n",
    "rms"
   ]
  },
  {
   "cell_type": "code",
   "execution_count": null,
   "metadata": {},
   "outputs": [],
   "source": []
  },
  {
   "cell_type": "code",
   "execution_count": null,
   "metadata": {},
   "outputs": [],
   "source": []
  },
  {
   "cell_type": "markdown",
   "metadata": {},
   "source": [
    "LG, 2016"
   ]
  },
  {
   "cell_type": "code",
   "execution_count": 220,
   "metadata": {},
   "outputs": [
    {
     "data": {
      "text/html": [
       "<div>\n",
       "<style scoped>\n",
       "    .dataframe tbody tr th:only-of-type {\n",
       "        vertical-align: middle;\n",
       "    }\n",
       "\n",
       "    .dataframe tbody tr th {\n",
       "        vertical-align: top;\n",
       "    }\n",
       "\n",
       "    .dataframe thead th {\n",
       "        text-align: right;\n",
       "    }\n",
       "</style>\n",
       "<table border=\"1\" class=\"dataframe\">\n",
       "  <thead>\n",
       "    <tr style=\"text-align: right;\">\n",
       "      <th></th>\n",
       "      <th>y_pred</th>\n",
       "      <th>y</th>\n",
       "    </tr>\n",
       "  </thead>\n",
       "  <tbody>\n",
       "    <tr>\n",
       "      <th>0</th>\n",
       "      <td>0.479246</td>\n",
       "      <td>0.608696</td>\n",
       "    </tr>\n",
       "  </tbody>\n",
       "</table>\n",
       "</div>"
      ],
      "text/plain": [
       "     y_pred         y\n",
       "0  0.479246  0.608696"
      ]
     },
     "execution_count": 220,
     "metadata": {},
     "output_type": "execute_result"
    }
   ],
   "source": [
    "pd.DataFrame({\"y_pred\":y_pred.reshape(-1), \n",
    "              \"y\":y_test_v.reshape(-1)})"
   ]
  },
  {
   "cell_type": "code",
   "execution_count": 221,
   "metadata": {},
   "outputs": [
    {
     "data": {
      "text/plain": [
       "array([[0.47924638]], dtype=float32)"
      ]
     },
     "execution_count": 221,
     "metadata": {},
     "output_type": "execute_result"
    }
   ],
   "source": [
    "y_pred"
   ]
  },
  {
   "cell_type": "code",
   "execution_count": 222,
   "metadata": {},
   "outputs": [
    {
     "data": {
      "text/plain": [
       "0.1294492742289668"
      ]
     },
     "execution_count": 222,
     "metadata": {},
     "output_type": "execute_result"
    }
   ],
   "source": [
    "rms = sqrt(mean_squared_error(y_test_v, y_pred))\n",
    "rms"
   ]
  },
  {
   "cell_type": "code",
   "execution_count": null,
   "metadata": {},
   "outputs": [],
   "source": []
  },
  {
   "cell_type": "code",
   "execution_count": null,
   "metadata": {},
   "outputs": [],
   "source": []
  },
  {
   "cell_type": "code",
   "execution_count": null,
   "metadata": {},
   "outputs": [],
   "source": []
  },
  {
   "cell_type": "markdown",
   "metadata": {},
   "source": [
    "LG, 모든시즌"
   ]
  },
  {
   "cell_type": "code",
   "execution_count": 198,
   "metadata": {},
   "outputs": [
    {
     "data": {
      "text/html": [
       "<div>\n",
       "<style scoped>\n",
       "    .dataframe tbody tr th:only-of-type {\n",
       "        vertical-align: middle;\n",
       "    }\n",
       "\n",
       "    .dataframe tbody tr th {\n",
       "        vertical-align: top;\n",
       "    }\n",
       "\n",
       "    .dataframe thead th {\n",
       "        text-align: right;\n",
       "    }\n",
       "</style>\n",
       "<table border=\"1\" class=\"dataframe\">\n",
       "  <thead>\n",
       "    <tr style=\"text-align: right;\">\n",
       "      <th></th>\n",
       "      <th>y_pred</th>\n",
       "      <th>y</th>\n",
       "    </tr>\n",
       "  </thead>\n",
       "  <tbody>\n",
       "    <tr>\n",
       "      <th>0</th>\n",
       "      <td>0.491760</td>\n",
       "      <td>0.608696</td>\n",
       "    </tr>\n",
       "    <tr>\n",
       "      <th>1</th>\n",
       "      <td>0.557402</td>\n",
       "      <td>0.434783</td>\n",
       "    </tr>\n",
       "    <tr>\n",
       "      <th>2</th>\n",
       "      <td>0.565112</td>\n",
       "      <td>0.416667</td>\n",
       "    </tr>\n",
       "    <tr>\n",
       "      <th>3</th>\n",
       "      <td>0.501496</td>\n",
       "      <td>0.541667</td>\n",
       "    </tr>\n",
       "  </tbody>\n",
       "</table>\n",
       "</div>"
      ],
      "text/plain": [
       "     y_pred         y\n",
       "0  0.491760  0.608696\n",
       "1  0.557402  0.434783\n",
       "2  0.565112  0.416667\n",
       "3  0.501496  0.541667"
      ]
     },
     "execution_count": 198,
     "metadata": {},
     "output_type": "execute_result"
    }
   ],
   "source": [
    "pd.DataFrame({\"y_pred\":y_pred.reshape(-1), \n",
    "              \"y\":y_test_v.reshape(-1)})"
   ]
  },
  {
   "cell_type": "code",
   "execution_count": 191,
   "metadata": {},
   "outputs": [
    {
     "data": {
      "text/plain": [
       "array([[0.47158092],\n",
       "       [0.5409802 ],\n",
       "       [0.53747755],\n",
       "       [0.48298073]], dtype=float32)"
      ]
     },
     "execution_count": 191,
     "metadata": {},
     "output_type": "execute_result"
    }
   ],
   "source": [
    "y_pred"
   ]
  },
  {
   "cell_type": "code",
   "execution_count": 193,
   "metadata": {},
   "outputs": [
    {
     "data": {
      "text/plain": [
       "0.1096787254758451"
      ]
     },
     "execution_count": 193,
     "metadata": {},
     "output_type": "execute_result"
    }
   ],
   "source": [
    "rms = sqrt(mean_squared_error(y_test_v, y_pred))\n",
    "rms"
   ]
  },
  {
   "cell_type": "code",
   "execution_count": null,
   "metadata": {},
   "outputs": [],
   "source": []
  },
  {
   "cell_type": "code",
   "execution_count": null,
   "metadata": {},
   "outputs": [],
   "source": []
  },
  {
   "cell_type": "code",
   "execution_count": null,
   "metadata": {},
   "outputs": [],
   "source": []
  },
  {
   "cell_type": "code",
   "execution_count": null,
   "metadata": {},
   "outputs": [],
   "source": []
  },
  {
   "cell_type": "code",
   "execution_count": null,
   "metadata": {},
   "outputs": [],
   "source": []
  },
  {
   "cell_type": "code",
   "execution_count": null,
   "metadata": {},
   "outputs": [],
   "source": []
  },
  {
   "cell_type": "code",
   "execution_count": null,
   "metadata": {},
   "outputs": [],
   "source": []
  },
  {
   "cell_type": "code",
   "execution_count": null,
   "metadata": {},
   "outputs": [],
   "source": []
  },
  {
   "cell_type": "code",
   "execution_count": 13,
   "metadata": {},
   "outputs": [],
   "source": [
    "X_train = pd.read_csv(\"model_input_data/PCT_train_X.csv\")\n",
    "y_train = pd.read_csv(\"model_input_data/PCT_test_X.csv\")\n",
    "\n",
    "X_test = pd.read_csv(\"model_input_data/PCT_train_y.csv\")\n",
    "y_test = pd.read_csv(\"model_input_data/PCT_test_y.csv\")\n",
    "\n",
    "X_train = X_train[(X_train[\"shift_YEAR\"] == 2019)&(X_train[\"LG\"] == 1)]\n",
    "X_test = X_test[(X_test[\"shift_YEAR\"] == 2019)&(X_test[\"LG\"]==1)]\n",
    "\n",
    "# X_train = X_train[(X_train[\"LG\"] == 1)]\n",
    "# X_test = X_test[(X_test[\"LG\"]==1)]\n",
    "\n",
    "\n",
    "sel_col = ['shift_H_A',\"shift_era\", \"shift_avg\",\"shift_PCT\",\"shift_SLG\"]\n",
    "\n",
    "train_index = X_train.index\n",
    "test_index = X_test.index\n",
    "\n",
    "y_train = y_train.iloc[train_index,:]\n",
    "y_test = y_test.iloc[test_index,:]\n",
    "\n",
    "# X_train = X_train[sel_col].reset_index(drop = True)\n",
    "# X_test = X_test[sel_col].reset_index(drop = True)"
   ]
  },
  {
   "cell_type": "code",
   "execution_count": null,
   "metadata": {},
   "outputs": [],
   "source": []
  },
  {
   "cell_type": "code",
   "execution_count": 14,
   "metadata": {},
   "outputs": [],
   "source": [
    "X_train_v = X_train.values\n",
    "y_train_v = y_train.values\n",
    "\n",
    "X_test_v = X_test.values\n",
    "y_test_v = y_test.values"
   ]
  },
  {
   "cell_type": "code",
   "execution_count": 15,
   "metadata": {},
   "outputs": [],
   "source": [
    "X_train_t = X_train_v.reshape(X_train_v.shape[0], X_train_v.shape[1],1)\n",
    "X_test_t = X_test_v.reshape(X_test_v.shape[0], X_train_v.shape[1],1)"
   ]
  },
  {
   "cell_type": "code",
   "execution_count": 16,
   "metadata": {},
   "outputs": [
    {
     "data": {
      "text/plain": [
       "(73, 79, 1)"
      ]
     },
     "execution_count": 16,
     "metadata": {},
     "output_type": "execute_result"
    }
   ],
   "source": [
    "X_train_t.shape"
   ]
  },
  {
   "cell_type": "code",
   "execution_count": 17,
   "metadata": {},
   "outputs": [
    {
     "data": {
      "text/plain": [
       "array([[0.00000000e+00],\n",
       "       [0.00000000e+00],\n",
       "       [0.00000000e+00],\n",
       "       [1.00000000e+00],\n",
       "       [0.00000000e+00],\n",
       "       [0.00000000e+00],\n",
       "       [0.00000000e+00],\n",
       "       [0.00000000e+00],\n",
       "       [0.00000000e+00],\n",
       "       [0.00000000e+00],\n",
       "       [3.37962500e+00],\n",
       "       [3.81583333e-01],\n",
       "       [2.01900000e+03],\n",
       "       [3.53087500e+00],\n",
       "       [2.70409301e+00],\n",
       "       [4.23875000e-01],\n",
       "       [1.64387500e+00],\n",
       "       [9.81291667e+02],\n",
       "       [2.59416667e-01],\n",
       "       [5.41666667e-01],\n",
       "       [6.04750000e-01],\n",
       "       [1.30470833e+00],\n",
       "       [8.28850000e+00],\n",
       "       [2.74673008e-01],\n",
       "       [2.59125000e-01],\n",
       "       [2.44500000e-01],\n",
       "       [2.66586248e-01],\n",
       "       [2.99666667e-01],\n",
       "       [7.18708333e-01],\n",
       "       [4.58333333e-01],\n",
       "       [3.48784725e+00],\n",
       "       [4.16666667e-01],\n",
       "       [3.49750000e-01],\n",
       "       [4.67983333e+00],\n",
       "       [2.15458333e-01],\n",
       "       [2.98125000e-01],\n",
       "       [7.18041667e-01],\n",
       "       [7.66666667e-01],\n",
       "       [3.38750000e-01],\n",
       "       [1.54458333e+00],\n",
       "       [3.37962500e+00],\n",
       "       [5.93750000e-01],\n",
       "       [7.91108333e+00],\n",
       "       [1.28554167e+00],\n",
       "       [2.47791667e-01],\n",
       "       [9.81291667e+02],\n",
       "       [3.24500000e-01],\n",
       "       [7.59833333e-01],\n",
       "       [1.75644583e+01],\n",
       "       [2.74487500e+00],\n",
       "       [2.09125000e-01],\n",
       "       [1.55320833e+00],\n",
       "       [3.40416667e-01],\n",
       "       [3.38083333e-01],\n",
       "       [5.41666667e-01],\n",
       "       [1.22166667e-01],\n",
       "       [1.11391667e+00],\n",
       "       [2.76041667e-01],\n",
       "       [1.15558333e+00],\n",
       "       [7.02079167e+00],\n",
       "       [1.29641667e+00],\n",
       "       [7.31916667e-01],\n",
       "       [2.42125000e-01],\n",
       "       [6.83533333e+00],\n",
       "       [3.77458333e-01],\n",
       "       [5.08316667e+00],\n",
       "       [2.59416667e-01],\n",
       "       [1.51170000e+01],\n",
       "       [7.64291667e-01],\n",
       "       [2.69916667e-01],\n",
       "       [5.83333333e-01],\n",
       "       [3.81375000e-01],\n",
       "       [0.00000000e+00],\n",
       "       [2.69916667e-01],\n",
       "       [3.67666667e-01],\n",
       "       [1.53958333e-01],\n",
       "       [7.60166667e-01],\n",
       "       [7.20333333e-01],\n",
       "       [7.31666667e-01]])"
      ]
     },
     "execution_count": 17,
     "metadata": {},
     "output_type": "execute_result"
    }
   ],
   "source": [
    "X_train_t[0]"
   ]
  },
  {
   "cell_type": "code",
   "execution_count": 56,
   "metadata": {},
   "outputs": [
    {
     "name": "stdout",
     "output_type": "stream",
     "text": [
      "Model: \"sequential\"\n",
      "_________________________________________________________________\n",
      "Layer (type)                 Output Shape              Param #   \n",
      "=================================================================\n",
      "lstm (LSTM)                  (None, 40)                6720      \n",
      "_________________________________________________________________\n",
      "dense (Dense)                (None, 1)                 41        \n",
      "=================================================================\n",
      "Total params: 6,761\n",
      "Trainable params: 6,761\n",
      "Non-trainable params: 0\n",
      "_________________________________________________________________\n"
     ]
    }
   ],
   "source": [
    "K.clear_session() \n",
    "\n",
    "model = Sequential()\n",
    "optimizer = RMSprop(lr=0.0001, rho=0.9, epsilon=None, decay=0.0)\n",
    "\n",
    "model.add(LSTM(40,input_shape = (X_train_v.shape[1],1))) # (timestep, feature)\n",
    "model.add(Dense(1)) # output = 1\n",
    "model.compile(loss='mean_squared_error', optimizer=optimizer,metrics=['mae'])\n",
    "\n",
    "model.summary()"
   ]
  },
  {
   "cell_type": "code",
   "execution_count": 57,
   "metadata": {
    "scrolled": true
   },
   "outputs": [
    {
     "name": "stdout",
     "output_type": "stream",
     "text": [
      "Train on 292 samples\n",
      "Epoch 1/100\n",
      "292/292 [==============================] - 5s 17ms/sample - loss: 0.0266 - mae: 0.1281\n",
      "Epoch 2/100\n",
      "292/292 [==============================] - 3s 9ms/sample - loss: 0.0146 - mae: 0.0979\n",
      "Epoch 3/100\n",
      "292/292 [==============================] - 3s 9ms/sample - loss: 0.0147 - mae: 0.0970\n",
      "Epoch 4/100\n",
      "292/292 [==============================] - 3s 9ms/sample - loss: 0.0146 - mae: 0.0963\n",
      "Epoch 5/100\n",
      "292/292 [==============================] - 3s 9ms/sample - loss: 0.0145 - mae: 0.0966\n",
      "Epoch 6/100\n",
      "292/292 [==============================] - 3s 9ms/sample - loss: 0.0145 - mae: 0.0962\n",
      "Epoch 7/100\n",
      "292/292 [==============================] - 3s 9ms/sample - loss: 0.0143 - mae: 0.0963\n",
      "Epoch 8/100\n",
      "292/292 [==============================] - 3s 10ms/sample - loss: 0.0142 - mae: 0.0960\n",
      "Epoch 9/100\n",
      "292/292 [==============================] - 3s 9ms/sample - loss: 0.0145 - mae: 0.0958\n",
      "Epoch 10/100\n",
      "292/292 [==============================] - 3s 10ms/sample - loss: 0.0142 - mae: 0.0959\n",
      "Epoch 11/100\n",
      "292/292 [==============================] - 3s 11ms/sample - loss: 0.0142 - mae: 0.0950\n",
      "Epoch 12/100\n",
      "292/292 [==============================] - 3s 12ms/sample - loss: 0.0140 - mae: 0.09480s - loss: 0.0140 - mae: 0.09 - ETA: 0s - loss: 0.013\n",
      "Epoch 13/100\n",
      "292/292 [==============================] - 3s 10ms/sample - loss: 0.0142 - mae: 0.0958\n",
      "Epoch 14/100\n",
      "292/292 [==============================] - 3s 12ms/sample - loss: 0.0142 - mae: 0.09560s - loss: 0.0131 - mae: 0.0 - ETA: 0s - loss: 0\n",
      "Epoch 00014: early stopping\n"
     ]
    }
   ],
   "source": [
    "early_stop = EarlyStopping(monitor='loss', mode = 'min',patience=2, verbose=1)\n",
    "\n",
    "\n",
    "hist1 = model.fit(X_train_t, y_train_v, epochs=100,\n",
    "          batch_size=1, verbose=1, callbacks=[early_stop])"
   ]
  },
  {
   "cell_type": "code",
   "execution_count": 58,
   "metadata": {},
   "outputs": [
    {
     "data": {
      "image/png": "[encoded data removed]",
      "text/plain": [
       "<Figure size 432x288 with 2 Axes>"
      ]
     },
     "metadata": {
      "needs_background": "light"
     },
     "output_type": "display_data"
    }
   ],
   "source": [
    "fig, loss_ax = plt.subplots()\n",
    "\n",
    "acc_ax = loss_ax.twinx()\n",
    "\n",
    "loss_ax.plot(hist1.history['loss'], 'y', label='train loss')\n",
    "\n",
    "acc_ax.plot(hist1.history['mae'], 'b', label='train mae')\n",
    "\n",
    "loss_ax.set_xlabel('epoch')\n",
    "loss_ax.set_ylabel('loss')\n",
    "acc_ax.set_ylabel('mae')\n",
    "\n",
    "loss_ax.legend(loc='upper left')\n",
    "acc_ax.legend(loc='lower left')\n",
    "\n",
    "plt.show()"
   ]
  },
  {
   "cell_type": "code",
   "execution_count": 59,
   "metadata": {},
   "outputs": [],
   "source": [
    "y_pred = model.predict(X_test_t)"
   ]
  },
  {
   "cell_type": "code",
   "execution_count": 60,
   "metadata": {},
   "outputs": [
    {
     "data": {
      "text/html": [
       "<div>\n",
       "<style scoped>\n",
       "    .dataframe tbody tr th:only-of-type {\n",
       "        vertical-align: middle;\n",
       "    }\n",
       "\n",
       "    .dataframe tbody tr th {\n",
       "        vertical-align: top;\n",
       "    }\n",
       "\n",
       "    .dataframe thead th {\n",
       "        text-align: right;\n",
       "    }\n",
       "</style>\n",
       "<table border=\"1\" class=\"dataframe\">\n",
       "  <thead>\n",
       "    <tr style=\"text-align: right;\">\n",
       "      <th></th>\n",
       "      <th>y_pred</th>\n",
       "      <th>y</th>\n",
       "    </tr>\n",
       "  </thead>\n",
       "  <tbody>\n",
       "    <tr>\n",
       "      <th>0</th>\n",
       "      <td>0.516332</td>\n",
       "      <td>0.608696</td>\n",
       "    </tr>\n",
       "    <tr>\n",
       "      <th>1</th>\n",
       "      <td>0.487553</td>\n",
       "      <td>0.434783</td>\n",
       "    </tr>\n",
       "    <tr>\n",
       "      <th>2</th>\n",
       "      <td>0.524546</td>\n",
       "      <td>0.416667</td>\n",
       "    </tr>\n",
       "    <tr>\n",
       "      <th>3</th>\n",
       "      <td>0.516562</td>\n",
       "      <td>0.541667</td>\n",
       "    </tr>\n",
       "    <tr>\n",
       "      <th>4</th>\n",
       "      <td>0.494340</td>\n",
       "      <td>0.391304</td>\n",
       "    </tr>\n",
       "  </tbody>\n",
       "</table>\n",
       "</div>"
      ],
      "text/plain": [
       "     y_pred         y\n",
       "0  0.516332  0.608696\n",
       "1  0.487553  0.434783\n",
       "2  0.524546  0.416667\n",
       "3  0.516562  0.541667\n",
       "4  0.494340  0.391304"
      ]
     },
     "execution_count": 60,
     "metadata": {},
     "output_type": "execute_result"
    }
   ],
   "source": [
    "pd.DataFrame({\"y_pred\":y_pred.reshape(-1), \n",
    "              \"y\":y_test_v.reshape(-1)})"
   ]
  },
  {
   "cell_type": "code",
   "execution_count": 61,
   "metadata": {},
   "outputs": [
    {
     "data": {
      "text/plain": [
       "array([[0.60869565],\n",
       "       [0.43478261],\n",
       "       [0.41666667],\n",
       "       [0.54166667],\n",
       "       [0.39130435]])"
      ]
     },
     "execution_count": 61,
     "metadata": {},
     "output_type": "execute_result"
    }
   ],
   "source": [
    "y_test_v"
   ]
  },
  {
   "cell_type": "code",
   "execution_count": 62,
   "metadata": {},
   "outputs": [
    {
     "data": {
      "text/plain": [
       "0.08270456663119312"
      ]
     },
     "execution_count": 62,
     "metadata": {},
     "output_type": "execute_result"
    }
   ],
   "source": [
    "rms = sqrt(mean_squared_error(y_test_v, y_pred.astype(np.float64).reshape(5,1)))\n",
    "rms"
   ]
  },
  {
   "cell_type": "code",
   "execution_count": null,
   "metadata": {},
   "outputs": [],
   "source": []
  }
 ],
 "metadata": {
  "kernelspec": {
   "display_name": "python36_tf20",
   "language": "python",
   "name": "tf_jupyter"
  },
  "language_info": {
   "codemirror_mode": {
    "name": "ipython",
    "version": 3
   },
   "file_extension": ".py",
   "mimetype": "text/x-python",
   "name": "python",
   "nbconvert_exporter": "python",
   "pygments_lexer": "ipython3",
   "version": "3.6.4"
  }
 },
 "nbformat": 4,
 "nbformat_minor": 2
}
