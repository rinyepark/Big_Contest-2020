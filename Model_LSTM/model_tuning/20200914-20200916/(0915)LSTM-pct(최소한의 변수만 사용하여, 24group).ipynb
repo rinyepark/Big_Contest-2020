{
 "cells": [
  {
   "cell_type": "code",
   "execution_count": 1,
   "metadata": {},
   "outputs": [
    {
     "name": "stderr",
     "output_type": "stream",
     "text": [
      "C:\\Users\\julia\\tf_jupyter\\lib\\site-packages\\numpy\\_distributor_init.py:32: UserWarning: loaded more than 1 DLL from .libs:\n",
      "C:\\Users\\julia\\tf_jupyter\\lib\\site-packages\\numpy\\.libs\\libopenblas.NOIJJG62EMASZI6NYURL6JBKM4EVBGM7.gfortran-win_amd64.dll\n",
      "C:\\Users\\julia\\tf_jupyter\\lib\\site-packages\\numpy\\.libs\\libopenblas.PYQHXLVVQ7VESDPUVUADXEVJOBGHJPAY.gfortran-win_amd64.dll\n",
      "  stacklevel=1)\n"
     ]
    }
   ],
   "source": [
    "import tensorflow as tf\n",
    "import numpy as np\n",
    "\n",
    "from tensorflow import keras\n",
    "from tensorflow.keras.utils import to_categorical\n",
    "\n",
    "from tensorflow.keras.models import Sequential\n",
    "# from tensorflow.keras.utils import np_utils\n",
    "from tensorflow.keras.layers import Dense, LSTM, Dropout\n",
    "import tensorflow.keras.backend as K \n",
    "\n",
    "from tensorflow.keras.optimizers import RMSprop\n",
    "from tensorflow.keras.callbacks import EarlyStopping\n",
    "\n",
    "from sklearn.metrics import accuracy_score\n",
    "from sklearn.metrics import mean_squared_error\n",
    "from sklearn.preprocessing import MinMaxScaler\n",
    "\n",
    "\n",
    "import pandas as pd\n",
    "\n",
    "import matplotlib.pyplot as plt\n",
    "# import seaborn as sns\n",
    "# import plotly.express as px\n",
    "# import plotly.graph_objects as go\n",
    "\n",
    "from math import sqrt"
   ]
  },
  {
   "cell_type": "code",
   "execution_count": 2,
   "metadata": {},
   "outputs": [],
   "source": [
    "X_train = pd.read_csv(\"model_input_data/PCT_train_X.csv\")\n",
    "y_train = pd.read_csv(\"model_input_data/PCT_test_X.csv\")\n",
    "\n",
    "X_test = pd.read_csv(\"model_input_data/PCT_train_y.csv\")\n",
    "y_test = pd.read_csv(\"model_input_data/PCT_test_y.csv\")\n",
    "\n",
    "# X_train = X_train[(X_train[\"shift_YEAR\"] == 2019)&(X_train[\"LG\"] == 1)]\n",
    "# X_test = X_test[(X_test[\"shift_YEAR\"] == 2019)&(X_test[\"LG\"]==1)]\n",
    "\n",
    "X_train = X_train[(X_train[\"LG\"] == 1)]\n",
    "X_test = X_test[(X_test[\"LG\"]==1)]\n",
    "\n",
    "\n",
    "sel_col = ['shift_H_A',\"shift_era\", \"shift_avg\",\"shift_PCT\",\"shift_SLG\"]\n",
    "\n",
    "train_index = X_train.index\n",
    "test_index = X_test.index\n",
    "\n",
    "y_train = y_train.iloc[train_index,:]\n",
    "y_test = y_test.iloc[test_index,:]\n",
    "\n",
    "X_train = X_train[sel_col].reset_index(drop = True)\n",
    "X_test = X_test[sel_col].reset_index(drop = True)"
   ]
  },
  {
   "cell_type": "code",
   "execution_count": 46,
   "metadata": {},
   "outputs": [],
   "source": [
    "X_train_v = X_train.values\n",
    "y_train_v = y_train.values\n",
    "\n",
    "X_test_v = X_test.values\n",
    "y_test_v = y_test.values"
   ]
  },
  {
   "cell_type": "code",
   "execution_count": 47,
   "metadata": {},
   "outputs": [],
   "source": [
    "X_train_t = X_train_v.reshape(X_train_v.shape[0], X_train_v.shape[1],1)\n",
    "X_test_t = X_test_v.reshape(X_test_v.shape[0], X_train_v.shape[1],1)"
   ]
  },
  {
   "cell_type": "code",
   "execution_count": 48,
   "metadata": {},
   "outputs": [
    {
     "data": {
      "text/plain": [
       "(292, 5, 1)"
      ]
     },
     "execution_count": 48,
     "metadata": {},
     "output_type": "execute_result"
    }
   ],
   "source": [
    "X_train_t.shape"
   ]
  },
  {
   "cell_type": "code",
   "execution_count": 49,
   "metadata": {},
   "outputs": [
    {
     "data": {
      "text/plain": [
       "array([[0.5       ],\n",
       "       [5.35845329],\n",
       "       [0.25331725],\n",
       "       [0.5       ],\n",
       "       [0.37416667]])"
      ]
     },
     "execution_count": 49,
     "metadata": {},
     "output_type": "execute_result"
    }
   ],
   "source": [
    "X_train_t[0]"
   ]
  },
  {
   "cell_type": "code",
   "execution_count": 56,
   "metadata": {},
   "outputs": [
    {
     "name": "stdout",
     "output_type": "stream",
     "text": [
      "Model: \"sequential\"\n",
      "_________________________________________________________________\n",
      "Layer (type)                 Output Shape              Param #   \n",
      "=================================================================\n",
      "lstm (LSTM)                  (None, 40)                6720      \n",
      "_________________________________________________________________\n",
      "dense (Dense)                (None, 1)                 41        \n",
      "=================================================================\n",
      "Total params: 6,761\n",
      "Trainable params: 6,761\n",
      "Non-trainable params: 0\n",
      "_________________________________________________________________\n"
     ]
    }
   ],
   "source": [
    "K.clear_session() \n",
    "\n",
    "model = Sequential()\n",
    "optimizer = RMSprop(lr=0.0001, rho=0.9, epsilon=None, decay=0.0)\n",
    "\n",
    "model.add(LSTM(40,input_shape = (X_train_v.shape[1],1))) # (timestep, feature)\n",
    "model.add(Dense(1)) # output = 1\n",
    "model.compile(loss='mean_squared_error', optimizer=optimizer,metrics=['mae'])\n",
    "\n",
    "model.summary()"
   ]
  },
  {
   "cell_type": "code",
   "execution_count": 57,
   "metadata": {
    "scrolled": true
   },
   "outputs": [
    {
     "name": "stdout",
     "output_type": "stream",
     "text": [
      "Train on 292 samples\n",
      "Epoch 1/100\n",
      "292/292 [==============================] - 5s 17ms/sample - loss: 0.0266 - mae: 0.1281\n",
      "Epoch 2/100\n",
      "292/292 [==============================] - 3s 9ms/sample - loss: 0.0146 - mae: 0.0979\n",
      "Epoch 3/100\n",
      "292/292 [==============================] - 3s 9ms/sample - loss: 0.0147 - mae: 0.0970\n",
      "Epoch 4/100\n",
      "292/292 [==============================] - 3s 9ms/sample - loss: 0.0146 - mae: 0.0963\n",
      "Epoch 5/100\n",
      "292/292 [==============================] - 3s 9ms/sample - loss: 0.0145 - mae: 0.0966\n",
      "Epoch 6/100\n",
      "292/292 [==============================] - 3s 9ms/sample - loss: 0.0145 - mae: 0.0962\n",
      "Epoch 7/100\n",
      "292/292 [==============================] - 3s 9ms/sample - loss: 0.0143 - mae: 0.0963\n",
      "Epoch 8/100\n",
      "292/292 [==============================] - 3s 10ms/sample - loss: 0.0142 - mae: 0.0960\n",
      "Epoch 9/100\n",
      "292/292 [==============================] - 3s 9ms/sample - loss: 0.0145 - mae: 0.0958\n",
      "Epoch 10/100\n",
      "292/292 [==============================] - 3s 10ms/sample - loss: 0.0142 - mae: 0.0959\n",
      "Epoch 11/100\n",
      "292/292 [==============================] - 3s 11ms/sample - loss: 0.0142 - mae: 0.0950\n",
      "Epoch 12/100\n",
      "292/292 [==============================] - 3s 12ms/sample - loss: 0.0140 - mae: 0.09480s - loss: 0.0140 - mae: 0.09 - ETA: 0s - loss: 0.013\n",
      "Epoch 13/100\n",
      "292/292 [==============================] - 3s 10ms/sample - loss: 0.0142 - mae: 0.0958\n",
      "Epoch 14/100\n",
      "292/292 [==============================] - 3s 12ms/sample - loss: 0.0142 - mae: 0.09560s - loss: 0.0131 - mae: 0.0 - ETA: 0s - loss: 0\n",
      "Epoch 00014: early stopping\n"
     ]
    }
   ],
   "source": [
    "early_stop = EarlyStopping(monitor='loss', mode = 'min',patience=2, verbose=1)\n",
    "\n",
    "\n",
    "hist1 = model.fit(X_train_t, y_train_v, epochs=100,\n",
    "          batch_size=1, verbose=1, callbacks=[early_stop])"
   ]
  },
  {
   "cell_type": "code",
   "execution_count": 58,
   "metadata": {},
   "outputs": [
    {
     "data": {
      "image/png": "[encoded data removed]",
      "text/plain": [
       "<Figure size 432x288 with 2 Axes>"
      ]
     },
     "metadata": {
      "needs_background": "light"
     },
     "output_type": "display_data"
    }
   ],
   "source": [
    "fig, loss_ax = plt.subplots()\n",
    "\n",
    "acc_ax = loss_ax.twinx()\n",
    "\n",
    "loss_ax.plot(hist1.history['loss'], 'y', label='train loss')\n",
    "\n",
    "acc_ax.plot(hist1.history['mae'], 'b', label='train mae')\n",
    "\n",
    "loss_ax.set_xlabel('epoch')\n",
    "loss_ax.set_ylabel('loss')\n",
    "acc_ax.set_ylabel('mae')\n",
    "\n",
    "loss_ax.legend(loc='upper left')\n",
    "acc_ax.legend(loc='lower left')\n",
    "\n",
    "plt.show()"
   ]
  },
  {
   "cell_type": "code",
   "execution_count": 59,
   "metadata": {},
   "outputs": [],
   "source": [
    "y_pred = model.predict(X_test_t)"
   ]
  },
  {
   "cell_type": "code",
   "execution_count": 60,
   "metadata": {},
   "outputs": [
    {
     "data": {
      "text/html": [
       "<div>\n",
       "<style scoped>\n",
       "    .dataframe tbody tr th:only-of-type {\n",
       "        vertical-align: middle;\n",
       "    }\n",
       "\n",
       "    .dataframe tbody tr th {\n",
       "        vertical-align: top;\n",
       "    }\n",
       "\n",
       "    .dataframe thead th {\n",
       "        text-align: right;\n",
       "    }\n",
       "</style>\n",
       "<table border=\"1\" class=\"dataframe\">\n",
       "  <thead>\n",
       "    <tr style=\"text-align: right;\">\n",
       "      <th></th>\n",
       "      <th>y_pred</th>\n",
       "      <th>y</th>\n",
       "    </tr>\n",
       "  </thead>\n",
       "  <tbody>\n",
       "    <tr>\n",
       "      <th>0</th>\n",
       "      <td>0.516332</td>\n",
       "      <td>0.608696</td>\n",
       "    </tr>\n",
       "    <tr>\n",
       "      <th>1</th>\n",
       "      <td>0.487553</td>\n",
       "      <td>0.434783</td>\n",
       "    </tr>\n",
       "    <tr>\n",
       "      <th>2</th>\n",
       "      <td>0.524546</td>\n",
       "      <td>0.416667</td>\n",
       "    </tr>\n",
       "    <tr>\n",
       "      <th>3</th>\n",
       "      <td>0.516562</td>\n",
       "      <td>0.541667</td>\n",
       "    </tr>\n",
       "    <tr>\n",
       "      <th>4</th>\n",
       "      <td>0.494340</td>\n",
       "      <td>0.391304</td>\n",
       "    </tr>\n",
       "  </tbody>\n",
       "</table>\n",
       "</div>"
      ],
      "text/plain": [
       "     y_pred         y\n",
       "0  0.516332  0.608696\n",
       "1  0.487553  0.434783\n",
       "2  0.524546  0.416667\n",
       "3  0.516562  0.541667\n",
       "4  0.494340  0.391304"
      ]
     },
     "execution_count": 60,
     "metadata": {},
     "output_type": "execute_result"
    }
   ],
   "source": [
    "pd.DataFrame({\"y_pred\":y_pred.reshape(-1), \n",
    "              \"y\":y_test_v.reshape(-1)})"
   ]
  },
  {
   "cell_type": "code",
   "execution_count": 61,
   "metadata": {},
   "outputs": [
    {
     "data": {
      "text/plain": [
       "array([[0.60869565],\n",
       "       [0.43478261],\n",
       "       [0.41666667],\n",
       "       [0.54166667],\n",
       "       [0.39130435]])"
      ]
     },
     "execution_count": 61,
     "metadata": {},
     "output_type": "execute_result"
    }
   ],
   "source": [
    "y_test_v"
   ]
  },
  {
   "cell_type": "code",
   "execution_count": 62,
   "metadata": {},
   "outputs": [
    {
     "data": {
      "text/plain": [
       "0.08270456663119312"
      ]
     },
     "execution_count": 62,
     "metadata": {},
     "output_type": "execute_result"
    }
   ],
   "source": [
    "rms = sqrt(mean_squared_error(y_test_v, y_pred.astype(np.float64).reshape(5,1)))\n",
    "rms"
   ]
  },
  {
   "cell_type": "code",
   "execution_count": null,
   "metadata": {},
   "outputs": [],
   "source": []
  }
 ],
 "metadata": {
  "kernelspec": {
   "display_name": "python36_tf20",
   "language": "python",
   "name": "tf_jupyter"
  },
  "language_info": {
   "codemirror_mode": {
    "name": "ipython",
    "version": 3
   },
   "file_extension": ".py",
   "mimetype": "text/x-python",
   "name": "python",
   "nbconvert_exporter": "python",
   "pygments_lexer": "ipython3",
   "version": "3.6.4"
  }
 },
 "nbformat": 4,
 "nbformat_minor": 2
}
