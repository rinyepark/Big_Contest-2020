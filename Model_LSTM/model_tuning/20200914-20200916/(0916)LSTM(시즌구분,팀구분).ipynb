{
 "cells": [
  {
   "cell_type": "markdown",
   "metadata": {},
   "source": [
    "### Import python library"
   ]
  },
  {
   "cell_type": "code",
   "execution_count": 1,
   "metadata": {},
   "outputs": [],
   "source": [
    "import tensorflow as tf\n",
    "import numpy as np\n",
    "\n",
    "from tensorflow import keras\n",
    "from tensorflow.keras.utils import to_categorical\n",
    "\n",
    "from tensorflow.keras.models import Sequential\n",
    "# from tensorflow.keras.utils import np_utils\n",
    "from tensorflow.keras.layers import Dense, LSTM, Dropout\n",
    "import tensorflow.keras.backend as K \n",
    "\n",
    "from tensorflow.keras.optimizers import RMSprop\n",
    "from tensorflow.keras.callbacks import EarlyStopping\n",
    "\n",
    "from sklearn.metrics import accuracy_score\n",
    "from sklearn.metrics import mean_squared_error\n",
    "from sklearn.preprocessing import MinMaxScaler\n",
    "\n",
    "\n",
    "import pandas as pd\n",
    "\n",
    "import matplotlib.pyplot as plt\n",
    "# import seaborn as sns\n",
    "# import plotly.express as px\n",
    "# import plotly.graph_objects as go\n",
    "\n",
    "from math import sqrt"
   ]
  },
  {
   "cell_type": "markdown",
   "metadata": {},
   "source": [
    "### 1. Read data: augment_24group_1620.csv필요"
   ]
  },
  {
   "cell_type": "code",
   "execution_count": 2,
   "metadata": {},
   "outputs": [],
   "source": [
    "data = pd.read_csv(\"model_input_data/augment_24group_1620.csv\")"
   ]
  },
  {
   "cell_type": "markdown",
   "metadata": {},
   "source": [
    "#### 1) 변수 설정"
   ]
  },
  {
   "cell_type": "code",
   "execution_count": 301,
   "metadata": {},
   "outputs": [],
   "source": [
    "team_val = 'HH'\n",
    "year_val = 2019"
   ]
  },
  {
   "cell_type": "markdown",
   "metadata": {},
   "source": [
    "#### 2) Train 전처리"
   ]
  },
  {
   "cell_type": "code",
   "execution_count": 302,
   "metadata": {},
   "outputs": [],
   "source": [
    "tmp = data.copy()\n",
    "\n",
    "\n",
    "tmp = tmp[tmp[\"YEAR\"]!=2020]\n",
    "tmp.head(50)\n",
    "\n",
    "train = tmp[tmp[\"IDX\"]!=777]\n",
    "test = tmp[tmp[\"IDX\"]==777]"
   ]
  },
  {
   "cell_type": "code",
   "execution_count": 303,
   "metadata": {},
   "outputs": [
    {
     "data": {
      "text/html": [
       "<div>\n",
       "<style scoped>\n",
       "    .dataframe tbody tr th:only-of-type {\n",
       "        vertical-align: middle;\n",
       "    }\n",
       "\n",
       "    .dataframe tbody tr th {\n",
       "        vertical-align: top;\n",
       "    }\n",
       "\n",
       "    .dataframe thead th {\n",
       "        text-align: right;\n",
       "    }\n",
       "</style>\n",
       "<table border=\"1\" class=\"dataframe\">\n",
       "  <thead>\n",
       "    <tr style=\"text-align: right;\">\n",
       "      <th></th>\n",
       "      <th>T_ID</th>\n",
       "      <th>YEAR</th>\n",
       "      <th>PCT</th>\n",
       "      <th>IDX</th>\n",
       "      <th>MERGE_IDX</th>\n",
       "      <th>HEADER_NO</th>\n",
       "      <th>era</th>\n",
       "      <th>avg</th>\n",
       "      <th>vs_era</th>\n",
       "      <th>vs_avg</th>\n",
       "      <th>...</th>\n",
       "      <th>K_9</th>\n",
       "      <th>vs_ERA</th>\n",
       "      <th>H_A</th>\n",
       "      <th>vs_K_9</th>\n",
       "      <th>vs_FIP</th>\n",
       "      <th>H_9</th>\n",
       "      <th>oSLG</th>\n",
       "      <th>vs_OPS</th>\n",
       "      <th>vs_WHIP</th>\n",
       "      <th>P2_WHIP_RT</th>\n",
       "    </tr>\n",
       "  </thead>\n",
       "  <tbody>\n",
       "    <tr>\n",
       "      <th>3039</th>\n",
       "      <td>HH</td>\n",
       "      <td>2019</td>\n",
       "      <td>0.458333</td>\n",
       "      <td>1</td>\n",
       "      <td>1</td>\n",
       "      <td>0</td>\n",
       "      <td>4.391304</td>\n",
       "      <td>0.269185</td>\n",
       "      <td>4.854874</td>\n",
       "      <td>0.302353</td>\n",
       "      <td>...</td>\n",
       "      <td>7.483792</td>\n",
       "      <td>5.058417</td>\n",
       "      <td>0.416667</td>\n",
       "      <td>8.344375</td>\n",
       "      <td>20.770625</td>\n",
       "      <td>9.449417</td>\n",
       "      <td>0.408542</td>\n",
       "      <td>0.818167</td>\n",
       "      <td>1.577875</td>\n",
       "      <td>2.489167</td>\n",
       "    </tr>\n",
       "    <tr>\n",
       "      <th>3040</th>\n",
       "      <td>HH</td>\n",
       "      <td>2019</td>\n",
       "      <td>0.458333</td>\n",
       "      <td>2</td>\n",
       "      <td>2</td>\n",
       "      <td>0</td>\n",
       "      <td>5.717147</td>\n",
       "      <td>0.240099</td>\n",
       "      <td>3.641860</td>\n",
       "      <td>0.254438</td>\n",
       "      <td>...</td>\n",
       "      <td>6.991792</td>\n",
       "      <td>3.751667</td>\n",
       "      <td>0.583333</td>\n",
       "      <td>7.988792</td>\n",
       "      <td>21.016500</td>\n",
       "      <td>11.336917</td>\n",
       "      <td>0.433958</td>\n",
       "      <td>0.683792</td>\n",
       "      <td>1.208583</td>\n",
       "      <td>1.532792</td>\n",
       "    </tr>\n",
       "    <tr>\n",
       "      <th>3041</th>\n",
       "      <td>HH</td>\n",
       "      <td>2019</td>\n",
       "      <td>0.291667</td>\n",
       "      <td>3</td>\n",
       "      <td>3</td>\n",
       "      <td>0</td>\n",
       "      <td>4.020370</td>\n",
       "      <td>0.291925</td>\n",
       "      <td>2.972477</td>\n",
       "      <td>0.244946</td>\n",
       "      <td>...</td>\n",
       "      <td>6.268333</td>\n",
       "      <td>2.992875</td>\n",
       "      <td>0.458333</td>\n",
       "      <td>7.756083</td>\n",
       "      <td>14.026458</td>\n",
       "      <td>9.253125</td>\n",
       "      <td>0.370333</td>\n",
       "      <td>0.633125</td>\n",
       "      <td>1.254250</td>\n",
       "      <td>1.697000</td>\n",
       "    </tr>\n",
       "    <tr>\n",
       "      <th>3042</th>\n",
       "      <td>HH</td>\n",
       "      <td>2019</td>\n",
       "      <td>0.250000</td>\n",
       "      <td>4</td>\n",
       "      <td>4</td>\n",
       "      <td>0</td>\n",
       "      <td>6.014218</td>\n",
       "      <td>0.260763</td>\n",
       "      <td>3.993843</td>\n",
       "      <td>0.285887</td>\n",
       "      <td>...</td>\n",
       "      <td>6.495833</td>\n",
       "      <td>4.009958</td>\n",
       "      <td>0.583333</td>\n",
       "      <td>7.900292</td>\n",
       "      <td>17.744333</td>\n",
       "      <td>10.704833</td>\n",
       "      <td>0.446208</td>\n",
       "      <td>0.797583</td>\n",
       "      <td>1.318708</td>\n",
       "      <td>2.585917</td>\n",
       "    </tr>\n",
       "    <tr>\n",
       "      <th>3043</th>\n",
       "      <td>HH</td>\n",
       "      <td>2019</td>\n",
       "      <td>0.375000</td>\n",
       "      <td>5</td>\n",
       "      <td>5</td>\n",
       "      <td>0</td>\n",
       "      <td>5.652174</td>\n",
       "      <td>0.286219</td>\n",
       "      <td>3.490654</td>\n",
       "      <td>0.281553</td>\n",
       "      <td>...</td>\n",
       "      <td>5.468750</td>\n",
       "      <td>3.536458</td>\n",
       "      <td>0.333333</td>\n",
       "      <td>6.218750</td>\n",
       "      <td>12.201417</td>\n",
       "      <td>11.375000</td>\n",
       "      <td>0.432292</td>\n",
       "      <td>0.718958</td>\n",
       "      <td>1.237167</td>\n",
       "      <td>2.150208</td>\n",
       "    </tr>\n",
       "    <tr>\n",
       "      <th>...</th>\n",
       "      <td>...</td>\n",
       "      <td>...</td>\n",
       "      <td>...</td>\n",
       "      <td>...</td>\n",
       "      <td>...</td>\n",
       "      <td>...</td>\n",
       "      <td>...</td>\n",
       "      <td>...</td>\n",
       "      <td>...</td>\n",
       "      <td>...</td>\n",
       "      <td>...</td>\n",
       "      <td>...</td>\n",
       "      <td>...</td>\n",
       "      <td>...</td>\n",
       "      <td>...</td>\n",
       "      <td>...</td>\n",
       "      <td>...</td>\n",
       "      <td>...</td>\n",
       "      <td>...</td>\n",
       "      <td>...</td>\n",
       "      <td>...</td>\n",
       "    </tr>\n",
       "    <tr>\n",
       "      <th>3131</th>\n",
       "      <td>HH</td>\n",
       "      <td>2019</td>\n",
       "      <td>0.375000</td>\n",
       "      <td>4</td>\n",
       "      <td>93</td>\n",
       "      <td>0</td>\n",
       "      <td>5.619512</td>\n",
       "      <td>0.276394</td>\n",
       "      <td>3.911215</td>\n",
       "      <td>0.279126</td>\n",
       "      <td>...</td>\n",
       "      <td>5.697917</td>\n",
       "      <td>3.953125</td>\n",
       "      <td>0.250000</td>\n",
       "      <td>6.218750</td>\n",
       "      <td>14.159750</td>\n",
       "      <td>11.338542</td>\n",
       "      <td>0.437583</td>\n",
       "      <td>0.712583</td>\n",
       "      <td>1.329792</td>\n",
       "      <td>2.170583</td>\n",
       "    </tr>\n",
       "    <tr>\n",
       "      <th>3132</th>\n",
       "      <td>HH</td>\n",
       "      <td>2019</td>\n",
       "      <td>0.500000</td>\n",
       "      <td>1</td>\n",
       "      <td>94</td>\n",
       "      <td>0</td>\n",
       "      <td>5.704225</td>\n",
       "      <td>0.245658</td>\n",
       "      <td>3.924171</td>\n",
       "      <td>0.260766</td>\n",
       "      <td>...</td>\n",
       "      <td>6.939417</td>\n",
       "      <td>4.064167</td>\n",
       "      <td>0.625000</td>\n",
       "      <td>7.988792</td>\n",
       "      <td>20.224833</td>\n",
       "      <td>11.419042</td>\n",
       "      <td>0.435042</td>\n",
       "      <td>0.698792</td>\n",
       "      <td>1.224208</td>\n",
       "      <td>1.731333</td>\n",
       "    </tr>\n",
       "    <tr>\n",
       "      <th>3133</th>\n",
       "      <td>HH</td>\n",
       "      <td>2019</td>\n",
       "      <td>0.291667</td>\n",
       "      <td>2</td>\n",
       "      <td>95</td>\n",
       "      <td>0</td>\n",
       "      <td>3.947111</td>\n",
       "      <td>0.294410</td>\n",
       "      <td>2.945455</td>\n",
       "      <td>0.248541</td>\n",
       "      <td>...</td>\n",
       "      <td>6.429042</td>\n",
       "      <td>2.961625</td>\n",
       "      <td>0.416667</td>\n",
       "      <td>7.512333</td>\n",
       "      <td>14.997292</td>\n",
       "      <td>9.371000</td>\n",
       "      <td>0.367125</td>\n",
       "      <td>0.644917</td>\n",
       "      <td>1.258417</td>\n",
       "      <td>1.721667</td>\n",
       "    </tr>\n",
       "    <tr>\n",
       "      <th>3134</th>\n",
       "      <td>HH</td>\n",
       "      <td>2019</td>\n",
       "      <td>0.250000</td>\n",
       "      <td>3</td>\n",
       "      <td>96</td>\n",
       "      <td>0</td>\n",
       "      <td>5.957746</td>\n",
       "      <td>0.261294</td>\n",
       "      <td>4.016877</td>\n",
       "      <td>0.281022</td>\n",
       "      <td>...</td>\n",
       "      <td>6.392708</td>\n",
       "      <td>4.030792</td>\n",
       "      <td>0.625000</td>\n",
       "      <td>8.050292</td>\n",
       "      <td>18.127667</td>\n",
       "      <td>10.489208</td>\n",
       "      <td>0.437208</td>\n",
       "      <td>0.788167</td>\n",
       "      <td>1.312208</td>\n",
       "      <td>2.565083</td>\n",
       "    </tr>\n",
       "    <tr>\n",
       "      <th>3135</th>\n",
       "      <td>HH</td>\n",
       "      <td>2019</td>\n",
       "      <td>0.375000</td>\n",
       "      <td>4</td>\n",
       "      <td>97</td>\n",
       "      <td>0</td>\n",
       "      <td>5.330097</td>\n",
       "      <td>0.278766</td>\n",
       "      <td>3.658879</td>\n",
       "      <td>0.276284</td>\n",
       "      <td>...</td>\n",
       "      <td>5.755208</td>\n",
       "      <td>3.703125</td>\n",
       "      <td>0.291667</td>\n",
       "      <td>6.260417</td>\n",
       "      <td>12.442167</td>\n",
       "      <td>11.182292</td>\n",
       "      <td>0.426875</td>\n",
       "      <td>0.696667</td>\n",
       "      <td>1.264958</td>\n",
       "      <td>2.090708</td>\n",
       "    </tr>\n",
       "  </tbody>\n",
       "</table>\n",
       "<p>97 rows × 72 columns</p>\n",
       "</div>"
      ],
      "text/plain": [
       "     T_ID  YEAR       PCT  IDX  MERGE_IDX  HEADER_NO       era       avg  \\\n",
       "3039   HH  2019  0.458333    1          1          0  4.391304  0.269185   \n",
       "3040   HH  2019  0.458333    2          2          0  5.717147  0.240099   \n",
       "3041   HH  2019  0.291667    3          3          0  4.020370  0.291925   \n",
       "3042   HH  2019  0.250000    4          4          0  6.014218  0.260763   \n",
       "3043   HH  2019  0.375000    5          5          0  5.652174  0.286219   \n",
       "...   ...   ...       ...  ...        ...        ...       ...       ...   \n",
       "3131   HH  2019  0.375000    4         93          0  5.619512  0.276394   \n",
       "3132   HH  2019  0.500000    1         94          0  5.704225  0.245658   \n",
       "3133   HH  2019  0.291667    2         95          0  3.947111  0.294410   \n",
       "3134   HH  2019  0.250000    3         96          0  5.957746  0.261294   \n",
       "3135   HH  2019  0.375000    4         97          0  5.330097  0.278766   \n",
       "\n",
       "        vs_era    vs_avg  ...       K_9    vs_ERA       H_A    vs_K_9  \\\n",
       "3039  4.854874  0.302353  ...  7.483792  5.058417  0.416667  8.344375   \n",
       "3040  3.641860  0.254438  ...  6.991792  3.751667  0.583333  7.988792   \n",
       "3041  2.972477  0.244946  ...  6.268333  2.992875  0.458333  7.756083   \n",
       "3042  3.993843  0.285887  ...  6.495833  4.009958  0.583333  7.900292   \n",
       "3043  3.490654  0.281553  ...  5.468750  3.536458  0.333333  6.218750   \n",
       "...        ...       ...  ...       ...       ...       ...       ...   \n",
       "3131  3.911215  0.279126  ...  5.697917  3.953125  0.250000  6.218750   \n",
       "3132  3.924171  0.260766  ...  6.939417  4.064167  0.625000  7.988792   \n",
       "3133  2.945455  0.248541  ...  6.429042  2.961625  0.416667  7.512333   \n",
       "3134  4.016877  0.281022  ...  6.392708  4.030792  0.625000  8.050292   \n",
       "3135  3.658879  0.276284  ...  5.755208  3.703125  0.291667  6.260417   \n",
       "\n",
       "         vs_FIP        H_9      oSLG    vs_OPS   vs_WHIP  P2_WHIP_RT  \n",
       "3039  20.770625   9.449417  0.408542  0.818167  1.577875    2.489167  \n",
       "3040  21.016500  11.336917  0.433958  0.683792  1.208583    1.532792  \n",
       "3041  14.026458   9.253125  0.370333  0.633125  1.254250    1.697000  \n",
       "3042  17.744333  10.704833  0.446208  0.797583  1.318708    2.585917  \n",
       "3043  12.201417  11.375000  0.432292  0.718958  1.237167    2.150208  \n",
       "...         ...        ...       ...       ...       ...         ...  \n",
       "3131  14.159750  11.338542  0.437583  0.712583  1.329792    2.170583  \n",
       "3132  20.224833  11.419042  0.435042  0.698792  1.224208    1.731333  \n",
       "3133  14.997292   9.371000  0.367125  0.644917  1.258417    1.721667  \n",
       "3134  18.127667  10.489208  0.437208  0.788167  1.312208    2.565083  \n",
       "3135  12.442167  11.182292  0.426875  0.696667  1.264958    2.090708  \n",
       "\n",
       "[97 rows x 72 columns]"
      ]
     },
     "execution_count": 303,
     "metadata": {},
     "output_type": "execute_result"
    }
   ],
   "source": [
    "ttmp = train[(train[\"T_ID\"]==team_val)]\n",
    "ttmp = ttmp[(ttmp[\"YEAR\"]==year_val)]\n",
    "ttmp"
   ]
  },
  {
   "cell_type": "markdown",
   "metadata": {},
   "source": [
    "* timestep = 2를 만들기 위해 data shift"
   ]
  },
  {
   "cell_type": "code",
   "execution_count": 304,
   "metadata": {},
   "outputs": [],
   "source": [
    "aaa = ttmp.loc[:,[\"IDX\",\"MERGE_IDX\",\"PCT\"]]\n",
    "\n",
    "for i in range(1,3):\n",
    "    for c in list(set(list(ttmp.columns))-set(['T_ID','YEAR'])):\n",
    "        aaa.loc[:,'shift_{}_{}'.format(c,i)] = ttmp.loc[:,c].shift(i)\n",
    "        \n",
    "# aaa.loc[:,[\"IDX\",\"MERGE_IDX\",\"PCT\"]] = ttmp.loc[:,[\"IDX\",\"MERGE_IDX\",\"PCT\"]]"
   ]
  },
  {
   "cell_type": "code",
   "execution_count": 305,
   "metadata": {},
   "outputs": [],
   "source": [
    "ttmp = aaa.copy()"
   ]
  },
  {
   "cell_type": "code",
   "execution_count": 307,
   "metadata": {},
   "outputs": [],
   "source": [
    "ttmp.dropna(inplace = True)\n",
    "ttmp_idx = list(ttmp.index)\n",
    "drop_idx = []\n",
    "for i in ttmp_idx:\n",
    "    idx_num = ttmp.loc[i,'IDX']\n",
    "    if idx_num < ttmp.loc[i,'shift_IDX_1'] or idx_num < ttmp.loc[i,'shift_IDX_2']:\n",
    "        drop_idx.append(i)"
   ]
  },
  {
   "cell_type": "code",
   "execution_count": 308,
   "metadata": {},
   "outputs": [],
   "source": [
    "shift_data = ttmp.drop(drop_idx).reset_index(drop = True)\n",
    "\n",
    "# shift_data = pd.concat([shift_data, pd.get_dummies(data.T_ID)], axis = 1)\n",
    "\n",
    "no_shift_lst= []\n",
    "for i in list(shift_data.columns):\n",
    "    if 'shift' not in i:\n",
    "        no_shift_lst.append(i)"
   ]
  },
  {
   "cell_type": "code",
   "execution_count": 309,
   "metadata": {},
   "outputs": [],
   "source": [
    "X_train = shift_data.drop(no_shift_lst,axis = 1)\n",
    "y_train = shift_data[[\"PCT\"]]"
   ]
  },
  {
   "cell_type": "code",
   "execution_count": 310,
   "metadata": {},
   "outputs": [
    {
     "data": {
      "text/plain": [
       "((49, 140), (49, 1))"
      ]
     },
     "execution_count": 310,
     "metadata": {},
     "output_type": "execute_result"
    }
   ],
   "source": [
    "X_train.shape, y_train.shape"
   ]
  },
  {
   "cell_type": "markdown",
   "metadata": {},
   "source": [
    "#### 4) Test 전처리"
   ]
  },
  {
   "cell_type": "code",
   "execution_count": 311,
   "metadata": {},
   "outputs": [],
   "source": [
    "sel_col = list(test.columns)\n",
    "\n",
    "tmp5 = data[(data[\"IDX\"]==5)&(data[\"T_ID\"]==team_val)][sel_col]\n",
    "tmp4 = data[(data[\"IDX\"]==4) & (data[\"MERGE_IDX\"]==4)&(data[\"T_ID\"]==team_val)][sel_col]"
   ]
  },
  {
   "cell_type": "code",
   "execution_count": 312,
   "metadata": {},
   "outputs": [],
   "source": [
    "test_df = pd.concat([test[test[\"T_ID\"]==team_val],tmp5,tmp4], axis = 0).sort_values(by=[\"YEAR\",\"IDX\"])"
   ]
  },
  {
   "cell_type": "code",
   "execution_count": 313,
   "metadata": {},
   "outputs": [],
   "source": [
    "test_df = test_df[test_df[\"YEAR\"]== year_val]"
   ]
  },
  {
   "cell_type": "code",
   "execution_count": 314,
   "metadata": {},
   "outputs": [],
   "source": [
    "bbb = test_df.loc[:,[\"IDX\",\"MERGE_IDX\",\"PCT\"]]\n",
    "\n",
    "for i in range(1,3):\n",
    "    for c in list(set(list(test_df.columns))-set(['T_ID','YEAR'])):\n",
    "        bbb.loc[:,'shift_{}_{}'.format(c,i)] = test_df.loc[:,c].shift(i)\n",
    "        \n",
    "# bbb.loc[:,[\"IDX\",\"MERGE_IDX\",\"PCT\"]] = test_df.loc[:,[\"IDX\",\"MERGE_IDX\",\"PCT\"]]\n",
    "\n",
    "\n",
    "# for c in list(set(list(test_df.columns))-set(['T_ID','YEAR'])):\n",
    "#     for i in range(1,3):\n",
    "#         test_df.loc[:,'shift_{}_{}'.format(c,i)] = test_df.loc[:,c].shift(i)\n",
    "\n",
    "# for i in range(1,3):\n",
    "#     test_df.loc[:,'shift_{}_{}'.format('PCT',i)] = test_df.loc[:,'PCT'].shift(i)"
   ]
  },
  {
   "cell_type": "code",
   "execution_count": 315,
   "metadata": {},
   "outputs": [],
   "source": [
    "test_df = bbb.copy()"
   ]
  },
  {
   "cell_type": "code",
   "execution_count": 316,
   "metadata": {},
   "outputs": [],
   "source": [
    "test_tmp = test_df[test_df[\"IDX\"]==777]\n",
    "X_test = test_tmp.drop(no_shift_lst,axis = 1)\n",
    "y_test = test_tmp[[\"PCT\"]]"
   ]
  },
  {
   "cell_type": "code",
   "execution_count": 317,
   "metadata": {},
   "outputs": [
    {
     "data": {
      "text/html": [
       "<div>\n",
       "<style scoped>\n",
       "    .dataframe tbody tr th:only-of-type {\n",
       "        vertical-align: middle;\n",
       "    }\n",
       "\n",
       "    .dataframe tbody tr th {\n",
       "        vertical-align: top;\n",
       "    }\n",
       "\n",
       "    .dataframe thead th {\n",
       "        text-align: right;\n",
       "    }\n",
       "</style>\n",
       "<table border=\"1\" class=\"dataframe\">\n",
       "  <thead>\n",
       "    <tr style=\"text-align: right;\">\n",
       "      <th></th>\n",
       "      <th>shift_vs_H_A_1</th>\n",
       "      <th>shift_vs_DER_1</th>\n",
       "      <th>shift_vs_BB_9_1</th>\n",
       "      <th>shift_vs_WHIP_1</th>\n",
       "      <th>shift_vs_WLS_1</th>\n",
       "      <th>shift_oOBP_1</th>\n",
       "      <th>shift_vs_era_1</th>\n",
       "      <th>shift_vs_LOB_1</th>\n",
       "      <th>shift_GPA_1</th>\n",
       "      <th>shift_vs_OPS_1</th>\n",
       "      <th>...</th>\n",
       "      <th>shift_HEADER_NO_2</th>\n",
       "      <th>shift_IDX_2</th>\n",
       "      <th>shift_vs_GPA_2</th>\n",
       "      <th>shift_P_HRA_RT_2</th>\n",
       "      <th>shift_AVG_2</th>\n",
       "      <th>shift_wOBA_2</th>\n",
       "      <th>shift_vs_XR_2</th>\n",
       "      <th>shift_vs_P_WHIP_RT_2</th>\n",
       "      <th>shift_ISO_2</th>\n",
       "      <th>shift_ERA_2</th>\n",
       "    </tr>\n",
       "  </thead>\n",
       "  <tbody>\n",
       "    <tr>\n",
       "      <th>3038</th>\n",
       "      <td>0.666667</td>\n",
       "      <td>0.69475</td>\n",
       "      <td>1.916667</td>\n",
       "      <td>1.237167</td>\n",
       "      <td>0.625</td>\n",
       "      <td>0.351</td>\n",
       "      <td>3.490654</td>\n",
       "      <td>0.7115</td>\n",
       "      <td>0.255167</td>\n",
       "      <td>0.718958</td>\n",
       "      <td>...</td>\n",
       "      <td>0.0</td>\n",
       "      <td>4.0</td>\n",
       "      <td>0.269917</td>\n",
       "      <td>0.295708</td>\n",
       "      <td>0.253083</td>\n",
       "      <td>0.346042</td>\n",
       "      <td>5.474417</td>\n",
       "      <td>1.422167</td>\n",
       "      <td>0.119125</td>\n",
       "      <td>6.153125</td>\n",
       "    </tr>\n",
       "  </tbody>\n",
       "</table>\n",
       "<p>1 rows × 140 columns</p>\n",
       "</div>"
      ],
      "text/plain": [
       "      shift_vs_H_A_1  shift_vs_DER_1  shift_vs_BB_9_1  shift_vs_WHIP_1  \\\n",
       "3038        0.666667         0.69475         1.916667         1.237167   \n",
       "\n",
       "      shift_vs_WLS_1  shift_oOBP_1  shift_vs_era_1  shift_vs_LOB_1  \\\n",
       "3038           0.625         0.351        3.490654          0.7115   \n",
       "\n",
       "      shift_GPA_1  shift_vs_OPS_1  ...  shift_HEADER_NO_2  shift_IDX_2  \\\n",
       "3038     0.255167        0.718958  ...                0.0          4.0   \n",
       "\n",
       "      shift_vs_GPA_2  shift_P_HRA_RT_2  shift_AVG_2  shift_wOBA_2  \\\n",
       "3038        0.269917          0.295708     0.253083      0.346042   \n",
       "\n",
       "      shift_vs_XR_2  shift_vs_P_WHIP_RT_2  shift_ISO_2  shift_ERA_2  \n",
       "3038       5.474417              1.422167     0.119125     6.153125  \n",
       "\n",
       "[1 rows x 140 columns]"
      ]
     },
     "execution_count": 317,
     "metadata": {},
     "output_type": "execute_result"
    }
   ],
   "source": [
    "X_test"
   ]
  },
  {
   "cell_type": "markdown",
   "metadata": {},
   "source": [
    "#### 4) input shape로 변경 (row, timestep=2, feature)\n",
    "\n",
    "ex) \n",
    "timestep = 2\n",
    "\n",
    "* X_train_v 구성예시: [[1 ~ 24경기 데이터, 25 ~ 48경기 데이터], [49 ~ 72경기 데이터, 73 ~ 96경기 데이터] ]  \n",
    "X_train_v.shape >> (2,2*x)             # x: 각 24group에 대한 변수 개수\n",
    "* y_train_v 구성예시: 97 ~ 120 경기 승률\n",
    "\n",
    "=> reshape\n",
    "\n",
    "* X_train_v.shape >> (2,2,x)  # row, timestep, feature"
   ]
  },
  {
   "cell_type": "code",
   "execution_count": 326,
   "metadata": {},
   "outputs": [],
   "source": [
    "X_train_v = X_train.values\n",
    "y_train_v = y_train.values\n",
    "\n",
    "X_test_v = X_test.values\n",
    "y_test_v = y_test.values"
   ]
  },
  {
   "cell_type": "code",
   "execution_count": 327,
   "metadata": {},
   "outputs": [
    {
     "data": {
      "text/plain": [
       "((49, 140), (49, 1), (1, 140), (1, 1))"
      ]
     },
     "execution_count": 327,
     "metadata": {},
     "output_type": "execute_result"
    }
   ],
   "source": [
    "X_train_v.shape, y_train_v.shape, X_test_v.shape, y_test_v.shape"
   ]
  },
  {
   "cell_type": "code",
   "execution_count": 328,
   "metadata": {},
   "outputs": [],
   "source": [
    "X_train_t = X_train_v.reshape(X_train_v.shape[0], 2,70)\n",
    "X_test_t = X_test_v.reshape(X_test_v.shape[0], 2,70)"
   ]
  },
  {
   "cell_type": "markdown",
   "metadata": {},
   "source": [
    "### 2. 모델 구성(LSTM)\n",
    "- optimizer: RMSprop -> lr(learning rate) 조절\n",
    "- LSTM: 모델이 계속 동일한 결과값이 나올 때, input 뉴런 개수를 늘려야 한다는 글을 읽고 계속 input 노드 개수를 바꿔주면서 모델 생성중\n",
    "- loss: MSE\n",
    "\n",
    "- early_stop: patience를 크게하면 과적합 되는 경우가 있어서 최대한 작게 설정해둠\n",
    "- batch_size: 모델이 계속 동일한 결과값이 나올 때, 데이터가 적어 batch size를 줄여보라는 글을 읽고 1로 설정해둠"
   ]
  },
  {
   "cell_type": "code",
   "execution_count": 321,
   "metadata": {},
   "outputs": [
    {
     "name": "stdout",
     "output_type": "stream",
     "text": [
      "Model: \"sequential\"\n",
      "_________________________________________________________________\n",
      "Layer (type)                 Output Shape              Param #   \n",
      "=================================================================\n",
      "lstm (LSTM)                  (None, 200)               216800    \n",
      "_________________________________________________________________\n",
      "dense (Dense)                (None, 1)                 201       \n",
      "=================================================================\n",
      "Total params: 217,001\n",
      "Trainable params: 217,001\n",
      "Non-trainable params: 0\n",
      "_________________________________________________________________\n"
     ]
    }
   ],
   "source": [
    "K.clear_session() \n",
    "\n",
    "model = Sequential()\n",
    "optimizer = RMSprop(lr=0.001, rho=0.9, epsilon=None, decay=0.0)\n",
    "\n",
    "model.add(LSTM(200,input_shape = (2,70))) # (timestep, feature)\n",
    "model.add(Dense(1)) # output = 1\n",
    "model.compile(loss='mean_squared_error', optimizer=optimizer,metrics=['mae'])\n",
    "\n",
    "model.summary()"
   ]
  },
  {
   "cell_type": "code",
   "execution_count": 293,
   "metadata": {},
   "outputs": [
    {
     "name": "stdout",
     "output_type": "stream",
     "text": [
      "Train on 49 samples\n",
      "Epoch 1/100\n",
      "49/49 [==============================] - 3s 53ms/sample - loss: 0.0168 - mae: 0.0776\n",
      "Epoch 2/100\n",
      "49/49 [==============================] - 0s 7ms/sample - loss: 0.0043 - mae: 0.0528 0s - loss: 0.0028 - mae: 0.0\n",
      "Epoch 3/100\n",
      "49/49 [==============================] - 0s 7ms/sample - loss: 0.0038 - mae: 0.0520\n",
      "Epoch 4/100\n",
      "49/49 [==============================] - 0s 7ms/sample - loss: 0.0043 - mae: 0.0538\n",
      "Epoch 5/100\n",
      "49/49 [==============================] - 0s 7ms/sample - loss: 0.0049 - mae: 0.0591\n",
      "Epoch 00005: early stopping\n"
     ]
    }
   ],
   "source": [
    "early_stop = EarlyStopping(monitor='loss', mode = 'min',patience=2, verbose=1)\n",
    "\n",
    "\n",
    "hist1 = model.fit(X_train_t, y_train_v, epochs=100,\n",
    "          batch_size=1, verbose=1, callbacks=[early_stop])"
   ]
  },
  {
   "cell_type": "code",
   "execution_count": 294,
   "metadata": {},
   "outputs": [
    {
     "data": {
      "image/png": "[encoded data removed]",
      "text/plain": [
       "<Figure size 432x288 with 2 Axes>"
      ]
     },
     "metadata": {
      "needs_background": "light"
     },
     "output_type": "display_data"
    }
   ],
   "source": [
    "fig, loss_ax = plt.subplots()\n",
    "\n",
    "acc_ax = loss_ax.twinx()\n",
    "\n",
    "loss_ax.plot(hist1.history['loss'], 'y', label='train loss')\n",
    "\n",
    "acc_ax.plot(hist1.history['mae'], 'b', label='train mae')\n",
    "\n",
    "loss_ax.set_xlabel('epoch')\n",
    "loss_ax.set_ylabel('loss')\n",
    "acc_ax.set_ylabel('mae')\n",
    "\n",
    "loss_ax.legend(loc='upper left')\n",
    "acc_ax.legend(loc='lower left')\n",
    "\n",
    "plt.show()"
   ]
  },
  {
   "cell_type": "markdown",
   "metadata": {},
   "source": [
    "### 3. 결과 확인"
   ]
  },
  {
   "cell_type": "code",
   "execution_count": 295,
   "metadata": {},
   "outputs": [],
   "source": [
    "y_pred = model.predict(X_test_t)"
   ]
  },
  {
   "cell_type": "code",
   "execution_count": 296,
   "metadata": {
    "scrolled": false
   },
   "outputs": [
    {
     "data": {
      "text/html": [
       "<div>\n",
       "<style scoped>\n",
       "    .dataframe tbody tr th:only-of-type {\n",
       "        vertical-align: middle;\n",
       "    }\n",
       "\n",
       "    .dataframe tbody tr th {\n",
       "        vertical-align: top;\n",
       "    }\n",
       "\n",
       "    .dataframe thead th {\n",
       "        text-align: right;\n",
       "    }\n",
       "</style>\n",
       "<table border=\"1\" class=\"dataframe\">\n",
       "  <thead>\n",
       "    <tr style=\"text-align: right;\">\n",
       "      <th></th>\n",
       "      <th>y_pred</th>\n",
       "      <th>y</th>\n",
       "    </tr>\n",
       "  </thead>\n",
       "  <tbody>\n",
       "    <tr>\n",
       "      <th>0</th>\n",
       "      <td>0.335582</td>\n",
       "      <td>0.583333</td>\n",
       "    </tr>\n",
       "  </tbody>\n",
       "</table>\n",
       "</div>"
      ],
      "text/plain": [
       "     y_pred         y\n",
       "0  0.335582  0.583333"
      ]
     },
     "execution_count": 296,
     "metadata": {},
     "output_type": "execute_result"
    }
   ],
   "source": [
    "pd.DataFrame({\"y_pred\":y_pred.reshape(-1), \n",
    "              \"y\":y_test_v.reshape(-1)})"
   ]
  },
  {
   "cell_type": "code",
   "execution_count": 297,
   "metadata": {
    "scrolled": true
   },
   "outputs": [
    {
     "data": {
      "text/plain": [
       "0.24775122602780664"
      ]
     },
     "execution_count": 297,
     "metadata": {},
     "output_type": "execute_result"
    }
   ],
   "source": [
    "rms = sqrt(mean_squared_error(y_test_v, y_pred))\n",
    "rms"
   ]
  },
  {
   "cell_type": "code",
   "execution_count": null,
   "metadata": {},
   "outputs": [],
   "source": []
  },
  {
   "cell_type": "code",
   "execution_count": null,
   "metadata": {},
   "outputs": [],
   "source": []
  },
  {
   "cell_type": "markdown",
   "metadata": {},
   "source": [
    "### ================================= 결과 ======================================"
   ]
  },
  {
   "cell_type": "markdown",
   "metadata": {},
   "source": [
    "HH,2018"
   ]
  },
  {
   "cell_type": "code",
   "execution_count": 273,
   "metadata": {
    "scrolled": false
   },
   "outputs": [
    {
     "data": {
      "text/html": [
       "<div>\n",
       "<style scoped>\n",
       "    .dataframe tbody tr th:only-of-type {\n",
       "        vertical-align: middle;\n",
       "    }\n",
       "\n",
       "    .dataframe tbody tr th {\n",
       "        vertical-align: top;\n",
       "    }\n",
       "\n",
       "    .dataframe thead th {\n",
       "        text-align: right;\n",
       "    }\n",
       "</style>\n",
       "<table border=\"1\" class=\"dataframe\">\n",
       "  <thead>\n",
       "    <tr style=\"text-align: right;\">\n",
       "      <th></th>\n",
       "      <th>y_pred</th>\n",
       "      <th>y</th>\n",
       "    </tr>\n",
       "  </thead>\n",
       "  <tbody>\n",
       "    <tr>\n",
       "      <th>0</th>\n",
       "      <td>0.498883</td>\n",
       "      <td>0.5</td>\n",
       "    </tr>\n",
       "  </tbody>\n",
       "</table>\n",
       "</div>"
      ],
      "text/plain": [
       "     y_pred    y\n",
       "0  0.498883  0.5"
      ]
     },
     "execution_count": 273,
     "metadata": {},
     "output_type": "execute_result"
    }
   ],
   "source": [
    "pd.DataFrame({\"y_pred\":y_pred.reshape(-1), \n",
    "              \"y\":y_test_v.reshape(-1)})"
   ]
  },
  {
   "cell_type": "code",
   "execution_count": 274,
   "metadata": {
    "scrolled": true
   },
   "outputs": [
    {
     "data": {
      "text/plain": [
       "0.001117318868637085"
      ]
     },
     "execution_count": 274,
     "metadata": {},
     "output_type": "execute_result"
    }
   ],
   "source": [
    "rms = sqrt(mean_squared_error(y_test_v, y_pred))\n",
    "rms"
   ]
  },
  {
   "cell_type": "markdown",
   "metadata": {},
   "source": [
    "HH, 2019"
   ]
  },
  {
   "cell_type": "code",
   "execution_count": 296,
   "metadata": {
    "scrolled": false
   },
   "outputs": [
    {
     "data": {
      "text/html": [
       "<div>\n",
       "<style scoped>\n",
       "    .dataframe tbody tr th:only-of-type {\n",
       "        vertical-align: middle;\n",
       "    }\n",
       "\n",
       "    .dataframe tbody tr th {\n",
       "        vertical-align: top;\n",
       "    }\n",
       "\n",
       "    .dataframe thead th {\n",
       "        text-align: right;\n",
       "    }\n",
       "</style>\n",
       "<table border=\"1\" class=\"dataframe\">\n",
       "  <thead>\n",
       "    <tr style=\"text-align: right;\">\n",
       "      <th></th>\n",
       "      <th>y_pred</th>\n",
       "      <th>y</th>\n",
       "    </tr>\n",
       "  </thead>\n",
       "  <tbody>\n",
       "    <tr>\n",
       "      <th>0</th>\n",
       "      <td>0.335582</td>\n",
       "      <td>0.583333</td>\n",
       "    </tr>\n",
       "  </tbody>\n",
       "</table>\n",
       "</div>"
      ],
      "text/plain": [
       "     y_pred         y\n",
       "0  0.335582  0.583333"
      ]
     },
     "execution_count": 296,
     "metadata": {},
     "output_type": "execute_result"
    }
   ],
   "source": [
    "pd.DataFrame({\"y_pred\":y_pred.reshape(-1), \n",
    "              \"y\":y_test_v.reshape(-1)})"
   ]
  },
  {
   "cell_type": "code",
   "execution_count": 297,
   "metadata": {
    "scrolled": true
   },
   "outputs": [
    {
     "data": {
      "text/plain": [
       "0.24775122602780664"
      ]
     },
     "execution_count": 297,
     "metadata": {},
     "output_type": "execute_result"
    }
   ],
   "source": [
    "rms = sqrt(mean_squared_error(y_test_v, y_pred))\n",
    "rms"
   ]
  },
  {
   "cell_type": "code",
   "execution_count": 298,
   "metadata": {},
   "outputs": [
    {
     "data": {
      "text/html": [
       "<div>\n",
       "<style scoped>\n",
       "    .dataframe tbody tr th:only-of-type {\n",
       "        vertical-align: middle;\n",
       "    }\n",
       "\n",
       "    .dataframe tbody tr th {\n",
       "        vertical-align: top;\n",
       "    }\n",
       "\n",
       "    .dataframe thead th {\n",
       "        text-align: right;\n",
       "    }\n",
       "</style>\n",
       "<table border=\"1\" class=\"dataframe\">\n",
       "  <thead>\n",
       "    <tr style=\"text-align: right;\">\n",
       "      <th></th>\n",
       "      <th>shift_PCT_1</th>\n",
       "      <th>shift_PCT_2</th>\n",
       "      <th>PCT</th>\n",
       "    </tr>\n",
       "  </thead>\n",
       "  <tbody>\n",
       "    <tr>\n",
       "      <th>3042</th>\n",
       "      <td>NaN</td>\n",
       "      <td>NaN</td>\n",
       "      <td>0.250000</td>\n",
       "    </tr>\n",
       "    <tr>\n",
       "      <th>3043</th>\n",
       "      <td>0.250</td>\n",
       "      <td>NaN</td>\n",
       "      <td>0.375000</td>\n",
       "    </tr>\n",
       "    <tr>\n",
       "      <th>3038</th>\n",
       "      <td>0.375</td>\n",
       "      <td>0.25</td>\n",
       "      <td>0.583333</td>\n",
       "    </tr>\n",
       "  </tbody>\n",
       "</table>\n",
       "</div>"
      ],
      "text/plain": [
       "      shift_PCT_1  shift_PCT_2       PCT\n",
       "3042          NaN          NaN  0.250000\n",
       "3043        0.250          NaN  0.375000\n",
       "3038        0.375         0.25  0.583333"
      ]
     },
     "execution_count": 298,
     "metadata": {},
     "output_type": "execute_result"
    }
   ],
   "source": [
    "test_df[[\"shift_PCT_1\",\"shift_PCT_2\",\"PCT\"]]"
   ]
  },
  {
   "cell_type": "markdown",
   "metadata": {},
   "source": [
    "LG, 2019"
   ]
  },
  {
   "cell_type": "code",
   "execution_count": null,
   "metadata": {},
   "outputs": [],
   "source": [
    "# K.clear_session() \n",
    "\n",
    "# model = Sequential()\n",
    "# optimizer = RMSprop(lr=0.001, rho=0.9, epsilon=None, decay=0.0)\n",
    "\n",
    "# model.add(LSTM(200,input_shape = (2,70))) # (timestep, feature)\n",
    "# model.add(Dense(1)) # output = 1\n",
    "# model.compile(loss='mean_squared_error', optimizer=optimizer,metrics=['mae'])\n",
    "\n",
    "# model.summary()"
   ]
  },
  {
   "cell_type": "code",
   "execution_count": 173,
   "metadata": {
    "scrolled": true
   },
   "outputs": [
    {
     "data": {
      "text/html": [
       "<div>\n",
       "<style scoped>\n",
       "    .dataframe tbody tr th:only-of-type {\n",
       "        vertical-align: middle;\n",
       "    }\n",
       "\n",
       "    .dataframe tbody tr th {\n",
       "        vertical-align: top;\n",
       "    }\n",
       "\n",
       "    .dataframe thead th {\n",
       "        text-align: right;\n",
       "    }\n",
       "</style>\n",
       "<table border=\"1\" class=\"dataframe\">\n",
       "  <thead>\n",
       "    <tr style=\"text-align: right;\">\n",
       "      <th></th>\n",
       "      <th>y_pred</th>\n",
       "      <th>y</th>\n",
       "    </tr>\n",
       "  </thead>\n",
       "  <tbody>\n",
       "    <tr>\n",
       "      <th>0</th>\n",
       "      <td>0.569255</td>\n",
       "      <td>0.541667</td>\n",
       "    </tr>\n",
       "  </tbody>\n",
       "</table>\n",
       "</div>"
      ],
      "text/plain": [
       "     y_pred         y\n",
       "0  0.569255  0.541667"
      ]
     },
     "execution_count": 173,
     "metadata": {},
     "output_type": "execute_result"
    }
   ],
   "source": [
    "pd.DataFrame({\"y_pred\":y_pred.reshape(-1), \n",
    "              \"y\":y_test_v.reshape(-1)})"
   ]
  },
  {
   "cell_type": "code",
   "execution_count": 174,
   "metadata": {
    "scrolled": true
   },
   "outputs": [
    {
     "data": {
      "text/plain": [
       "0.027587850888570187"
      ]
     },
     "execution_count": 174,
     "metadata": {},
     "output_type": "execute_result"
    }
   ],
   "source": [
    "rms = sqrt(mean_squared_error(y_test_v, y_pred))\n",
    "rms"
   ]
  },
  {
   "cell_type": "markdown",
   "metadata": {},
   "source": [
    "LG, 2018"
   ]
  },
  {
   "cell_type": "code",
   "execution_count": null,
   "metadata": {},
   "outputs": [],
   "source": [
    "# K.clear_session() \n",
    "\n",
    "# model = Sequential()\n",
    "# optimizer = RMSprop(lr=0.001, rho=0.9, epsilon=None, decay=0.0)\n",
    "\n",
    "# model.add(LSTM(200,input_shape = (2,70))) # (timestep, feature)\n",
    "# model.add(Dense(1)) # output = 1\n",
    "# model.compile(loss='mean_squared_error', optimizer=optimizer,metrics=['mae'])\n",
    "\n",
    "# model.summary()"
   ]
  },
  {
   "cell_type": "code",
   "execution_count": 127,
   "metadata": {
    "scrolled": false
   },
   "outputs": [
    {
     "data": {
      "text/html": [
       "<div>\n",
       "<style scoped>\n",
       "    .dataframe tbody tr th:only-of-type {\n",
       "        vertical-align: middle;\n",
       "    }\n",
       "\n",
       "    .dataframe tbody tr th {\n",
       "        vertical-align: top;\n",
       "    }\n",
       "\n",
       "    .dataframe thead th {\n",
       "        text-align: right;\n",
       "    }\n",
       "</style>\n",
       "<table border=\"1\" class=\"dataframe\">\n",
       "  <thead>\n",
       "    <tr style=\"text-align: right;\">\n",
       "      <th></th>\n",
       "      <th>y_pred</th>\n",
       "      <th>y</th>\n",
       "    </tr>\n",
       "  </thead>\n",
       "  <tbody>\n",
       "    <tr>\n",
       "      <th>0</th>\n",
       "      <td>0.414969</td>\n",
       "      <td>0.416667</td>\n",
       "    </tr>\n",
       "  </tbody>\n",
       "</table>\n",
       "</div>"
      ],
      "text/plain": [
       "     y_pred         y\n",
       "0  0.414969  0.416667"
      ]
     },
     "execution_count": 127,
     "metadata": {},
     "output_type": "execute_result"
    }
   ],
   "source": [
    "pd.DataFrame({\"y_pred\":y_pred.reshape(-1), \n",
    "              \"y\":y_test_v.reshape(-1)})"
   ]
  },
  {
   "cell_type": "code",
   "execution_count": 128,
   "metadata": {},
   "outputs": [
    {
     "data": {
      "text/plain": [
       "0.001697460810343443"
      ]
     },
     "execution_count": 128,
     "metadata": {},
     "output_type": "execute_result"
    }
   ],
   "source": [
    "rms = sqrt(mean_squared_error(y_test_v, y_pred))\n",
    "rms"
   ]
  },
  {
   "cell_type": "markdown",
   "metadata": {},
   "source": [
    "LG, 2017"
   ]
  },
  {
   "cell_type": "code",
   "execution_count": null,
   "metadata": {},
   "outputs": [],
   "source": [
    "# K.clear_session() \n",
    "\n",
    "# model = Sequential()\n",
    "# optimizer = RMSprop(lr=0.001, rho=0.9, epsilon=None, decay=0.0)\n",
    "\n",
    "# model.add(LSTM(200,input_shape = (2,70))) # (timestep, feature)\n",
    "# model.add(Dense(1)) # output = 1\n",
    "# model.compile(loss='mean_squared_error', optimizer=optimizer,metrics=['mae'])\n",
    "\n",
    "# model.summary()"
   ]
  },
  {
   "cell_type": "code",
   "execution_count": 103,
   "metadata": {
    "scrolled": false
   },
   "outputs": [
    {
     "data": {
      "text/html": [
       "<div>\n",
       "<style scoped>\n",
       "    .dataframe tbody tr th:only-of-type {\n",
       "        vertical-align: middle;\n",
       "    }\n",
       "\n",
       "    .dataframe tbody tr th {\n",
       "        vertical-align: top;\n",
       "    }\n",
       "\n",
       "    .dataframe thead th {\n",
       "        text-align: right;\n",
       "    }\n",
       "</style>\n",
       "<table border=\"1\" class=\"dataframe\">\n",
       "  <thead>\n",
       "    <tr style=\"text-align: right;\">\n",
       "      <th></th>\n",
       "      <th>y_pred</th>\n",
       "      <th>y</th>\n",
       "    </tr>\n",
       "  </thead>\n",
       "  <tbody>\n",
       "    <tr>\n",
       "      <th>0</th>\n",
       "      <td>0.450553</td>\n",
       "      <td>0.434783</td>\n",
       "    </tr>\n",
       "  </tbody>\n",
       "</table>\n",
       "</div>"
      ],
      "text/plain": [
       "     y_pred         y\n",
       "0  0.450553  0.434783"
      ]
     },
     "execution_count": 103,
     "metadata": {},
     "output_type": "execute_result"
    }
   ],
   "source": [
    "pd.DataFrame({\"y_pred\":y_pred.reshape(-1), \n",
    "              \"y\":y_test_v.reshape(-1)})"
   ]
  },
  {
   "cell_type": "code",
   "execution_count": 104,
   "metadata": {},
   "outputs": [
    {
     "data": {
      "text/plain": [
       "0.015770063452098693"
      ]
     },
     "execution_count": 104,
     "metadata": {},
     "output_type": "execute_result"
    }
   ],
   "source": [
    "rms = sqrt(mean_squared_error(y_test_v, y_pred))\n",
    "rms"
   ]
  },
  {
   "cell_type": "markdown",
   "metadata": {},
   "source": [
    "LG, 2016"
   ]
  },
  {
   "cell_type": "code",
   "execution_count": 47,
   "metadata": {},
   "outputs": [
    {
     "data": {
      "text/html": [
       "<div>\n",
       "<style scoped>\n",
       "    .dataframe tbody tr th:only-of-type {\n",
       "        vertical-align: middle;\n",
       "    }\n",
       "\n",
       "    .dataframe tbody tr th {\n",
       "        vertical-align: top;\n",
       "    }\n",
       "\n",
       "    .dataframe thead th {\n",
       "        text-align: right;\n",
       "    }\n",
       "</style>\n",
       "<table border=\"1\" class=\"dataframe\">\n",
       "  <thead>\n",
       "    <tr style=\"text-align: right;\">\n",
       "      <th></th>\n",
       "      <th>y_pred</th>\n",
       "      <th>y</th>\n",
       "    </tr>\n",
       "  </thead>\n",
       "  <tbody>\n",
       "    <tr>\n",
       "      <th>0</th>\n",
       "      <td>0.516492</td>\n",
       "      <td>0.608696</td>\n",
       "    </tr>\n",
       "  </tbody>\n",
       "</table>\n",
       "</div>"
      ],
      "text/plain": [
       "     y_pred         y\n",
       "0  0.516492  0.608696"
      ]
     },
     "execution_count": 47,
     "metadata": {},
     "output_type": "execute_result"
    }
   ],
   "source": [
    "pd.DataFrame({\"y_pred\":y_pred.reshape(-1), \n",
    "              \"y\":y_test_v.reshape(-1)})"
   ]
  },
  {
   "cell_type": "code",
   "execution_count": 48,
   "metadata": {},
   "outputs": [
    {
     "data": {
      "text/plain": [
       "0.09220322577849682"
      ]
     },
     "execution_count": 48,
     "metadata": {},
     "output_type": "execute_result"
    }
   ],
   "source": [
    "rms = sqrt(mean_squared_error(y_test_v, y_pred))\n",
    "rms"
   ]
  },
  {
   "cell_type": "code",
   "execution_count": null,
   "metadata": {},
   "outputs": [],
   "source": []
  }
 ],
 "metadata": {
  "kernelspec": {
   "display_name": "Python 3",
   "language": "python",
   "name": "python3"
  },
  "language_info": {
   "codemirror_mode": {
    "name": "ipython",
    "version": 3
   },
   "file_extension": ".py",
   "mimetype": "text/x-python",
   "name": "python",
   "nbconvert_exporter": "python",
   "pygments_lexer": "ipython3",
   "version": "3.6.4"
  }
 },
 "nbformat": 4,
 "nbformat_minor": 2
}
