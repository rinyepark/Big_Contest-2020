{
 "cells": [
  {
   "cell_type": "code",
   "execution_count": 42,
   "metadata": {},
   "outputs": [],
   "source": [
    "import numpy as np\n",
    "import pandas as pd"
   ]
  },
  {
   "cell_type": "markdown",
   "metadata": {},
   "source": [
    "### 1. PCT"
   ]
  },
  {
   "cell_type": "code",
   "execution_count": 45,
   "metadata": {},
   "outputs": [],
   "source": [
    "PCT_train_X = pd.read_csv(\"lstm_data/PCT_lstm_final_train_X.csv\")\n",
    "PCT_test_X = pd.read_csv(\"lstm_data/PCT_lstm_final_test_X.csv\")\n",
    "\n",
    "\n",
    "P_train_X = pd.read_csv(\"PCT/PCT_cls_train_X.csv\").drop([\"T_ID\",\"YEAR\"],axis=1)\n",
    "P_test_X = pd.read_csv(\"PCT/PCT_cls_test_X.csv\").drop([\"T_ID\",\"YEAR\"],axis=1)\n",
    "\n",
    "# PCT_train_X = pd.read_csv(\"PCT/PCT_train_X.csv\")\n",
    "# PCT_test_X = pd.read_csv(\"PCT/PCT_test_X.csv\")\n",
    "\n",
    "# P_train_X = pd.read_csv(\"PCT/PCT_c_train_X.csv\").drop([\"T_ID\",\"YEAR\"],axis=1)\n",
    "# P_test_X = pd.read_csv(\"PCT/PCT_c_test_X.csv\").drop([\"T_ID\",\"YEAR\"],axis=1)"
   ]
  },
  {
   "cell_type": "code",
   "execution_count": 46,
   "metadata": {},
   "outputs": [
    {
     "data": {
      "text/plain": [
       "((1960, 116), (1960, 114))"
      ]
     },
     "execution_count": 46,
     "metadata": {},
     "output_type": "execute_result"
    }
   ],
   "source": [
    "PCT_train_X.shape, P_train_X.shape"
   ]
  },
  {
   "cell_type": "code",
   "execution_count": 48,
   "metadata": {},
   "outputs": [],
   "source": [
    "new_PCT_train_X = pd.concat([PCT_train_X, P_train_X],axis = 1)\n",
    "new_PCT_test_X = pd.concat([PCT_test_X, P_test_X],axis = 1)"
   ]
  },
  {
   "cell_type": "code",
   "execution_count": 49,
   "metadata": {},
   "outputs": [],
   "source": [
    "new_PCT_train_X.to_csv(\"lstm_data/new_PCT_train_X.csv\",index = False)\n",
    "new_PCT_test_X.to_csv(\"lstm_data/new_PCT_test_X.csv\",index = False)"
   ]
  },
  {
   "cell_type": "markdown",
   "metadata": {},
   "source": [
    "### 2. AVG"
   ]
  },
  {
   "cell_type": "code",
   "execution_count": 50,
   "metadata": {},
   "outputs": [],
   "source": [
    "AVG_train_X = pd.read_csv(\"lstm_data/AVG_lstm_final_train_X.csv\")\n",
    "AVG_test_X = pd.read_csv(\"lstm_data/AVG_lstm_final_test_X.csv\")\n",
    "\n",
    "A_train_X = pd.read_csv(\"AVG/AVG_cls_train_X.csv\").drop([\"T_ID\",\"YEAR\"],axis=1)\n",
    "A_test_X = pd.read_csv(\"AVG/AVG_cls_test_X.csv\").drop([\"T_ID\",\"YEAR\"],axis=1)"
   ]
  },
  {
   "cell_type": "code",
   "execution_count": 29,
   "metadata": {},
   "outputs": [],
   "source": [
    "# AVG_train_X = pd.read_csv(\"AVG/AVG_train_X.csv\")\n",
    "# AVG_test_X = pd.read_csv(\"AVG/AVG_test_X.csv\")\n",
    "\n",
    "# A_train_X = pd.read_csv(\"AVG/AVG_c_train_X.csv\").drop([\"T_ID\",\"YEAR\"],axis=1)\n",
    "# A_test_X = pd.read_csv(\"AVG/AVG_c_test_X.csv\").drop([\"T_ID\",\"YEAR\"],axis=1)"
   ]
  },
  {
   "cell_type": "code",
   "execution_count": 51,
   "metadata": {},
   "outputs": [
    {
     "data": {
      "text/plain": [
       "((1960, 94), (1960, 92))"
      ]
     },
     "execution_count": 51,
     "metadata": {},
     "output_type": "execute_result"
    }
   ],
   "source": [
    "AVG_train_X.shape, A_train_X.shape"
   ]
  },
  {
   "cell_type": "code",
   "execution_count": 52,
   "metadata": {},
   "outputs": [],
   "source": [
    "new_AVG_train_X = pd.concat([AVG_train_X, A_train_X],axis = 1)\n",
    "new_AVG_test_X = pd.concat([AVG_test_X, A_test_X],axis = 1)"
   ]
  },
  {
   "cell_type": "code",
   "execution_count": 53,
   "metadata": {},
   "outputs": [],
   "source": [
    "new_AVG_train_X.to_csv(\"lstm_data/new_AVG_train_X.csv\",index = False)\n",
    "new_AVG_test_X.to_csv(\"lstm_data/new_AVG_test_X.csv\",index = False)"
   ]
  },
  {
   "cell_type": "markdown",
   "metadata": {},
   "source": [
    "### 3. ERA"
   ]
  },
  {
   "cell_type": "code",
   "execution_count": 54,
   "metadata": {},
   "outputs": [],
   "source": [
    "ERA_train_X = pd.read_csv(\"lstm_data/ERA_lstm_final_train_X.csv\")\n",
    "ERA_test_X = pd.read_csv(\"lstm_data/ERA_lstm_final_test_X.csv\")\n",
    "\n",
    "E_train_X = pd.read_csv(\"ERA/ERA_cls_train_X.csv\").drop([\"T_ID\",\"YEAR\"],axis=1)\n",
    "E_test_X = pd.read_csv(\"ERA/ERA_cls_test_X.csv\").drop([\"T_ID\",\"YEAR\"],axis=1)"
   ]
  },
  {
   "cell_type": "code",
   "execution_count": 55,
   "metadata": {},
   "outputs": [
    {
     "data": {
      "text/plain": [
       "((1960, 92), (1960, 90))"
      ]
     },
     "execution_count": 55,
     "metadata": {},
     "output_type": "execute_result"
    }
   ],
   "source": [
    "ERA_train_X.shape, E_train_X.shape"
   ]
  },
  {
   "cell_type": "code",
   "execution_count": 56,
   "metadata": {},
   "outputs": [],
   "source": [
    "new_ERA_train_X = pd.concat([ERA_train_X, E_train_X],axis = 1)\n",
    "new_ERA_test_X = pd.concat([ERA_test_X, E_test_X],axis = 1)"
   ]
  },
  {
   "cell_type": "code",
   "execution_count": 57,
   "metadata": {},
   "outputs": [],
   "source": [
    "new_ERA_train_X.to_csv(\"lstm_data/new_ERA_train_X.csv\",index = False)\n",
    "new_ERA_test_X.to_csv(\"lstm_data/new_ERA_test_X.csv\",index = False)"
   ]
  },
  {
   "cell_type": "code",
   "execution_count": 58,
   "metadata": {},
   "outputs": [
    {
     "data": {
      "text/plain": [
       "((1960, 230), (1960, 186), (1960, 182))"
      ]
     },
     "execution_count": 58,
     "metadata": {},
     "output_type": "execute_result"
    }
   ],
   "source": [
    "new_PCT_train_X.shape, new_AVG_train_X.shape, new_ERA_train_X.shape"
   ]
  },
  {
   "cell_type": "code",
   "execution_count": null,
   "metadata": {},
   "outputs": [],
   "source": []
  }
 ],
 "metadata": {
  "kernelspec": {
   "display_name": "Python 3",
   "language": "python",
   "name": "python3"
  },
  "language_info": {
   "codemirror_mode": {
    "name": "ipython",
    "version": 3
   },
   "file_extension": ".py",
   "mimetype": "text/x-python",
   "name": "python",
   "nbconvert_exporter": "python",
   "pygments_lexer": "ipython3",
   "version": "3.6.4"
  }
 },
 "nbformat": 4,
 "nbformat_minor": 2
}
