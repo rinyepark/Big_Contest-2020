{
 "cells": [
  {
   "cell_type": "markdown",
   "metadata": {},
   "source": [
    "### Import python library"
   ]
  },
  {
   "cell_type": "code",
   "execution_count": 1,
   "metadata": {},
   "outputs": [],
   "source": [
    "import numpy as np\n",
    "import pandas as pd"
   ]
  },
  {
   "cell_type": "markdown",
   "metadata": {},
   "source": [
    "### 1. Read data: bigcon_final_dataset.csv필요"
   ]
  },
  {
   "cell_type": "code",
   "execution_count": 110,
   "metadata": {
    "scrolled": true
   },
   "outputs": [],
   "source": [
    "data = pd.read_csv(\"bigcon_cumulate_final_dataset.csv\")"
   ]
  },
  {
   "cell_type": "code",
   "execution_count": 111,
   "metadata": {},
   "outputs": [],
   "source": [
    "team = list(set(data.T_ID))"
   ]
  },
  {
   "cell_type": "markdown",
   "metadata": {},
   "source": [
    "### 2. Train 전처리"
   ]
  },
  {
   "cell_type": "code",
   "execution_count": 112,
   "metadata": {},
   "outputs": [],
   "source": [
    "train = data[data[\"IDX\"]!=777]"
   ]
  },
  {
   "cell_type": "code",
   "execution_count": 113,
   "metadata": {},
   "outputs": [],
   "source": [
    "sel_col = [\"T_ID\",\"IDX\",\"MERGE_IDX\",\"PCT\",\"ERA\",\"AVG\",'YEAR']\n",
    "train_shift = train.loc[:,sel_col]\n",
    "shift_col = sorted(list(set(list(train.columns))-set(['T_ID','YEAR'])))\n",
    "\n",
    "for i in range(1,2):\n",
    "    for c in shift_col:\n",
    "        train_shift.loc[:,'shift_{}'.format(c)] = train.loc[:,c].shift(i)"
   ]
  },
  {
   "cell_type": "code",
   "execution_count": 114,
   "metadata": {},
   "outputs": [],
   "source": [
    "train_shift.dropna(inplace = True)\n",
    "ts_idx = list(train_shift.index)\n",
    "\n",
    "drop_idx = []\n",
    "for i in ts_idx:\n",
    "    idx_num = train_shift.loc[i,'IDX']\n",
    "    if idx_num <= train_shift.loc[i,'shift_IDX']:\n",
    "        drop_idx.append(i)\n",
    "\n",
    "train_s_df = train_shift.drop(drop_idx).reset_index(drop = True)  \n",
    "\n",
    "train_s_drop_df = train_s_df.drop([\"IDX\",\"MERGE_IDX\",\"shift_IDX\",\"shift_MERGE_IDX\",\"ERA\",\"AVG\",\"PCT\"],axis = 1)"
   ]
  },
  {
   "cell_type": "markdown",
   "metadata": {},
   "source": [
    "### 3. Test 전처리"
   ]
  },
  {
   "cell_type": "code",
   "execution_count": 115,
   "metadata": {},
   "outputs": [],
   "source": [
    "test = data[data[\"IDX\"]==777]"
   ]
  },
  {
   "cell_type": "code",
   "execution_count": 116,
   "metadata": {},
   "outputs": [],
   "source": [
    "tmp1619 = data[data[\"IDX\"]==5]\n",
    "test = pd.concat([test,tmp1619],axis=0)\n",
    "\n",
    "tmp2020 = data[data[\"YEAR\"]==2020]\n",
    "for t in team:\n",
    "    tmp = tmp2020[tmp2020[\"T_ID\"]==t]\n",
    "    mer_idx = max(tmp.MERGE_IDX)\n",
    "    test = pd.concat([test,tmp[tmp[\"MERGE_IDX\"]==mer_idx]], axis = 0)\n",
    "    \n",
    "\n",
    "test = test.sort_values(by=[\"YEAR\",\"T_ID\",\"IDX\"]).reset_index(drop=True)\n",
    "    "
   ]
  },
  {
   "cell_type": "code",
   "execution_count": 117,
   "metadata": {},
   "outputs": [],
   "source": [
    "test_shift = test.loc[:,sel_col]\n",
    "shift_col = sorted(list(set(list(test.columns))-set(['T_ID','YEAR'])))\n",
    "\n",
    "for i in range(1,2):\n",
    "    for c in shift_col:\n",
    "        test_shift.loc[:,'shift_{}'.format(c)] = test.loc[:,c].shift(i)"
   ]
  },
  {
   "cell_type": "code",
   "execution_count": 118,
   "metadata": {
    "scrolled": true
   },
   "outputs": [],
   "source": [
    "test_s_df = test_shift[test_shift[\"IDX\"]==777].reset_index(drop=True)\n",
    "test_s_drop_df = test_s_df.drop([\"IDX\",\"MERGE_IDX\",\"shift_IDX\",\"shift_MERGE_IDX\",\"ERA\",\"AVG\",\"PCT\"],axis = 1)"
   ]
  },
  {
   "cell_type": "markdown",
   "metadata": {},
   "source": [
    "### 4.  split data  -> PCT/AVG/ERA dataset 가공"
   ]
  },
  {
   "cell_type": "code",
   "execution_count": 119,
   "metadata": {},
   "outputs": [],
   "source": [
    "common_list = ['T_ID', 'YEAR', 'HEADER_NO','PCT']\n",
    "hitter = ['AVG', 'OBP', 'SLG', 'OPS', 'RC', 'GPA', 'BA', 'SECA', \n",
    "          'TA', 'XR', 'ISO', 'wOBA', 'P_HRA_RT', 'DER']\n",
    "pitcher = ['WHIP', 'LOB', 'ERA', 'FIP', 'H_9', 'K_9', 'BB_9', \n",
    "           'HR_9', 'oAVG', 'oSLG', 'oOBP', 'P_WHIP_RT', 'P2_WHIP_RT', 'CB_WHIP_RT','oISO', 'oOPS']\n",
    "\n",
    "vs_hitter = ['vs_AVG', 'vs_OBP', 'vs_SLG', 'vs_OPS', 'vs_RC', 'vs_GPA', 'vs_BA', 'vs_SECA', \n",
    "             'vs_TA', 'vs_XR', 'vs_ISO', 'vs_wOBA', 'vs_P_HRA_RT', 'vs_DER']\n",
    "vs_pitcher = ['vs_WHIP', 'vs_LOB', 'vs_ERA', 'vs_FIP', 'vs_H_9', 'vs_K_9', 'vs_BB_9', \n",
    "              'vs_HR_9', 'vs_oAVG', 'vs_oSLG', 'vs_oOBP', 'vs_P_WHIP_RT', 'vs_P2_WHIP_RT', 'vs_CB_WHIP_RT'\n",
    "             ,'vs_oISO', 'vs_oOPS']\n",
    "\n",
    "avg_col = common_list + hitter + vs_pitcher\n",
    "era_col = common_list + pitcher + vs_hitter"
   ]
  },
  {
   "cell_type": "code",
   "execution_count": 120,
   "metadata": {},
   "outputs": [],
   "source": [
    "train_col = list(train_s_drop_df.columns)\n",
    "sel_avg_lst =train_col[:2]\n",
    "sel_era_lst = train_col[:2]\n",
    "\n",
    "for i in train_col[2:]:\n",
    "    for k in avg_col:\n",
    "        if k in i:\n",
    "            sel_avg_lst.append(i)\n",
    "            break\n",
    "    \n",
    "for i in train_col[2:]:\n",
    "    for k in era_col:\n",
    "        if k in i:\n",
    "            sel_era_lst.append(i)\n",
    "            break\n"
   ]
  },
  {
   "cell_type": "code",
   "execution_count": 121,
   "metadata": {
    "scrolled": true
   },
   "outputs": [
    {
     "data": {
      "text/plain": [
       "['IDX', 'MERGE_IDX']"
      ]
     },
     "execution_count": 121,
     "metadata": {},
     "output_type": "execute_result"
    }
   ],
   "source": [
    "# 기존에서 제외된 column 목록\n",
    "list(set(list(data.columns))- set(hitter+pitcher + vs_hitter+vs_pitcher + common_list))"
   ]
  },
  {
   "cell_type": "markdown",
   "metadata": {},
   "source": [
    "### 5-1. 최종 데이터셋 생성"
   ]
  },
  {
   "cell_type": "code",
   "execution_count": 122,
   "metadata": {},
   "outputs": [],
   "source": [
    "#승률\n",
    "PCT_train_X = train_s_drop_df\n",
    "PCT_test_X = test_s_drop_df"
   ]
  },
  {
   "cell_type": "code",
   "execution_count": 123,
   "metadata": {},
   "outputs": [],
   "source": [
    "# 타율\n",
    "AVG_train_X = train_s_drop_df[sel_avg_lst]\n",
    "AVG_test_X = test_s_drop_df[sel_avg_lst]"
   ]
  },
  {
   "cell_type": "code",
   "execution_count": 124,
   "metadata": {},
   "outputs": [],
   "source": [
    "# 방어율\n",
    "ERA_train_X = train_s_drop_df[sel_era_lst]\n",
    "ERA_test_X = test_s_drop_df[sel_era_lst]"
   ]
  },
  {
   "cell_type": "markdown",
   "metadata": {},
   "source": [
    "### 5-2. column 명 변경"
   ]
  },
  {
   "cell_type": "code",
   "execution_count": 125,
   "metadata": {},
   "outputs": [],
   "source": [
    "col = list(PCT_train_X.columns)[2:]\n",
    "col_dict = {}\n",
    "\n",
    "for i in col:\n",
    "    col_dict[i] = i.replace('shift','c')\n",
    "    \n",
    "PCT_train_X.rename(columns = col_dict, inplace = True)\n",
    "PCT_test_X.rename(columns = col_dict, inplace = True)"
   ]
  },
  {
   "cell_type": "code",
   "execution_count": 126,
   "metadata": {},
   "outputs": [],
   "source": [
    "col = list(AVG_train_X.columns)[2:]\n",
    "col_dict = {}\n",
    "\n",
    "for i in col:\n",
    "    col_dict[i] = i.replace('shift','c')\n",
    "    \n",
    "AVG_train_X.rename(columns = col_dict, inplace = True)\n",
    "AVG_test_X.rename(columns = col_dict, inplace = True)"
   ]
  },
  {
   "cell_type": "code",
   "execution_count": 127,
   "metadata": {},
   "outputs": [],
   "source": [
    "col = list(ERA_train_X.columns)[2:]\n",
    "col_dict = {}\n",
    "\n",
    "for i in col:\n",
    "    col_dict[i] = i.replace('shift','c')\n",
    "    \n",
    "\n",
    "ERA_train_X.rename(columns = col_dict, inplace = True)\n",
    "ERA_test_X.rename(columns = col_dict, inplace = True)"
   ]
  },
  {
   "cell_type": "markdown",
   "metadata": {},
   "source": [
    "### 6. 저장"
   ]
  },
  {
   "cell_type": "code",
   "execution_count": 128,
   "metadata": {},
   "outputs": [],
   "source": [
    "PCT_train_X.to_csv(\"PCT/PCT_c_train_X.csv\",index=False)\n",
    "PCT_test_X.to_csv(\"PCT/PCT_c_test_X.csv\",index=False)"
   ]
  },
  {
   "cell_type": "code",
   "execution_count": 129,
   "metadata": {},
   "outputs": [],
   "source": [
    "AVG_train_X.to_csv(\"AVG/AVG_c_train_X.csv\",index=False)\n",
    "AVG_test_X.to_csv(\"AVG/AVG_c_test_X.csv\",index=False)"
   ]
  },
  {
   "cell_type": "code",
   "execution_count": 130,
   "metadata": {},
   "outputs": [],
   "source": [
    "ERA_train_X.to_csv(\"ERA/ERA_c_train_X.csv\",index=False)\n",
    "ERA_test_X.to_csv(\"ERA/ERA_c_test_X.csv\",index=False)"
   ]
  },
  {
   "cell_type": "code",
   "execution_count": null,
   "metadata": {},
   "outputs": [],
   "source": []
  }
 ],
 "metadata": {
  "kernelspec": {
   "display_name": "Python 3",
   "language": "python",
   "name": "python3"
  },
  "language_info": {
   "codemirror_mode": {
    "name": "ipython",
    "version": 3
   },
   "file_extension": ".py",
   "mimetype": "text/x-python",
   "name": "python",
   "nbconvert_exporter": "python",
   "pygments_lexer": "ipython3",
   "version": "3.6.4"
  }
 },
 "nbformat": 4,
 "nbformat_minor": 2
}
